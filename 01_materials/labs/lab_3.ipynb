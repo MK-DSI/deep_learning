{
 "cells": [
  {
   "cell_type": "markdown",
   "metadata": {},
   "source": [
    "# Recommender Systems\n",
    "\n",
    "In this lab, we'll be using Keras to build a recommender system. We'll be using the MovieLens dataset, a common benchmark dataset for recommender systems. \n",
    "\n",
    "MovieLens is a web-based recommender system and virtual community that recommends movies for its users to watch, based on their film preferences using collaborative filtering of members' movie ratings and movie reviews. You can check out the website here: https://movielens.org/\n",
    "\n",
    "We will download a subset of the dataset containing 100k ratings. There are tens of millions of ratings in the full dataset, spanning hundreds of thousands of users and movies. The subset we'll be using is a good example to demonstrate the concepts in this lab."
   ]
  },
  {
   "cell_type": "code",
   "execution_count": 1,
   "metadata": {},
   "outputs": [],
   "source": [
    "%matplotlib inline\n",
    "import matplotlib.pyplot as plt\n",
    "import numpy as np\n",
    "from zipfile import ZipFile\n",
    "from urllib.request import urlretrieve\n",
    "from pathlib import Path\n",
    "\n",
    "ML_100K_URL = \"http://files.grouplens.org/datasets/movielens/ml-100k.zip\"\n",
    "ML_100K_FILENAME = Path(\"ml-100k.zip\")\n",
    "ML_100K_FOLDER = Path(\"ml-100k\")\n",
    "\n",
    "if not ML_100K_FOLDER.exists():\n",
    "    if not ML_100K_FILENAME.exists():\n",
    "        urlretrieve(ML_100K_URL, ML_100K_FILENAME.name)\n",
    "    with ZipFile(ML_100K_FILENAME.name) as zip:\n",
    "        zip.extractall()"
   ]
  },
  {
   "cell_type": "markdown",
   "metadata": {},
   "source": [
    "The goal of MovieLens is to enable models to predict the rating a user would give to a movie they have not yet watched. This is a classic example of a recommendation system. The dataset is huge, and contains many parts giving information about the movies, the users, and the ratings. To begin with, we will look at the ratings file. Each line in the ratings file (u.data) is formatted as:\n",
    "\n",
    "`user_id, item_id, rating, timestamp`\n",
    "\n",
    "Which tells us a single user's rating of a single movie.\n",
    "\n",
    "We will start by loading the ratings data into a pandas dataframe and then take a look at the first few rows. If you haven't used Pandas before, it's an extremely powerful library for dealing with tabular data. You can think of it as a Python version of Excel."
   ]
  },
  {
   "cell_type": "code",
   "execution_count": 2,
   "metadata": {},
   "outputs": [
    {
     "data": {
      "text/html": [
       "<div>\n",
       "<style scoped>\n",
       "    .dataframe tbody tr th:only-of-type {\n",
       "        vertical-align: middle;\n",
       "    }\n",
       "\n",
       "    .dataframe tbody tr th {\n",
       "        vertical-align: top;\n",
       "    }\n",
       "\n",
       "    .dataframe thead th {\n",
       "        text-align: right;\n",
       "    }\n",
       "</style>\n",
       "<table border=\"1\" class=\"dataframe\">\n",
       "  <thead>\n",
       "    <tr style=\"text-align: right;\">\n",
       "      <th></th>\n",
       "      <th>user_id</th>\n",
       "      <th>item_id</th>\n",
       "      <th>rating</th>\n",
       "      <th>timestamp</th>\n",
       "    </tr>\n",
       "  </thead>\n",
       "  <tbody>\n",
       "    <tr>\n",
       "      <th>0</th>\n",
       "      <td>196</td>\n",
       "      <td>242</td>\n",
       "      <td>3</td>\n",
       "      <td>881250949</td>\n",
       "    </tr>\n",
       "    <tr>\n",
       "      <th>1</th>\n",
       "      <td>186</td>\n",
       "      <td>302</td>\n",
       "      <td>3</td>\n",
       "      <td>891717742</td>\n",
       "    </tr>\n",
       "    <tr>\n",
       "      <th>2</th>\n",
       "      <td>22</td>\n",
       "      <td>377</td>\n",
       "      <td>1</td>\n",
       "      <td>878887116</td>\n",
       "    </tr>\n",
       "    <tr>\n",
       "      <th>3</th>\n",
       "      <td>244</td>\n",
       "      <td>51</td>\n",
       "      <td>2</td>\n",
       "      <td>880606923</td>\n",
       "    </tr>\n",
       "    <tr>\n",
       "      <th>4</th>\n",
       "      <td>166</td>\n",
       "      <td>346</td>\n",
       "      <td>1</td>\n",
       "      <td>886397596</td>\n",
       "    </tr>\n",
       "    <tr>\n",
       "      <th>...</th>\n",
       "      <td>...</td>\n",
       "      <td>...</td>\n",
       "      <td>...</td>\n",
       "      <td>...</td>\n",
       "    </tr>\n",
       "    <tr>\n",
       "      <th>99995</th>\n",
       "      <td>880</td>\n",
       "      <td>476</td>\n",
       "      <td>3</td>\n",
       "      <td>880175444</td>\n",
       "    </tr>\n",
       "    <tr>\n",
       "      <th>99996</th>\n",
       "      <td>716</td>\n",
       "      <td>204</td>\n",
       "      <td>5</td>\n",
       "      <td>879795543</td>\n",
       "    </tr>\n",
       "    <tr>\n",
       "      <th>99997</th>\n",
       "      <td>276</td>\n",
       "      <td>1090</td>\n",
       "      <td>1</td>\n",
       "      <td>874795795</td>\n",
       "    </tr>\n",
       "    <tr>\n",
       "      <th>99998</th>\n",
       "      <td>13</td>\n",
       "      <td>225</td>\n",
       "      <td>2</td>\n",
       "      <td>882399156</td>\n",
       "    </tr>\n",
       "    <tr>\n",
       "      <th>99999</th>\n",
       "      <td>12</td>\n",
       "      <td>203</td>\n",
       "      <td>3</td>\n",
       "      <td>879959583</td>\n",
       "    </tr>\n",
       "  </tbody>\n",
       "</table>\n",
       "<p>100000 rows × 4 columns</p>\n",
       "</div>"
      ],
      "text/plain": [
       "       user_id  item_id  rating  timestamp\n",
       "0          196      242       3  881250949\n",
       "1          186      302       3  891717742\n",
       "2           22      377       1  878887116\n",
       "3          244       51       2  880606923\n",
       "4          166      346       1  886397596\n",
       "...        ...      ...     ...        ...\n",
       "99995      880      476       3  880175444\n",
       "99996      716      204       5  879795543\n",
       "99997      276     1090       1  874795795\n",
       "99998       13      225       2  882399156\n",
       "99999       12      203       3  879959583\n",
       "\n",
       "[100000 rows x 4 columns]"
      ]
     },
     "execution_count": 2,
     "metadata": {},
     "output_type": "execute_result"
    }
   ],
   "source": [
    "import pandas as pd\n",
    "\n",
    "raw_ratings = pd.read_csv(ML_100K_FOLDER / \"u.data\", sep='\\t',\n",
    "                          names=[\"user_id\", \"item_id\", \"rating\", \"timestamp\"])\n",
    "raw_ratings"
   ]
  },
  {
   "cell_type": "markdown",
   "metadata": {},
   "source": [
    "The second file we'll look at is the movie metadata. This file (u.item) contains information about each movie, including the title and release date. Each line in the file is formatted as:\n",
    "\n",
    "`movie_id | movie_title | release_date | video_release_date | IMDb_URL | unknown | Action | Adventure | Animation | Children's | Comedy | Crime | Documentary | Drama | Fantasy | Film-Noir | Horror | Musical | Mystery | Romance | Sci-Fi | Thriller | War | Western`\n",
    "\n",
    "As you can see, the genres are binary variables. As with one-hot encoding, a 1 indicates that the movie is of that genre, and a 0 indicates that it is not. We aren't going to work with the genre data in this lab, but it's easy to imagine that it could be useful in a real-world recommendation system."
   ]
  },
  {
   "cell_type": "code",
   "execution_count": 3,
   "metadata": {},
   "outputs": [
    {
     "data": {
      "text/html": [
       "<div>\n",
       "<style scoped>\n",
       "    .dataframe tbody tr th:only-of-type {\n",
       "        vertical-align: middle;\n",
       "    }\n",
       "\n",
       "    .dataframe tbody tr th {\n",
       "        vertical-align: top;\n",
       "    }\n",
       "\n",
       "    .dataframe thead th {\n",
       "        text-align: right;\n",
       "    }\n",
       "</style>\n",
       "<table border=\"1\" class=\"dataframe\">\n",
       "  <thead>\n",
       "    <tr style=\"text-align: right;\">\n",
       "      <th></th>\n",
       "      <th>item_id</th>\n",
       "      <th>title</th>\n",
       "      <th>release_date</th>\n",
       "      <th>video_release_date</th>\n",
       "      <th>imdb_url</th>\n",
       "    </tr>\n",
       "  </thead>\n",
       "  <tbody>\n",
       "    <tr>\n",
       "      <th>0</th>\n",
       "      <td>1</td>\n",
       "      <td>Toy Story (1995)</td>\n",
       "      <td>01-Jan-1995</td>\n",
       "      <td>NaN</td>\n",
       "      <td>http://us.imdb.com/M/title-exact?Toy%20Story%2...</td>\n",
       "    </tr>\n",
       "    <tr>\n",
       "      <th>1</th>\n",
       "      <td>2</td>\n",
       "      <td>GoldenEye (1995)</td>\n",
       "      <td>01-Jan-1995</td>\n",
       "      <td>NaN</td>\n",
       "      <td>http://us.imdb.com/M/title-exact?GoldenEye%20(...</td>\n",
       "    </tr>\n",
       "    <tr>\n",
       "      <th>2</th>\n",
       "      <td>3</td>\n",
       "      <td>Four Rooms (1995)</td>\n",
       "      <td>01-Jan-1995</td>\n",
       "      <td>NaN</td>\n",
       "      <td>http://us.imdb.com/M/title-exact?Four%20Rooms%...</td>\n",
       "    </tr>\n",
       "    <tr>\n",
       "      <th>3</th>\n",
       "      <td>4</td>\n",
       "      <td>Get Shorty (1995)</td>\n",
       "      <td>01-Jan-1995</td>\n",
       "      <td>NaN</td>\n",
       "      <td>http://us.imdb.com/M/title-exact?Get%20Shorty%...</td>\n",
       "    </tr>\n",
       "    <tr>\n",
       "      <th>4</th>\n",
       "      <td>5</td>\n",
       "      <td>Copycat (1995)</td>\n",
       "      <td>01-Jan-1995</td>\n",
       "      <td>NaN</td>\n",
       "      <td>http://us.imdb.com/M/title-exact?Copycat%20(1995)</td>\n",
       "    </tr>\n",
       "    <tr>\n",
       "      <th>...</th>\n",
       "      <td>...</td>\n",
       "      <td>...</td>\n",
       "      <td>...</td>\n",
       "      <td>...</td>\n",
       "      <td>...</td>\n",
       "    </tr>\n",
       "    <tr>\n",
       "      <th>1677</th>\n",
       "      <td>1678</td>\n",
       "      <td>Mat' i syn (1997)</td>\n",
       "      <td>06-Feb-1998</td>\n",
       "      <td>NaN</td>\n",
       "      <td>http://us.imdb.com/M/title-exact?Mat%27+i+syn+...</td>\n",
       "    </tr>\n",
       "    <tr>\n",
       "      <th>1678</th>\n",
       "      <td>1679</td>\n",
       "      <td>B. Monkey (1998)</td>\n",
       "      <td>06-Feb-1998</td>\n",
       "      <td>NaN</td>\n",
       "      <td>http://us.imdb.com/M/title-exact?B%2E+Monkey+(...</td>\n",
       "    </tr>\n",
       "    <tr>\n",
       "      <th>1679</th>\n",
       "      <td>1680</td>\n",
       "      <td>Sliding Doors (1998)</td>\n",
       "      <td>01-Jan-1998</td>\n",
       "      <td>NaN</td>\n",
       "      <td>http://us.imdb.com/Title?Sliding+Doors+(1998)</td>\n",
       "    </tr>\n",
       "    <tr>\n",
       "      <th>1680</th>\n",
       "      <td>1681</td>\n",
       "      <td>You So Crazy (1994)</td>\n",
       "      <td>01-Jan-1994</td>\n",
       "      <td>NaN</td>\n",
       "      <td>http://us.imdb.com/M/title-exact?You%20So%20Cr...</td>\n",
       "    </tr>\n",
       "    <tr>\n",
       "      <th>1681</th>\n",
       "      <td>1682</td>\n",
       "      <td>Scream of Stone (Schrei aus Stein) (1991)</td>\n",
       "      <td>08-Mar-1996</td>\n",
       "      <td>NaN</td>\n",
       "      <td>http://us.imdb.com/M/title-exact?Schrei%20aus%...</td>\n",
       "    </tr>\n",
       "  </tbody>\n",
       "</table>\n",
       "<p>1682 rows × 5 columns</p>\n",
       "</div>"
      ],
      "text/plain": [
       "      item_id                                      title release_date  \\\n",
       "0           1                           Toy Story (1995)  01-Jan-1995   \n",
       "1           2                           GoldenEye (1995)  01-Jan-1995   \n",
       "2           3                          Four Rooms (1995)  01-Jan-1995   \n",
       "3           4                          Get Shorty (1995)  01-Jan-1995   \n",
       "4           5                             Copycat (1995)  01-Jan-1995   \n",
       "...       ...                                        ...          ...   \n",
       "1677     1678                          Mat' i syn (1997)  06-Feb-1998   \n",
       "1678     1679                           B. Monkey (1998)  06-Feb-1998   \n",
       "1679     1680                       Sliding Doors (1998)  01-Jan-1998   \n",
       "1680     1681                        You So Crazy (1994)  01-Jan-1994   \n",
       "1681     1682  Scream of Stone (Schrei aus Stein) (1991)  08-Mar-1996   \n",
       "\n",
       "      video_release_date                                           imdb_url  \n",
       "0                    NaN  http://us.imdb.com/M/title-exact?Toy%20Story%2...  \n",
       "1                    NaN  http://us.imdb.com/M/title-exact?GoldenEye%20(...  \n",
       "2                    NaN  http://us.imdb.com/M/title-exact?Four%20Rooms%...  \n",
       "3                    NaN  http://us.imdb.com/M/title-exact?Get%20Shorty%...  \n",
       "4                    NaN  http://us.imdb.com/M/title-exact?Copycat%20(1995)  \n",
       "...                  ...                                                ...  \n",
       "1677                 NaN  http://us.imdb.com/M/title-exact?Mat%27+i+syn+...  \n",
       "1678                 NaN  http://us.imdb.com/M/title-exact?B%2E+Monkey+(...  \n",
       "1679                 NaN      http://us.imdb.com/Title?Sliding+Doors+(1998)  \n",
       "1680                 NaN  http://us.imdb.com/M/title-exact?You%20So%20Cr...  \n",
       "1681                 NaN  http://us.imdb.com/M/title-exact?Schrei%20aus%...  \n",
       "\n",
       "[1682 rows x 5 columns]"
      ]
     },
     "execution_count": 3,
     "metadata": {},
     "output_type": "execute_result"
    }
   ],
   "source": [
    "columns_to_keep = ['item_id', 'title', 'release_date', 'video_release_date', 'imdb_url']\n",
    "items = pd.read_csv(ML_100K_FOLDER / \"u.item\", sep='|', names=columns_to_keep,\n",
    "                    encoding='latin-1', usecols=range(5))\n",
    "items"
   ]
  },
  {
   "cell_type": "markdown",
   "metadata": {},
   "source": [
    "By default, the `release_date` column is a string. We can convert it to a `datetime` object using the `pd.to_datetime` function. This will make it easier to work with in the future (if we want to do things like check which date came first, for example).\n",
    " \n",
    "We can also extract the year from the date and store it in a separate column. This will make it easier to do things like plot the number of movies released each year."
   ]
  },
  {
   "cell_type": "code",
   "execution_count": 4,
   "metadata": {},
   "outputs": [],
   "source": [
    "items['release_date'] = pd.to_datetime(items['release_date']) # Pandas makes this easy!\n",
    "items['release_year'] = items['release_date'].dt.year # For later use"
   ]
  },
  {
   "cell_type": "markdown",
   "metadata": {},
   "source": [
    "For our purposes, it will be easier to work with the data if we merge our two dataframes into a single dataframe. We can do this using the `merge` method. We'll merge the `items` dataframe into the `raw_ratings` dataframe, using the `item_id` column as the key. This will add the movie title and release year to each rating."
   ]
  },
  {
   "cell_type": "code",
   "execution_count": 5,
   "metadata": {},
   "outputs": [],
   "source": [
    "all_ratings = pd.merge(items, raw_ratings)"
   ]
  },
  {
   "cell_type": "code",
   "execution_count": 6,
   "metadata": {},
   "outputs": [
    {
     "data": {
      "text/html": [
       "<div>\n",
       "<style scoped>\n",
       "    .dataframe tbody tr th:only-of-type {\n",
       "        vertical-align: middle;\n",
       "    }\n",
       "\n",
       "    .dataframe tbody tr th {\n",
       "        vertical-align: top;\n",
       "    }\n",
       "\n",
       "    .dataframe thead th {\n",
       "        text-align: right;\n",
       "    }\n",
       "</style>\n",
       "<table border=\"1\" class=\"dataframe\">\n",
       "  <thead>\n",
       "    <tr style=\"text-align: right;\">\n",
       "      <th></th>\n",
       "      <th>item_id</th>\n",
       "      <th>title</th>\n",
       "      <th>release_date</th>\n",
       "      <th>video_release_date</th>\n",
       "      <th>imdb_url</th>\n",
       "      <th>release_year</th>\n",
       "      <th>user_id</th>\n",
       "      <th>rating</th>\n",
       "      <th>timestamp</th>\n",
       "    </tr>\n",
       "  </thead>\n",
       "  <tbody>\n",
       "    <tr>\n",
       "      <th>0</th>\n",
       "      <td>1</td>\n",
       "      <td>Toy Story (1995)</td>\n",
       "      <td>1995-01-01</td>\n",
       "      <td>NaN</td>\n",
       "      <td>http://us.imdb.com/M/title-exact?Toy%20Story%2...</td>\n",
       "      <td>1995.0</td>\n",
       "      <td>308</td>\n",
       "      <td>4</td>\n",
       "      <td>887736532</td>\n",
       "    </tr>\n",
       "    <tr>\n",
       "      <th>1</th>\n",
       "      <td>1</td>\n",
       "      <td>Toy Story (1995)</td>\n",
       "      <td>1995-01-01</td>\n",
       "      <td>NaN</td>\n",
       "      <td>http://us.imdb.com/M/title-exact?Toy%20Story%2...</td>\n",
       "      <td>1995.0</td>\n",
       "      <td>287</td>\n",
       "      <td>5</td>\n",
       "      <td>875334088</td>\n",
       "    </tr>\n",
       "    <tr>\n",
       "      <th>2</th>\n",
       "      <td>1</td>\n",
       "      <td>Toy Story (1995)</td>\n",
       "      <td>1995-01-01</td>\n",
       "      <td>NaN</td>\n",
       "      <td>http://us.imdb.com/M/title-exact?Toy%20Story%2...</td>\n",
       "      <td>1995.0</td>\n",
       "      <td>148</td>\n",
       "      <td>4</td>\n",
       "      <td>877019411</td>\n",
       "    </tr>\n",
       "    <tr>\n",
       "      <th>3</th>\n",
       "      <td>1</td>\n",
       "      <td>Toy Story (1995)</td>\n",
       "      <td>1995-01-01</td>\n",
       "      <td>NaN</td>\n",
       "      <td>http://us.imdb.com/M/title-exact?Toy%20Story%2...</td>\n",
       "      <td>1995.0</td>\n",
       "      <td>280</td>\n",
       "      <td>4</td>\n",
       "      <td>891700426</td>\n",
       "    </tr>\n",
       "    <tr>\n",
       "      <th>4</th>\n",
       "      <td>1</td>\n",
       "      <td>Toy Story (1995)</td>\n",
       "      <td>1995-01-01</td>\n",
       "      <td>NaN</td>\n",
       "      <td>http://us.imdb.com/M/title-exact?Toy%20Story%2...</td>\n",
       "      <td>1995.0</td>\n",
       "      <td>66</td>\n",
       "      <td>3</td>\n",
       "      <td>883601324</td>\n",
       "    </tr>\n",
       "  </tbody>\n",
       "</table>\n",
       "</div>"
      ],
      "text/plain": [
       "   item_id             title release_date  video_release_date  \\\n",
       "0        1  Toy Story (1995)   1995-01-01                 NaN   \n",
       "1        1  Toy Story (1995)   1995-01-01                 NaN   \n",
       "2        1  Toy Story (1995)   1995-01-01                 NaN   \n",
       "3        1  Toy Story (1995)   1995-01-01                 NaN   \n",
       "4        1  Toy Story (1995)   1995-01-01                 NaN   \n",
       "\n",
       "                                            imdb_url  release_year  user_id  \\\n",
       "0  http://us.imdb.com/M/title-exact?Toy%20Story%2...        1995.0      308   \n",
       "1  http://us.imdb.com/M/title-exact?Toy%20Story%2...        1995.0      287   \n",
       "2  http://us.imdb.com/M/title-exact?Toy%20Story%2...        1995.0      148   \n",
       "3  http://us.imdb.com/M/title-exact?Toy%20Story%2...        1995.0      280   \n",
       "4  http://us.imdb.com/M/title-exact?Toy%20Story%2...        1995.0       66   \n",
       "\n",
       "   rating  timestamp  \n",
       "0       4  887736532  \n",
       "1       5  875334088  \n",
       "2       4  877019411  \n",
       "3       4  891700426  \n",
       "4       3  883601324  "
      ]
     },
     "execution_count": 6,
     "metadata": {},
     "output_type": "execute_result"
    }
   ],
   "source": [
    "all_ratings.head()"
   ]
  },
  {
   "cell_type": "markdown",
   "metadata": {},
   "source": [
    "### Data preprocessing\n",
    "\n",
    "It's always important to understand the data you've collected. Thankfully, Pandas continues to make this easy for us. Using the `describe` method, we can get a quick statistical summary of the data."
   ]
  },
  {
   "cell_type": "code",
   "execution_count": 7,
   "metadata": {},
   "outputs": [
    {
     "data": {
      "text/html": [
       "<div>\n",
       "<style scoped>\n",
       "    .dataframe tbody tr th:only-of-type {\n",
       "        vertical-align: middle;\n",
       "    }\n",
       "\n",
       "    .dataframe tbody tr th {\n",
       "        vertical-align: top;\n",
       "    }\n",
       "\n",
       "    .dataframe thead th {\n",
       "        text-align: right;\n",
       "    }\n",
       "</style>\n",
       "<table border=\"1\" class=\"dataframe\">\n",
       "  <thead>\n",
       "    <tr style=\"text-align: right;\">\n",
       "      <th></th>\n",
       "      <th>item_id</th>\n",
       "      <th>release_date</th>\n",
       "      <th>video_release_date</th>\n",
       "      <th>release_year</th>\n",
       "      <th>user_id</th>\n",
       "      <th>rating</th>\n",
       "      <th>timestamp</th>\n",
       "    </tr>\n",
       "  </thead>\n",
       "  <tbody>\n",
       "    <tr>\n",
       "      <th>count</th>\n",
       "      <td>100000.000000</td>\n",
       "      <td>99991</td>\n",
       "      <td>0.0</td>\n",
       "      <td>99991.000000</td>\n",
       "      <td>100000.00000</td>\n",
       "      <td>100000.000000</td>\n",
       "      <td>1.000000e+05</td>\n",
       "    </tr>\n",
       "    <tr>\n",
       "      <th>mean</th>\n",
       "      <td>425.530130</td>\n",
       "      <td>1988-02-09 00:43:11.369223296</td>\n",
       "      <td>NaN</td>\n",
       "      <td>1987.956216</td>\n",
       "      <td>462.48475</td>\n",
       "      <td>3.529860</td>\n",
       "      <td>8.835289e+08</td>\n",
       "    </tr>\n",
       "    <tr>\n",
       "      <th>min</th>\n",
       "      <td>1.000000</td>\n",
       "      <td>1922-01-01 00:00:00</td>\n",
       "      <td>NaN</td>\n",
       "      <td>1922.000000</td>\n",
       "      <td>1.00000</td>\n",
       "      <td>1.000000</td>\n",
       "      <td>8.747247e+08</td>\n",
       "    </tr>\n",
       "    <tr>\n",
       "      <th>25%</th>\n",
       "      <td>175.000000</td>\n",
       "      <td>1986-01-01 00:00:00</td>\n",
       "      <td>NaN</td>\n",
       "      <td>1986.000000</td>\n",
       "      <td>254.00000</td>\n",
       "      <td>3.000000</td>\n",
       "      <td>8.794487e+08</td>\n",
       "    </tr>\n",
       "    <tr>\n",
       "      <th>50%</th>\n",
       "      <td>322.000000</td>\n",
       "      <td>1994-01-01 00:00:00</td>\n",
       "      <td>NaN</td>\n",
       "      <td>1994.000000</td>\n",
       "      <td>447.00000</td>\n",
       "      <td>4.000000</td>\n",
       "      <td>8.828269e+08</td>\n",
       "    </tr>\n",
       "    <tr>\n",
       "      <th>75%</th>\n",
       "      <td>631.000000</td>\n",
       "      <td>1996-09-28 00:00:00</td>\n",
       "      <td>NaN</td>\n",
       "      <td>1996.000000</td>\n",
       "      <td>682.00000</td>\n",
       "      <td>4.000000</td>\n",
       "      <td>8.882600e+08</td>\n",
       "    </tr>\n",
       "    <tr>\n",
       "      <th>max</th>\n",
       "      <td>1682.000000</td>\n",
       "      <td>1998-10-23 00:00:00</td>\n",
       "      <td>NaN</td>\n",
       "      <td>1998.000000</td>\n",
       "      <td>943.00000</td>\n",
       "      <td>5.000000</td>\n",
       "      <td>8.932866e+08</td>\n",
       "    </tr>\n",
       "    <tr>\n",
       "      <th>std</th>\n",
       "      <td>330.798356</td>\n",
       "      <td>NaN</td>\n",
       "      <td>NaN</td>\n",
       "      <td>14.155523</td>\n",
       "      <td>266.61442</td>\n",
       "      <td>1.125674</td>\n",
       "      <td>5.343856e+06</td>\n",
       "    </tr>\n",
       "  </tbody>\n",
       "</table>\n",
       "</div>"
      ],
      "text/plain": [
       "             item_id                   release_date  video_release_date  \\\n",
       "count  100000.000000                          99991                 0.0   \n",
       "mean      425.530130  1988-02-09 00:43:11.369223296                 NaN   \n",
       "min         1.000000            1922-01-01 00:00:00                 NaN   \n",
       "25%       175.000000            1986-01-01 00:00:00                 NaN   \n",
       "50%       322.000000            1994-01-01 00:00:00                 NaN   \n",
       "75%       631.000000            1996-09-28 00:00:00                 NaN   \n",
       "max      1682.000000            1998-10-23 00:00:00                 NaN   \n",
       "std       330.798356                            NaN                 NaN   \n",
       "\n",
       "       release_year       user_id         rating     timestamp  \n",
       "count  99991.000000  100000.00000  100000.000000  1.000000e+05  \n",
       "mean    1987.956216     462.48475       3.529860  8.835289e+08  \n",
       "min     1922.000000       1.00000       1.000000  8.747247e+08  \n",
       "25%     1986.000000     254.00000       3.000000  8.794487e+08  \n",
       "50%     1994.000000     447.00000       4.000000  8.828269e+08  \n",
       "75%     1996.000000     682.00000       4.000000  8.882600e+08  \n",
       "max     1998.000000     943.00000       5.000000  8.932866e+08  \n",
       "std       14.155523     266.61442       1.125674  5.343856e+06  "
      ]
     },
     "execution_count": 7,
     "metadata": {},
     "output_type": "execute_result"
    }
   ],
   "source": [
    "all_ratings.describe()"
   ]
  },
  {
   "cell_type": "markdown",
   "metadata": {},
   "source": [
    "Let's do a bit more pandas magic to compute the popularity of each movie (number of ratings). We will use the `groupby` method to group the dataframe by the `item_id` column and then use the `size` method to compute the number of ratings for each movie. We will use the `reset_index` method to convert the resulting Series into a dataframe with an `item_id` column."
   ]
  },
  {
   "cell_type": "code",
   "execution_count": 8,
   "metadata": {},
   "outputs": [],
   "source": [
    "popularity = all_ratings.groupby('item_id').size().reset_index(name='popularity')\n",
    "items = pd.merge(popularity, items)"
   ]
  },
  {
   "cell_type": "code",
   "execution_count": 9,
   "metadata": {},
   "outputs": [
    {
     "data": {
      "image/png": "[encoded data removed]",
      "text/plain": [
       "<Figure size 640x480 with 1 Axes>"
      ]
     },
     "metadata": {},
     "output_type": "display_data"
    }
   ],
   "source": [
    "items['popularity'].plot.hist(bins=30);\n",
    "\n",
    "#long tail"
   ]
  },
  {
   "cell_type": "code",
   "execution_count": 10,
   "metadata": {},
   "outputs": [
    {
     "data": {
      "text/plain": [
       "141"
      ]
     },
     "execution_count": 10,
     "metadata": {},
     "output_type": "execute_result"
    }
   ],
   "source": [
    "(items['popularity'] == 1).sum() # Number of movies with only one rating"
   ]
  },
  {
   "cell_type": "code",
   "execution_count": 11,
   "metadata": {},
   "outputs": [
    {
     "data": {
      "text/plain": [
       "49                  Star Wars (1977)\n",
       "257                   Contact (1997)\n",
       "99                      Fargo (1996)\n",
       "180        Return of the Jedi (1983)\n",
       "293                 Liar Liar (1997)\n",
       "285      English Patient, The (1996)\n",
       "287                    Scream (1996)\n",
       "0                   Toy Story (1995)\n",
       "299             Air Force One (1997)\n",
       "120    Independence Day (ID4) (1996)\n",
       "Name: title, dtype: object"
      ]
     },
     "execution_count": 11,
     "metadata": {},
     "output_type": "execute_result"
    }
   ],
   "source": [
    "items.nlargest(10, 'popularity')['title'] # Get the 10 most popular movies"
   ]
  },
  {
   "cell_type": "code",
   "execution_count": 12,
   "metadata": {},
   "outputs": [
    {
     "data": {
      "text/html": [
       "<div>\n",
       "<style scoped>\n",
       "    .dataframe tbody tr th:only-of-type {\n",
       "        vertical-align: middle;\n",
       "    }\n",
       "\n",
       "    .dataframe tbody tr th {\n",
       "        vertical-align: top;\n",
       "    }\n",
       "\n",
       "    .dataframe thead th {\n",
       "        text-align: right;\n",
       "    }\n",
       "</style>\n",
       "<table border=\"1\" class=\"dataframe\">\n",
       "  <thead>\n",
       "    <tr style=\"text-align: right;\">\n",
       "      <th></th>\n",
       "      <th>item_id</th>\n",
       "      <th>popularity</th>\n",
       "      <th>release_date</th>\n",
       "      <th>video_release_date</th>\n",
       "      <th>release_year</th>\n",
       "      <th>user_id</th>\n",
       "      <th>rating</th>\n",
       "      <th>timestamp</th>\n",
       "    </tr>\n",
       "  </thead>\n",
       "  <tbody>\n",
       "    <tr>\n",
       "      <th>count</th>\n",
       "      <td>100000.000000</td>\n",
       "      <td>100000.000000</td>\n",
       "      <td>99991</td>\n",
       "      <td>0.0</td>\n",
       "      <td>99991.000000</td>\n",
       "      <td>100000.00000</td>\n",
       "      <td>100000.000000</td>\n",
       "      <td>1.000000e+05</td>\n",
       "    </tr>\n",
       "    <tr>\n",
       "      <th>mean</th>\n",
       "      <td>425.530130</td>\n",
       "      <td>168.071900</td>\n",
       "      <td>1988-02-09 00:43:11.369223296</td>\n",
       "      <td>NaN</td>\n",
       "      <td>1987.956216</td>\n",
       "      <td>462.48475</td>\n",
       "      <td>3.529860</td>\n",
       "      <td>8.835289e+08</td>\n",
       "    </tr>\n",
       "    <tr>\n",
       "      <th>min</th>\n",
       "      <td>1.000000</td>\n",
       "      <td>1.000000</td>\n",
       "      <td>1922-01-01 00:00:00</td>\n",
       "      <td>NaN</td>\n",
       "      <td>1922.000000</td>\n",
       "      <td>1.00000</td>\n",
       "      <td>1.000000</td>\n",
       "      <td>8.747247e+08</td>\n",
       "    </tr>\n",
       "    <tr>\n",
       "      <th>25%</th>\n",
       "      <td>175.000000</td>\n",
       "      <td>71.000000</td>\n",
       "      <td>1986-01-01 00:00:00</td>\n",
       "      <td>NaN</td>\n",
       "      <td>1986.000000</td>\n",
       "      <td>254.00000</td>\n",
       "      <td>3.000000</td>\n",
       "      <td>8.794487e+08</td>\n",
       "    </tr>\n",
       "    <tr>\n",
       "      <th>50%</th>\n",
       "      <td>322.000000</td>\n",
       "      <td>145.000000</td>\n",
       "      <td>1994-01-01 00:00:00</td>\n",
       "      <td>NaN</td>\n",
       "      <td>1994.000000</td>\n",
       "      <td>447.00000</td>\n",
       "      <td>4.000000</td>\n",
       "      <td>8.828269e+08</td>\n",
       "    </tr>\n",
       "    <tr>\n",
       "      <th>75%</th>\n",
       "      <td>631.000000</td>\n",
       "      <td>239.000000</td>\n",
       "      <td>1996-09-28 00:00:00</td>\n",
       "      <td>NaN</td>\n",
       "      <td>1996.000000</td>\n",
       "      <td>682.00000</td>\n",
       "      <td>4.000000</td>\n",
       "      <td>8.882600e+08</td>\n",
       "    </tr>\n",
       "    <tr>\n",
       "      <th>max</th>\n",
       "      <td>1682.000000</td>\n",
       "      <td>583.000000</td>\n",
       "      <td>1998-10-23 00:00:00</td>\n",
       "      <td>NaN</td>\n",
       "      <td>1998.000000</td>\n",
       "      <td>943.00000</td>\n",
       "      <td>5.000000</td>\n",
       "      <td>8.932866e+08</td>\n",
       "    </tr>\n",
       "    <tr>\n",
       "      <th>std</th>\n",
       "      <td>330.798356</td>\n",
       "      <td>121.784558</td>\n",
       "      <td>NaN</td>\n",
       "      <td>NaN</td>\n",
       "      <td>14.155523</td>\n",
       "      <td>266.61442</td>\n",
       "      <td>1.125674</td>\n",
       "      <td>5.343856e+06</td>\n",
       "    </tr>\n",
       "  </tbody>\n",
       "</table>\n",
       "</div>"
      ],
      "text/plain": [
       "             item_id     popularity                   release_date  \\\n",
       "count  100000.000000  100000.000000                          99991   \n",
       "mean      425.530130     168.071900  1988-02-09 00:43:11.369223296   \n",
       "min         1.000000       1.000000            1922-01-01 00:00:00   \n",
       "25%       175.000000      71.000000            1986-01-01 00:00:00   \n",
       "50%       322.000000     145.000000            1994-01-01 00:00:00   \n",
       "75%       631.000000     239.000000            1996-09-28 00:00:00   \n",
       "max      1682.000000     583.000000            1998-10-23 00:00:00   \n",
       "std       330.798356     121.784558                            NaN   \n",
       "\n",
       "       video_release_date  release_year       user_id         rating  \\\n",
       "count                 0.0  99991.000000  100000.00000  100000.000000   \n",
       "mean                  NaN   1987.956216     462.48475       3.529860   \n",
       "min                   NaN   1922.000000       1.00000       1.000000   \n",
       "25%                   NaN   1986.000000     254.00000       3.000000   \n",
       "50%                   NaN   1994.000000     447.00000       4.000000   \n",
       "75%                   NaN   1996.000000     682.00000       4.000000   \n",
       "max                   NaN   1998.000000     943.00000       5.000000   \n",
       "std                   NaN     14.155523     266.61442       1.125674   \n",
       "\n",
       "          timestamp  \n",
       "count  1.000000e+05  \n",
       "mean   8.835289e+08  \n",
       "min    8.747247e+08  \n",
       "25%    8.794487e+08  \n",
       "50%    8.828269e+08  \n",
       "75%    8.882600e+08  \n",
       "max    8.932866e+08  \n",
       "std    5.343856e+06  "
      ]
     },
     "execution_count": 12,
     "metadata": {},
     "output_type": "execute_result"
    }
   ],
   "source": [
    "all_ratings = pd.merge(popularity, all_ratings)\n",
    "all_ratings.describe()"
   ]
  },
  {
   "cell_type": "code",
   "execution_count": 15,
   "metadata": {
    "collapsed": false
   },
   "outputs": [],
   "source": [
    "indexed_items = items.set_index('item_id')"
   ]
  },
  {
   "cell_type": "code",
   "execution_count": 16,
   "metadata": {},
   "outputs": [
    {
     "data": {
      "text/html": [
       "<div>\n",
       "<style scoped>\n",
       "    .dataframe tbody tr th:only-of-type {\n",
       "        vertical-align: middle;\n",
       "    }\n",
       "\n",
       "    .dataframe tbody tr th {\n",
       "        vertical-align: top;\n",
       "    }\n",
       "\n",
       "    .dataframe thead th {\n",
       "        text-align: right;\n",
       "    }\n",
       "</style>\n",
       "<table border=\"1\" class=\"dataframe\">\n",
       "  <thead>\n",
       "    <tr style=\"text-align: right;\">\n",
       "      <th></th>\n",
       "      <th>item_id</th>\n",
       "      <th>popularity</th>\n",
       "      <th>title</th>\n",
       "      <th>release_date</th>\n",
       "      <th>video_release_date</th>\n",
       "      <th>imdb_url</th>\n",
       "      <th>release_year</th>\n",
       "      <th>user_id</th>\n",
       "      <th>rating</th>\n",
       "      <th>timestamp</th>\n",
       "    </tr>\n",
       "  </thead>\n",
       "  <tbody>\n",
       "    <tr>\n",
       "      <th>0</th>\n",
       "      <td>1</td>\n",
       "      <td>452</td>\n",
       "      <td>Toy Story (1995)</td>\n",
       "      <td>1995-01-01</td>\n",
       "      <td>NaN</td>\n",
       "      <td>http://us.imdb.com/M/title-exact?Toy%20Story%2...</td>\n",
       "      <td>1995.0</td>\n",
       "      <td>308</td>\n",
       "      <td>4</td>\n",
       "      <td>887736532</td>\n",
       "    </tr>\n",
       "    <tr>\n",
       "      <th>1</th>\n",
       "      <td>1</td>\n",
       "      <td>452</td>\n",
       "      <td>Toy Story (1995)</td>\n",
       "      <td>1995-01-01</td>\n",
       "      <td>NaN</td>\n",
       "      <td>http://us.imdb.com/M/title-exact?Toy%20Story%2...</td>\n",
       "      <td>1995.0</td>\n",
       "      <td>287</td>\n",
       "      <td>5</td>\n",
       "      <td>875334088</td>\n",
       "    </tr>\n",
       "    <tr>\n",
       "      <th>2</th>\n",
       "      <td>1</td>\n",
       "      <td>452</td>\n",
       "      <td>Toy Story (1995)</td>\n",
       "      <td>1995-01-01</td>\n",
       "      <td>NaN</td>\n",
       "      <td>http://us.imdb.com/M/title-exact?Toy%20Story%2...</td>\n",
       "      <td>1995.0</td>\n",
       "      <td>148</td>\n",
       "      <td>4</td>\n",
       "      <td>877019411</td>\n",
       "    </tr>\n",
       "    <tr>\n",
       "      <th>3</th>\n",
       "      <td>1</td>\n",
       "      <td>452</td>\n",
       "      <td>Toy Story (1995)</td>\n",
       "      <td>1995-01-01</td>\n",
       "      <td>NaN</td>\n",
       "      <td>http://us.imdb.com/M/title-exact?Toy%20Story%2...</td>\n",
       "      <td>1995.0</td>\n",
       "      <td>280</td>\n",
       "      <td>4</td>\n",
       "      <td>891700426</td>\n",
       "    </tr>\n",
       "    <tr>\n",
       "      <th>4</th>\n",
       "      <td>1</td>\n",
       "      <td>452</td>\n",
       "      <td>Toy Story (1995)</td>\n",
       "      <td>1995-01-01</td>\n",
       "      <td>NaN</td>\n",
       "      <td>http://us.imdb.com/M/title-exact?Toy%20Story%2...</td>\n",
       "      <td>1995.0</td>\n",
       "      <td>66</td>\n",
       "      <td>3</td>\n",
       "      <td>883601324</td>\n",
       "    </tr>\n",
       "  </tbody>\n",
       "</table>\n",
       "</div>"
      ],
      "text/plain": [
       "   item_id  popularity             title release_date  video_release_date  \\\n",
       "0        1         452  Toy Story (1995)   1995-01-01                 NaN   \n",
       "1        1         452  Toy Story (1995)   1995-01-01                 NaN   \n",
       "2        1         452  Toy Story (1995)   1995-01-01                 NaN   \n",
       "3        1         452  Toy Story (1995)   1995-01-01                 NaN   \n",
       "4        1         452  Toy Story (1995)   1995-01-01                 NaN   \n",
       "\n",
       "                                            imdb_url  release_year  user_id  \\\n",
       "0  http://us.imdb.com/M/title-exact?Toy%20Story%2...        1995.0      308   \n",
       "1  http://us.imdb.com/M/title-exact?Toy%20Story%2...        1995.0      287   \n",
       "2  http://us.imdb.com/M/title-exact?Toy%20Story%2...        1995.0      148   \n",
       "3  http://us.imdb.com/M/title-exact?Toy%20Story%2...        1995.0      280   \n",
       "4  http://us.imdb.com/M/title-exact?Toy%20Story%2...        1995.0       66   \n",
       "\n",
       "   rating  timestamp  \n",
       "0       4  887736532  \n",
       "1       5  875334088  \n",
       "2       4  877019411  \n",
       "3       4  891700426  \n",
       "4       3  883601324  "
      ]
     },
     "execution_count": 16,
     "metadata": {},
     "output_type": "execute_result"
    }
   ],
   "source": [
    "all_ratings.head()"
   ]
  },
  {
   "cell_type": "markdown",
   "metadata": {
    "collapsed": false
   },
   "source": [
    "**Quick Exercise**:\n",
    "\n",
    "As we have seen, the `groupby` method is a powerful tool to quickly compute statistics on the data. Use it to compute the average rating for each movie.\n",
    "\n",
    "**Hint**: you can use the `mean` method after the `groupby` method."
   ]
  },
  {
   "cell_type": "code",
   "execution_count": 17,
   "metadata": {
    "collapsed": false
   },
   "outputs": [
    {
     "data": {
      "text/plain": [
       "title\n",
       "'Til There Was You (1997)                2.333333\n",
       "1-900 (1994)                             2.600000\n",
       "101 Dalmatians (1996)                    2.908257\n",
       "12 Angry Men (1957)                      4.344000\n",
       "187 (1997)                               3.024390\n",
       "                                           ...   \n",
       "Young Guns II (1990)                     2.772727\n",
       "Young Poisoner's Handbook, The (1995)    3.341463\n",
       "Zeus and Roxanne (1997)                  2.166667\n",
       "unknown                                  3.444444\n",
       "Á köldum klaka (Cold Fever) (1994)       3.000000\n",
       "Name: rating, Length: 1664, dtype: float64"
      ]
     },
     "execution_count": 17,
     "metadata": {},
     "output_type": "execute_result"
    }
   ],
   "source": [
    "# Your code here\n",
    "all_ratings.groupby('title')['rating'].mean()"
   ]
  },
  {
   "cell_type": "markdown",
   "metadata": {},
   "source": [
    "Let's split the enriched data in a train / test split to make it possible to do predictive modeling:"
   ]
  },
  {
   "cell_type": "code",
   "execution_count": 18,
   "metadata": {},
   "outputs": [],
   "source": [
    "from sklearn.model_selection import train_test_split\n",
    "\n",
    "ratings_train, ratings_test = train_test_split(\n",
    "    all_ratings, test_size=0.2, random_state=0)\n",
    "\n",
    "user_id_train = np.array(ratings_train['user_id'])\n",
    "item_id_train = np.array(ratings_train['item_id'])\n",
    "rating_train = np.array(ratings_train['rating'])\n",
    "\n",
    "user_id_test = np.array(ratings_test['user_id'])\n",
    "item_id_test = np.array(ratings_test['item_id'])\n",
    "rating_test = np.array(ratings_test['rating'])"
   ]
  },
  {
   "cell_type": "markdown",
   "metadata": {},
   "source": [
    "# Explicit feedback: supervised ratings prediction\n",
    "\n",
    "Now let's begin to do some recommendation! We will build a model that takes a user and a movie as input and outputs a predicted rating. We will be taking advantage of embeddings to represent users and movies. That means that each movie and user will have an abstract representation in a continuous vector space. The model will learn these representations based on the ratings."
   ]
  },
  {
   "cell_type": "markdown",
   "metadata": {},
   "source": [
    "## Predictive ratings  as a regression problem\n",
    "\n",
    "The following code implements the following architecture:\n",
    "\n",
    "<img src=\"https://raw.githubusercontent.com/UofT-DSI/deep_learning/main/notebooks/images/rec_archi_1.svg\" style=\"width: 600px;\" />"
   ]
  },
  {
   "cell_type": "code",
   "execution_count": 22,
   "metadata": {},
   "outputs": [],
   "source": [
    "from tensorflow.keras.layers import Embedding, Flatten, Dense, Dropout\n",
    "from tensorflow.keras.layers import Dot\n",
    "from tensorflow.keras.models import Model"
   ]
  },
  {
   "cell_type": "code",
   "execution_count": 23,
   "metadata": {},
   "outputs": [],
   "source": [
    "# For each sample we input the integer identifiers\n",
    "# of a single user and a single item\n",
    "class RegressionModel(Model):\n",
    "    def __init__(self, embedding_size, max_user_id, max_item_id):\n",
    "        super().__init__()\n",
    "        \n",
    "        self.user_embedding = Embedding(output_dim=embedding_size,\n",
    "                                        input_dim=max_user_id + 1,\n",
    "                                        input_length=1,\n",
    "                                        name='user_embedding')\n",
    "        self.item_embedding = Embedding(output_dim=embedding_size,\n",
    "                                        input_dim=max_item_id + 1,\n",
    "                                        input_length=1,\n",
    "                                        name='item_embedding')\n",
    "        \n",
    "        # The following two layers don't have parameters.\n",
    "        self.flatten = Flatten()\n",
    "        self.dot = Dot(axes=1)\n",
    "        \n",
    "    def call(self, inputs):\n",
    "        user_inputs = inputs[0]\n",
    "        item_inputs = inputs[1]\n",
    "        \n",
    "        user_vecs = self.flatten(self.user_embedding(user_inputs))\n",
    "        item_vecs = self.flatten(self.item_embedding(item_inputs))\n",
    "        \n",
    "        y = self.dot([user_vecs, item_vecs])\n",
    "        return y\n",
    "\n",
    "\n",
    "model = RegressionModel(embedding_size=64, max_user_id=all_ratings['user_id'].max(), max_item_id=all_ratings['item_id'].max())\n",
    "model.compile(optimizer=\"adam\", loss='mae')"
   ]
  },
  {
   "cell_type": "markdown",
   "metadata": {},
   "source": [
    "### Monitoring runs\n",
    "\n",
    "When training a model with Keras, we get a `history` object back that contains lots of information about the training run. We can use this to plot the training and validation loss to see how the model has improved during training."
   ]
  },
  {
   "cell_type": "code",
   "execution_count": 24,
   "metadata": {},
   "outputs": [
    {
     "name": "stdout",
     "output_type": "stream",
     "text": [
      "Epoch 1/10\n",
      "1125/1125 [==============================] - 4s 3ms/step - loss: 2.6515 - val_loss: 1.0453\n",
      "Epoch 2/10\n",
      "1125/1125 [==============================] - 3s 2ms/step - loss: 0.8496 - val_loss: 0.7930\n",
      "Epoch 3/10\n",
      "1125/1125 [==============================] - 3s 2ms/step - loss: 0.7565 - val_loss: 0.7701\n",
      "Epoch 4/10\n",
      "1125/1125 [==============================] - 3s 3ms/step - loss: 0.7330 - val_loss: 0.7585\n",
      "Epoch 5/10\n",
      "1125/1125 [==============================] - 3s 2ms/step - loss: 0.7128 - val_loss: 0.7547\n",
      "Epoch 6/10\n",
      "1125/1125 [==============================] - 2s 2ms/step - loss: 0.6934 - val_loss: 0.7480\n",
      "Epoch 7/10\n",
      "1125/1125 [==============================] - 3s 2ms/step - loss: 0.6724 - val_loss: 0.7420\n",
      "Epoch 8/10\n",
      "1125/1125 [==============================] - 3s 2ms/step - loss: 0.6521 - val_loss: 0.7432\n",
      "Epoch 9/10\n",
      "1125/1125 [==============================] - 3s 2ms/step - loss: 0.6298 - val_loss: 0.7427\n",
      "Epoch 10/10\n",
      "1125/1125 [==============================] - 3s 3ms/step - loss: 0.6063 - val_loss: 0.7415\n",
      "CPU times: total: 13.1 s\n",
      "Wall time: 27.8 s\n"
     ]
    }
   ],
   "source": [
    "%%time\n",
    "\n",
    "# Training the model\n",
    "history = model.fit([user_id_train, item_id_train], rating_train,\n",
    "                    batch_size=64, epochs=10, validation_split=0.1,\n",
    "                    shuffle=True)"
   ]
  },
  {
   "cell_type": "code",
   "execution_count": 25,
   "metadata": {},
   "outputs": [
    {
     "data": {
      "image/png": "[encoded data removed]",
      "text/plain": [
       "<Figure size 640x480 with 1 Axes>"
      ]
     },
     "metadata": {},
     "output_type": "display_data"
    }
   ],
   "source": [
    "plt.plot(history.history['loss'], label='train')\n",
    "plt.plot(history.history['val_loss'], label='validation')\n",
    "plt.ylim(0, 2)\n",
    "plt.legend(loc='best')\n",
    "plt.title('Loss');"
   ]
  },
  {
   "cell_type": "markdown",
   "metadata": {},
   "source": [
    "**Questions**:\n",
    "\n",
    "- Does it look like our model has overfit? Why or why not?\n",
    "- Suggest something we could do to prevent overfitting.\n",
    "\n",
    "\n",
    "Now that the model is trained, let's check out the quality of predictions:"
   ]
  },
  {
   "cell_type": "code",
   "execution_count": 26,
   "metadata": {},
   "outputs": [],
   "source": [
    "def plot_predictions(y_true, y_pred):\n",
    "    plt.figure(figsize=(4, 4))\n",
    "    plt.xlim(-1, 6)\n",
    "    plt.xlabel(\"True rating\")\n",
    "    plt.ylim(-1, 6)\n",
    "    plt.ylabel(\"Predicted rating\")\n",
    "    plt.scatter(y_true, y_pred, s=60, alpha=0.01)"
   ]
  },
  {
   "cell_type": "code",
   "execution_count": 27,
   "metadata": {},
   "outputs": [
    {
     "name": "stdout",
     "output_type": "stream",
     "text": [
      "625/625 [==============================] - 1s 1ms/step\n",
      "Final test MSE: 0.899\n",
      "Final test MAE: 0.733\n"
     ]
    },
    {
     "data": {
      "image/png": "[encoded data removed]",
      "text/plain": [
       "<Figure size 400x400 with 1 Axes>"
      ]
     },
     "metadata": {},
     "output_type": "display_data"
    }
   ],
   "source": [
    "from sklearn.metrics import mean_squared_error\n",
    "from sklearn.metrics import mean_absolute_error\n",
    "\n",
    "test_preds = model.predict([user_id_test, item_id_test])\n",
    "print(\"Final test MSE: %0.3f\" % mean_squared_error(test_preds, rating_test))\n",
    "print(\"Final test MAE: %0.3f\" % mean_absolute_error(test_preds, rating_test))\n",
    "plot_predictions(rating_test, test_preds)"
   ]
  },
  {
   "cell_type": "markdown",
   "metadata": {
    "collapsed": false
   },
   "source": [
    "This graph shows us the range of predicted ratings our model gives, organized by the true rating. We can see that generally, the higher the true rating the higher the predicted rating, although there is quite a range of predictions for each instance. That's okay - our model is very simple, and human preferences are very complex!\n",
    "\n",
    "Taking a look at the Mean Absolute Error, hopefully you got something around 0.75. This means that, on average, our predicted ratings are about 0.75 stars off from the true ratings. This is a pretty good result for a first attempt. We could probably do better with a more complex model, but we'll leave that for another time."
   ]
  },
  {
   "cell_type": "markdown",
   "metadata": {},
   "source": [
    "### Model Embeddings\n",
    "\n",
    "Our model was built with two embedding layers. These layers have learned a representation of both the users and the movies in our dataset. We can extract these representations and use them to find similar movies or users. We can also do interesting exploratory analysis, like finding the most popular movies among our users, or finding the users that are most interested in a given movie."
   ]
  },
  {
   "cell_type": "code",
   "execution_count": 28,
   "metadata": {},
   "outputs": [
    {
     "data": {
      "text/plain": [
       "[(944, 64), (1683, 64)]"
      ]
     },
     "execution_count": 28,
     "metadata": {},
     "output_type": "execute_result"
    }
   ],
   "source": [
    "# weights and shape\n",
    "weights = model.get_weights()\n",
    "[w.shape for w in weights]"
   ]
  },
  {
   "cell_type": "code",
   "execution_count": 29,
   "metadata": {},
   "outputs": [],
   "source": [
    "user_embeddings = weights[0]\n",
    "item_embeddings = weights[1]"
   ]
  },
  {
   "cell_type": "code",
   "execution_count": 30,
   "metadata": {},
   "outputs": [
    {
     "name": "stdout",
     "output_type": "stream",
     "text": [
      "Title for item_id=181: Return of the Jedi (1983)\n"
     ]
    }
   ],
   "source": [
    "item_id = 181\n",
    "print(f\"Title for item_id={item_id}: {indexed_items['title'][item_id]}\")"
   ]
  },
  {
   "cell_type": "code",
   "execution_count": 31,
   "metadata": {},
   "outputs": [
    {
     "name": "stdout",
     "output_type": "stream",
     "text": [
      "Embedding vector for item_id=181\n",
      "[ 0.4025176  -0.5453174   0.2538567   0.42132902  0.14560786  0.31249392\n",
      " -0.35885713  0.4784186  -0.19110313  0.03873024 -0.00584743 -0.00691658\n",
      " -0.24300066  0.08688099  0.18016116 -0.50810206 -0.29222736  0.4284643\n",
      " -0.26134592 -0.21394834 -0.17539039 -0.7526443  -0.3615276   0.4959154\n",
      "  0.3559202   0.30378255  0.26938355 -0.22080581  0.36254454 -0.43989226\n",
      " -0.15596531  0.41090843 -0.2987575  -0.27717724 -0.21484709  0.21276022\n",
      "  0.34132275 -0.29844666 -0.35594863  0.4876975   0.37351578 -0.29949474\n",
      " -0.305826    0.20574489 -0.40104556  0.31927085  0.21087703  0.02068106\n",
      "  0.04628801 -0.33995655  0.15717027  0.25430447 -0.23181109  0.33492005\n",
      "  0.13848425  0.37659067 -0.0080515  -0.3431103  -0.1729701  -0.40359384\n",
      "  0.3579699   0.24960239 -0.37845615 -0.48884228]\n",
      "shape: (64,)\n"
     ]
    }
   ],
   "source": [
    "print(f\"Embedding vector for item_id={item_id}\")\n",
    "print(item_embeddings[item_id])\n",
    "print(\"shape:\", item_embeddings[item_id].shape)"
   ]
  },
  {
   "cell_type": "markdown",
   "metadata": {
    "collapsed": false
   },
   "source": [
    "As we discussed in lecture, our embeddings are not directly interpretable - we can't look at, say, a value of 0.297 in the embedding vector and say \"this means that the movie is a drama\". As an aside, there is a field of research dedicated to making _interpretable_ embeddings, but it's not something we'll cover in this course. "
   ]
  },
  {
   "cell_type": "markdown",
   "metadata": {},
   "source": [
    "### Finding our most similar items\n",
    "\n",
    "Now we can have some fun, investigating the embeddings we've learned. We can start by finding the most similar items to a given item. We can do this by computing the cosine similarity between the item's embedding and the embedding of every other item. We can use the `cosine_similarity` function from `sklearn` to do this."
   ]
  },
  {
   "cell_type": "code",
   "execution_count": 32,
   "metadata": {
    "collapsed": false
   },
   "outputs": [],
   "source": [
    "from sklearn.metrics.pairwise import cosine_similarity\n",
    "\n",
    "def cosine(a, b):\n",
    "    # Reshape to the shape our function expects\n",
    "    a = a.reshape(1, -1)\n",
    "    b = b.reshape(1, -1)\n",
    "    return cosine_similarity(a, b)[0, 0]"
   ]
  },
  {
   "cell_type": "code",
   "execution_count": 33,
   "metadata": {},
   "outputs": [
    {
     "name": "stdout",
     "output_type": "stream",
     "text": [
      "Star Wars (1977)\n",
      "Return of the Jedi (1983)\n",
      "Cosine similarity: 0.911\n"
     ]
    }
   ],
   "source": [
    "def print_similarity(item_a, item_b, item_embeddings, titles):\n",
    "    print(titles[item_a])\n",
    "    print(titles[item_b])\n",
    "    similarity = cosine(item_embeddings[item_a],\n",
    "                        item_embeddings[item_b])\n",
    "    print(f\"Cosine similarity: {similarity:.3}\")\n",
    "    \n",
    "print_similarity(50, 181, item_embeddings, indexed_items[\"title\"])"
   ]
  },
  {
   "cell_type": "markdown",
   "metadata": {
    "collapsed": false
   },
   "source": [
    "It makes sense that the original Star Wars, and its later sequel Return of the Jedi have a high similarity. Let's try some other examples:"
   ]
  },
  {
   "cell_type": "code",
   "execution_count": 34,
   "metadata": {},
   "outputs": [
    {
     "name": "stdout",
     "output_type": "stream",
     "text": [
      "Return of the Jedi (1983)\n",
      "Scream (1996)\n",
      "Cosine similarity: 0.742\n"
     ]
    }
   ],
   "source": [
    "print_similarity(181, 288, item_embeddings, indexed_items[\"title\"])"
   ]
  },
  {
   "cell_type": "code",
   "execution_count": 35,
   "metadata": {},
   "outputs": [
    {
     "name": "stdout",
     "output_type": "stream",
     "text": [
      "Return of the Jedi (1983)\n",
      "Toy Story (1995)\n",
      "Cosine similarity: 0.835\n"
     ]
    }
   ],
   "source": [
    "print_similarity(181, 1, item_embeddings, indexed_items[\"title\"])"
   ]
  },
  {
   "cell_type": "code",
   "execution_count": 36,
   "metadata": {},
   "outputs": [
    {
     "name": "stdout",
     "output_type": "stream",
     "text": [
      "Return of the Jedi (1983)\n",
      "Return of the Jedi (1983)\n",
      "Cosine similarity: 1.0\n"
     ]
    }
   ],
   "source": [
    "print_similarity(181, 181, item_embeddings, indexed_items[\"title\"])"
   ]
  },
  {
   "cell_type": "markdown",
   "metadata": {
    "collapsed": false
   },
   "source": [
    "*Quick Exercise*:\n",
    "\n",
    "- Find some other films and compare their similarity. Do the results make sense to you? Can you find a pair of films that are very _dissimilar_?"
   ]
  },
  {
   "cell_type": "code",
   "execution_count": 40,
   "metadata": {
    "collapsed": false
   },
   "outputs": [
    {
     "data": {
      "text/html": [
       "<div>\n",
       "<style scoped>\n",
       "    .dataframe tbody tr th:only-of-type {\n",
       "        vertical-align: middle;\n",
       "    }\n",
       "\n",
       "    .dataframe tbody tr th {\n",
       "        vertical-align: top;\n",
       "    }\n",
       "\n",
       "    .dataframe thead th {\n",
       "        text-align: right;\n",
       "    }\n",
       "</style>\n",
       "<table border=\"1\" class=\"dataframe\">\n",
       "  <thead>\n",
       "    <tr style=\"text-align: right;\">\n",
       "      <th></th>\n",
       "      <th>popularity</th>\n",
       "      <th>title</th>\n",
       "      <th>release_date</th>\n",
       "      <th>video_release_date</th>\n",
       "      <th>imdb_url</th>\n",
       "      <th>release_year</th>\n",
       "    </tr>\n",
       "    <tr>\n",
       "      <th>item_id</th>\n",
       "      <th></th>\n",
       "      <th></th>\n",
       "      <th></th>\n",
       "      <th></th>\n",
       "      <th></th>\n",
       "      <th></th>\n",
       "    </tr>\n",
       "  </thead>\n",
       "  <tbody>\n",
       "    <tr>\n",
       "      <th>313</th>\n",
       "      <td>350</td>\n",
       "      <td>Titanic (1997)</td>\n",
       "      <td>1997-01-01</td>\n",
       "      <td>NaN</td>\n",
       "      <td>http://us.imdb.com/M/title-exact?imdb-title-12...</td>\n",
       "      <td>1997.0</td>\n",
       "    </tr>\n",
       "  </tbody>\n",
       "</table>\n",
       "</div>"
      ],
      "text/plain": [
       "         popularity           title release_date  video_release_date  \\\n",
       "item_id                                                                \n",
       "313             350  Titanic (1997)   1997-01-01                 NaN   \n",
       "\n",
       "                                                  imdb_url  release_year  \n",
       "item_id                                                                   \n",
       "313      http://us.imdb.com/M/title-exact?imdb-title-12...        1997.0  "
      ]
     },
     "execution_count": 40,
     "metadata": {},
     "output_type": "execute_result"
    }
   ],
   "source": [
    "# Code to help you search for a movie title\n",
    "partial_title = \"Titanic\"\n",
    "indexed_items[indexed_items['title'].str.contains(partial_title)]\n",
    "\n",
    "# Your code here"
   ]
  },
  {
   "cell_type": "code",
   "execution_count": null,
   "metadata": {},
   "outputs": [
    {
     "name": "stdout",
     "output_type": "stream",
     "text": [
      "Beat the Devil (1954)\n",
      "Stupids, The (1996)\n",
      "Cosine similarity: 0.47\n"
     ]
    }
   ],
   "source": [
    "print_similarity(1456, 1001, item_embeddings, indexed_items[\"title\"])\n",
    "\n",
    "#The following movies are dissimilar based on the cosine similarity below 0.5"
   ]
  },
  {
   "cell_type": "markdown",
   "metadata": {
    "collapsed": false
   },
   "source": [
    "Sometimes, even without knowing anything about a user, we can recommend films by asking them about a film that they do like. The code below compares the similarity of a given film to all others, and returns the most similar films."
   ]
  },
  {
   "cell_type": "code",
   "execution_count": 83,
   "metadata": {},
   "outputs": [
    {
     "data": {
      "text/plain": [
       "[(50, 'Star Wars (1977)', 1.0),\n",
       " (181, 'Return of the Jedi (1983)', 0.9110192),\n",
       " (12, 'Usual Suspects, The (1995)', 0.89445376),\n",
       " (172, 'Empire Strikes Back, The (1980)', 0.8925165),\n",
       " (313, 'Titanic (1997)', 0.8835287),\n",
       " (437, \"Amityville 1992: It's About Time (1992)\", 0.8804158),\n",
       " (1482, 'Gate of Heavenly Peace, The (1995)', 0.8782533),\n",
       " (1550, 'Destiny Turns on the Radio (1995)', 0.87134254),\n",
       " (174, 'Raiders of the Lost Ark (1981)', 0.8666903),\n",
       " (214, 'Pink Floyd - The Wall (1982)', 0.86323357)]"
      ]
     },
     "execution_count": 83,
     "metadata": {},
     "output_type": "execute_result"
    }
   ],
   "source": [
    "def most_similar(item_id, item_embeddings, titles,\n",
    "                 top_n=30):\n",
    "    # Compute the cosine similarity between the item and all other items\n",
    "    sims = cosine_similarity(item_embeddings[item_id].reshape(1, -1),\n",
    "                             item_embeddings).ravel()\n",
    "    \n",
    "    # [::-1] makes it possible to reverse the order of a numpy\n",
    "    # array, this is required because most similar items have\n",
    "    # a larger cosine similarity value\n",
    "    sorted_indexes = np.argsort(sims)[::-1]\n",
    "    idxs = sorted_indexes[0:top_n]\n",
    "    return list(zip(idxs, titles[idxs], sims[idxs]))\n",
    "\n",
    "# Find the most similar films to \"Star Wars\"\n",
    "most_similar(50, item_embeddings, indexed_items[\"title\"], top_n=10)"
   ]
  },
  {
   "cell_type": "code",
   "execution_count": 84,
   "metadata": {},
   "outputs": [
    {
     "data": {
      "text/plain": [
       "[(227, 'Star Trek VI: The Undiscovered Country (1991)', 0.99999994),\n",
       " (228, 'Star Trek: The Wrath of Khan (1982)', 0.92612123),\n",
       " (550, 'Die Hard: With a Vengeance (1995)', 0.9106262),\n",
       " (721, 'Mallrats (1995)', 0.9079076),\n",
       " (186, 'Blues Brothers, The (1980)', 0.8999506),\n",
       " (431, 'Highlander (1986)', 0.89797974),\n",
       " (163, 'Return of the Pink Panther, The (1974)', 0.89061505),\n",
       " (230, 'Star Trek IV: The Voyage Home (1986)', 0.8889762),\n",
       " (429, 'Day the Earth Stood Still, The (1951)', 0.8876136),\n",
       " (210, 'Indiana Jones and the Last Crusade (1989)', 0.8833729)]"
      ]
     },
     "execution_count": 84,
     "metadata": {},
     "output_type": "execute_result"
    }
   ],
   "source": [
    "# Find the most similar films to \"Star Trek VI: The Undiscovered Country\"\n",
    "most_similar(227, item_embeddings, indexed_items[\"title\"], top_n=10)"
   ]
  },
  {
   "cell_type": "markdown",
   "metadata": {},
   "source": [
    "The similarities do not always make sense: the number of ratings is low and the embedding  does not automatically capture semantic relationships in that context. Better representations arise with higher number of ratings, and less overfitting  in models or maybe better loss function, such as those based on implicit feedback."
   ]
  },
  {
   "cell_type": "markdown",
   "metadata": {},
   "source": [
    "### Visualizing embeddings using TSNE\n",
    "\n",
    "The [t-SNE](https://en.wikipedia.org/wiki/T-distributed_stochastic_neighbor_embedding) algorithm enables us to visualize high dimensional vectors in a 2D space by preserving local neighborhoods. We can use it to get a 2D visualization of the item embeddings and see if similar items are close in the embedding space."
   ]
  },
  {
   "cell_type": "code",
   "execution_count": 85,
   "metadata": {},
   "outputs": [],
   "source": [
    "from sklearn.manifold import TSNE\n",
    "\n",
    "item_tsne = TSNE(learning_rate=\"auto\", init=\"pca\", perplexity=30).fit_transform(item_embeddings)"
   ]
  },
  {
   "cell_type": "code",
   "execution_count": 86,
   "metadata": {},
   "outputs": [
    {
     "data": {
      "image/png": "[encoded data removed]",
      "text/plain": [
       "<Figure size 1000x1000 with 1 Axes>"
      ]
     },
     "metadata": {},
     "output_type": "display_data"
    }
   ],
   "source": [
    "import matplotlib.pyplot as plt\n",
    "\n",
    "plt.figure(figsize=(10, 10))\n",
    "plt.scatter(item_tsne[:, 0], item_tsne[:, 1]);\n",
    "plt.xticks(()); plt.yticks(());\n",
    "plt.show()"
   ]
  },
  {
   "cell_type": "code",
   "execution_count": 87,
   "metadata": {
    "tags": []
   },
   "outputs": [
    {
     "data": {
      "application/vnd.plotly.v1+json": {
       "config": {
        "plotlyServerURL": "https://plot.ly"
       },
       "data": [
        {
         "customdata": [
          [
           1,
           "Toy Story (1995)",
           452
          ],
          [
           2,
           "GoldenEye (1995)",
           131
          ],
          [
           3,
           "Four Rooms (1995)",
           90
          ],
          [
           4,
           "Get Shorty (1995)",
           209
          ],
          [
           5,
           "Copycat (1995)",
           86
          ],
          [
           6,
           "Shanghai Triad (Yao a yao yao dao waipo qiao) (1995)",
           26
          ],
          [
           7,
           "Twelve Monkeys (1995)",
           392
          ],
          [
           8,
           "Babe (1995)",
           219
          ],
          [
           9,
           "Dead Man Walking (1995)",
           299
          ],
          [
           10,
           "Richard III (1995)",
           89
          ],
          [
           11,
           "Seven (Se7en) (1995)",
           236
          ],
          [
           12,
           "Usual Suspects, The (1995)",
           267
          ],
          [
           13,
           "Mighty Aphrodite (1995)",
           184
          ],
          [
           14,
           "Postino, Il (1994)",
           183
          ],
          [
           15,
           "Mr. Holland's Opus (1995)",
           293
          ],
          [
           16,
           "French Twist (Gazon maudit) (1995)",
           39
          ],
          [
           17,
           "From Dusk Till Dawn (1996)",
           92
          ],
          [
           18,
           "White Balloon, The (1995)",
           10
          ],
          [
           19,
           "Antonia's Line (1995)",
           69
          ],
          [
           20,
           "Angels and Insects (1995)",
           72
          ],
          [
           21,
           "Muppet Treasure Island (1996)",
           84
          ],
          [
           22,
           "Braveheart (1995)",
           297
          ],
          [
           23,
           "Taxi Driver (1976)",
           182
          ],
          [
           24,
           "Rumble in the Bronx (1995)",
           174
          ],
          [
           25,
           "Birdcage, The (1996)",
           293
          ],
          [
           26,
           "Brothers McMullen, The (1995)",
           73
          ],
          [
           27,
           "Bad Boys (1995)",
           57
          ],
          [
           28,
           "Apollo 13 (1995)",
           276
          ],
          [
           29,
           "Batman Forever (1995)",
           114
          ],
          [
           30,
           "Belle de jour (1967)",
           37
          ],
          [
           31,
           "Crimson Tide (1995)",
           154
          ],
          [
           32,
           "Crumb (1994)",
           81
          ],
          [
           33,
           "Desperado (1995)",
           97
          ],
          [
           34,
           "Doom Generation, The (1995)",
           7
          ],
          [
           35,
           "Free Willy 2: The Adventure Home (1995)",
           11
          ],
          [
           36,
           "Mad Love (1995)",
           13
          ],
          [
           37,
           "Nadja (1994)",
           8
          ],
          [
           38,
           "Net, The (1995)",
           120
          ],
          [
           39,
           "Strange Days (1995)",
           87
          ],
          [
           40,
           "To Wong Foo, Thanks for Everything! Julie Newmar (1995)",
           57
          ],
          [
           41,
           "Billy Madison (1995)",
           37
          ],
          [
           42,
           "Clerks (1994)",
           148
          ],
          [
           43,
           "Disclosure (1994)",
           40
          ],
          [
           44,
           "Dolores Claiborne (1994)",
           79
          ],
          [
           45,
           "Eat Drink Man Woman (1994)",
           80
          ],
          [
           46,
           "Exotica (1994)",
           27
          ],
          [
           47,
           "Ed Wood (1994)",
           133
          ],
          [
           48,
           "Hoop Dreams (1994)",
           117
          ],
          [
           49,
           "I.Q. (1994)",
           81
          ],
          [
           50,
           "Star Wars (1977)",
           583
          ],
          [
           51,
           "Legends of the Fall (1994)",
           81
          ],
          [
           52,
           "Madness of King George, The (1994)",
           91
          ],
          [
           53,
           "Natural Born Killers (1994)",
           128
          ],
          [
           54,
           "Outbreak (1995)",
           104
          ],
          [
           55,
           "Professional, The (1994)",
           149
          ],
          [
           56,
           "Pulp Fiction (1994)",
           394
          ],
          [
           57,
           "Priest (1994)",
           40
          ],
          [
           58,
           "Quiz Show (1994)",
           175
          ],
          [
           59,
           "Three Colors: Red (1994)",
           83
          ],
          [
           60,
           "Three Colors: Blue (1993)",
           64
          ],
          [
           61,
           "Three Colors: White (1994)",
           59
          ],
          [
           62,
           "Stargate (1994)",
           127
          ],
          [
           63,
           "Santa Clause, The (1994)",
           82
          ],
          [
           64,
           "Shawshank Redemption, The (1994)",
           283
          ],
          [
           65,
           "What's Eating Gilbert Grape (1993)",
           115
          ],
          [
           66,
           "While You Were Sleeping (1995)",
           162
          ],
          [
           67,
           "Ace Ventura: Pet Detective (1994)",
           103
          ],
          [
           68,
           "Crow, The (1994)",
           134
          ],
          [
           69,
           "Forrest Gump (1994)",
           321
          ],
          [
           70,
           "Four Weddings and a Funeral (1994)",
           251
          ],
          [
           71,
           "Lion King, The (1994)",
           220
          ],
          [
           72,
           "Mask, The (1994)",
           129
          ],
          [
           73,
           "Maverick (1994)",
           128
          ],
          [
           74,
           "Faster Pussycat! Kill! Kill! (1965)",
           7
          ],
          [
           75,
           "Brother Minister: The Assassination of Malcolm X (1994)",
           5
          ],
          [
           76,
           "Carlito's Way (1993)",
           54
          ],
          [
           77,
           "Firm, The (1993)",
           151
          ],
          [
           78,
           "Free Willy (1993)",
           33
          ],
          [
           79,
           "Fugitive, The (1993)",
           336
          ],
          [
           80,
           "Hot Shots! Part Deux (1993)",
           68
          ],
          [
           81,
           "Hudsucker Proxy, The (1994)",
           110
          ],
          [
           82,
           "Jurassic Park (1993)",
           261
          ],
          [
           83,
           "Much Ado About Nothing (1993)",
           176
          ],
          [
           84,
           "Robert A. Heinlein's The Puppet Masters (1994)",
           18
          ],
          [
           85,
           "Ref, The (1994)",
           58
          ],
          [
           86,
           "Remains of the Day, The (1993)",
           150
          ],
          [
           87,
           "Searching for Bobby Fischer (1993)",
           138
          ],
          [
           88,
           "Sleepless in Seattle (1993)",
           213
          ],
          [
           89,
           "Blade Runner (1982)",
           275
          ],
          [
           90,
           "So I Married an Axe Murderer (1993)",
           95
          ],
          [
           91,
           "Nightmare Before Christmas, The (1993)",
           143
          ],
          [
           92,
           "True Romance (1993)",
           104
          ],
          [
           93,
           "Welcome to the Dollhouse (1995)",
           112
          ],
          [
           94,
           "Home Alone (1990)",
           137
          ],
          [
           95,
           "Aladdin (1992)",
           219
          ],
          [
           96,
           "Terminator 2: Judgment Day (1991)",
           295
          ],
          [
           97,
           "Dances with Wolves (1990)",
           256
          ],
          [
           98,
           "Silence of the Lambs, The (1991)",
           390
          ],
          [
           99,
           "Snow White and the Seven Dwarfs (1937)",
           172
          ],
          [
           100,
           "Fargo (1996)",
           508
          ],
          [
           101,
           "Heavy Metal (1981)",
           73
          ],
          [
           102,
           "Aristocats, The (1970)",
           54
          ],
          [
           103,
           "All Dogs Go to Heaven 2 (1996)",
           15
          ],
          [
           104,
           "Theodore Rex (1995)",
           5
          ],
          [
           105,
           "Sgt. Bilko (1996)",
           74
          ],
          [
           106,
           "Diabolique (1996)",
           71
          ],
          [
           107,
           "Moll Flanders (1996)",
           42
          ],
          [
           108,
           "Kids in the Hall: Brain Candy (1996)",
           65
          ],
          [
           109,
           "Mystery Science Theater 3000: The Movie (1996)",
           130
          ],
          [
           110,
           "Operation Dumbo Drop (1995)",
           31
          ],
          [
           111,
           "Truth About Cats & Dogs, The (1996)",
           272
          ],
          [
           112,
           "Flipper (1996)",
           20
          ],
          [
           113,
           "Horseman on the Roof, The (Hussard sur le toit, Le) (1995)",
           9
          ],
          [
           114,
           "Wallace & Gromit: The Best of Aardman Animation (1996)",
           67
          ],
          [
           115,
           "Haunted World of Edward D. Wood Jr., The (1995)",
           15
          ],
          [
           116,
           "Cold Comfort Farm (1995)",
           125
          ],
          [
           117,
           "Rock, The (1996)",
           378
          ],
          [
           118,
           "Twister (1996)",
           293
          ],
          [
           119,
           "Maya Lin: A Strong Clear Vision (1994)",
           4
          ],
          [
           120,
           "Striptease (1996)",
           67
          ],
          [
           121,
           "Independence Day (ID4) (1996)",
           429
          ],
          [
           122,
           "Cable Guy, The (1996)",
           106
          ],
          [
           123,
           "Frighteners, The (1996)",
           115
          ],
          [
           124,
           "Lone Star (1996)",
           187
          ],
          [
           125,
           "Phenomenon (1996)",
           244
          ],
          [
           126,
           "Spitfire Grill, The (1996)",
           97
          ],
          [
           127,
           "Godfather, The (1972)",
           413
          ],
          [
           128,
           "Supercop (1992)",
           65
          ],
          [
           129,
           "Bound (1996)",
           129
          ],
          [
           130,
           "Kansas City (1996)",
           23
          ],
          [
           131,
           "Breakfast at Tiffany's (1961)",
           95
          ],
          [
           132,
           "Wizard of Oz, The (1939)",
           246
          ],
          [
           133,
           "Gone with the Wind (1939)",
           171
          ],
          [
           134,
           "Citizen Kane (1941)",
           198
          ],
          [
           135,
           "2001: A Space Odyssey (1968)",
           259
          ],
          [
           136,
           "Mr. Smith Goes to Washington (1939)",
           105
          ],
          [
           137,
           "Big Night (1996)",
           171
          ],
          [
           138,
           "D3: The Mighty Ducks (1996)",
           19
          ],
          [
           139,
           "Love Bug, The (1969)",
           50
          ],
          [
           140,
           "Homeward Bound: The Incredible Journey (1993)",
           61
          ],
          [
           141,
           "20,000 Leagues Under the Sea (1954)",
           72
          ],
          [
           142,
           "Bedknobs and Broomsticks (1971)",
           57
          ],
          [
           143,
           "Sound of Music, The (1965)",
           222
          ],
          [
           144,
           "Die Hard (1988)",
           243
          ],
          [
           145,
           "Lawnmower Man, The (1992)",
           65
          ],
          [
           146,
           "Unhook the Stars (1996)",
           10
          ],
          [
           147,
           "Long Kiss Goodnight, The (1996)",
           185
          ],
          [
           148,
           "Ghost and the Darkness, The (1996)",
           128
          ],
          [
           149,
           "Jude (1996)",
           23
          ],
          [
           150,
           "Swingers (1996)",
           157
          ],
          [
           151,
           "Willy Wonka and the Chocolate Factory (1971)",
           326
          ],
          [
           152,
           "Sleeper (1973)",
           82
          ],
          [
           153,
           "Fish Called Wanda, A (1988)",
           247
          ],
          [
           154,
           "Monty Python's Life of Brian (1979)",
           174
          ],
          [
           155,
           "Dirty Dancing (1987)",
           98
          ],
          [
           156,
           "Reservoir Dogs (1992)",
           148
          ],
          [
           157,
           "Platoon (1986)",
           127
          ],
          [
           158,
           "Weekend at Bernie's (1989)",
           60
          ],
          [
           159,
           "Basic Instinct (1992)",
           101
          ],
          [
           160,
           "Glengarry Glen Ross (1992)",
           69
          ],
          [
           161,
           "Top Gun (1986)",
           220
          ],
          [
           162,
           "On Golden Pond (1981)",
           106
          ],
          [
           163,
           "Return of the Pink Panther, The (1974)",
           92
          ],
          [
           164,
           "Abyss, The (1989)",
           151
          ],
          [
           165,
           "Jean de Florette (1986)",
           64
          ],
          [
           166,
           "Manon of the Spring (Manon des sources) (1986)",
           58
          ],
          [
           167,
           "Private Benjamin (1980)",
           67
          ],
          [
           168,
           "Monty Python and the Holy Grail (1974)",
           316
          ],
          [
           169,
           "Wrong Trousers, The (1993)",
           118
          ],
          [
           170,
           "Cinema Paradiso (1988)",
           121
          ],
          [
           171,
           "Delicatessen (1991)",
           65
          ],
          [
           172,
           "Empire Strikes Back, The (1980)",
           367
          ],
          [
           173,
           "Princess Bride, The (1987)",
           324
          ],
          [
           174,
           "Raiders of the Lost Ark (1981)",
           420
          ],
          [
           175,
           "Brazil (1985)",
           208
          ],
          [
           176,
           "Aliens (1986)",
           284
          ],
          [
           177,
           "Good, The Bad and The Ugly, The (1966)",
           137
          ],
          [
           178,
           "12 Angry Men (1957)",
           125
          ],
          [
           179,
           "Clockwork Orange, A (1971)",
           221
          ],
          [
           180,
           "Apocalypse Now (1979)",
           221
          ],
          [
           181,
           "Return of the Jedi (1983)",
           507
          ],
          [
           182,
           "GoodFellas (1990)",
           226
          ],
          [
           183,
           "Alien (1979)",
           291
          ],
          [
           184,
           "Army of Darkness (1993)",
           116
          ],
          [
           185,
           "Psycho (1960)",
           239
          ],
          [
           186,
           "Blues Brothers, The (1980)",
           251
          ],
          [
           187,
           "Godfather: Part II, The (1974)",
           209
          ],
          [
           188,
           "Full Metal Jacket (1987)",
           170
          ],
          [
           189,
           "Grand Day Out, A (1992)",
           66
          ],
          [
           190,
           "Henry V (1989)",
           124
          ],
          [
           191,
           "Amadeus (1984)",
           276
          ],
          [
           192,
           "Raging Bull (1980)",
           116
          ],
          [
           193,
           "Right Stuff, The (1983)",
           157
          ],
          [
           194,
           "Sting, The (1973)",
           241
          ],
          [
           195,
           "Terminator, The (1984)",
           301
          ],
          [
           196,
           "Dead Poets Society (1989)",
           251
          ],
          [
           197,
           "Graduate, The (1967)",
           239
          ],
          [
           198,
           "Nikita (La Femme Nikita) (1990)",
           127
          ],
          [
           199,
           "Bridge on the River Kwai, The (1957)",
           165
          ],
          [
           200,
           "Shining, The (1980)",
           206
          ],
          [
           201,
           "Evil Dead II (1987)",
           89
          ],
          [
           202,
           "Groundhog Day (1993)",
           280
          ],
          [
           203,
           "Unforgiven (1992)",
           182
          ],
          [
           204,
           "Back to the Future (1985)",
           350
          ],
          [
           205,
           "Patton (1970)",
           136
          ],
          [
           206,
           "Akira (1988)",
           50
          ],
          [
           207,
           "Cyrano de Bergerac (1990)",
           66
          ],
          [
           208,
           "Young Frankenstein (1974)",
           200
          ],
          [
           209,
           "This Is Spinal Tap (1984)",
           191
          ],
          [
           210,
           "Indiana Jones and the Last Crusade (1989)",
           331
          ],
          [
           211,
           "M*A*S*H (1970)",
           206
          ],
          [
           212,
           "Unbearable Lightness of Being, The (1988)",
           92
          ],
          [
           213,
           "Room with a View, A (1986)",
           134
          ],
          [
           214,
           "Pink Floyd - The Wall (1982)",
           114
          ],
          [
           215,
           "Field of Dreams (1989)",
           212
          ],
          [
           216,
           "When Harry Met Sally... (1989)",
           290
          ],
          [
           217,
           "Bram Stoker's Dracula (1992)",
           120
          ],
          [
           218,
           "Cape Fear (1991)",
           171
          ],
          [
           219,
           "Nightmare on Elm Street, A (1984)",
           111
          ],
          [
           220,
           "Mirror Has Two Faces, The (1996)",
           66
          ],
          [
           221,
           "Breaking the Waves (1996)",
           74
          ],
          [
           222,
           "Star Trek: First Contact (1996)",
           365
          ],
          [
           223,
           "Sling Blade (1996)",
           136
          ],
          [
           224,
           "Ridicule (1996)",
           44
          ],
          [
           225,
           "101 Dalmatians (1996)",
           109
          ],
          [
           226,
           "Die Hard 2 (1990)",
           166
          ],
          [
           227,
           "Star Trek VI: The Undiscovered Country (1991)",
           161
          ],
          [
           228,
           "Star Trek: The Wrath of Khan (1982)",
           244
          ],
          [
           229,
           "Star Trek III: The Search for Spock (1984)",
           171
          ],
          [
           230,
           "Star Trek IV: The Voyage Home (1986)",
           199
          ],
          [
           231,
           "Batman Returns (1992)",
           142
          ],
          [
           232,
           "Young Guns (1988)",
           101
          ],
          [
           233,
           "Under Siege (1992)",
           124
          ],
          [
           234,
           "Jaws (1975)",
           280
          ],
          [
           235,
           "Mars Attacks! (1996)",
           217
          ],
          [
           236,
           "Citizen Ruth (1996)",
           45
          ],
          [
           237,
           "Jerry Maguire (1996)",
           384
          ],
          [
           238,
           "Raising Arizona (1987)",
           256
          ],
          [
           239,
           "Sneakers (1992)",
           150
          ],
          [
           240,
           "Beavis and Butt-head Do America (1996)",
           156
          ],
          [
           241,
           "Last of the Mohicans, The (1992)",
           128
          ],
          [
           242,
           "Kolya (1996)",
           117
          ],
          [
           243,
           "Jungle2Jungle (1997)",
           132
          ],
          [
           244,
           "Smilla's Sense of Snow (1997)",
           48
          ],
          [
           245,
           "Devil's Own, The (1997)",
           240
          ],
          [
           246,
           "Chasing Amy (1997)",
           124
          ],
          [
           247,
           "Turbo: A Power Rangers Movie (1997)",
           5
          ],
          [
           248,
           "Grosse Pointe Blank (1997)",
           160
          ],
          [
           249,
           "Austin Powers: International Man of Mystery (1997)",
           130
          ],
          [
           250,
           "Fifth Element, The (1997)",
           197
          ],
          [
           251,
           "Shall We Dance? (1996)",
           46
          ],
          [
           252,
           "Lost World: Jurassic Park, The (1997)",
           158
          ],
          [
           253,
           "Pillow Book, The (1995)",
           26
          ],
          [
           254,
           "Batman & Robin (1997)",
           62
          ],
          [
           255,
           "My Best Friend's Wedding (1997)",
           172
          ],
          [
           256,
           "When the Cats Away (Chacun cherche son chat) (1996)",
           16
          ],
          [
           257,
           "Men in Black (1997)",
           303
          ],
          [
           258,
           "Contact (1997)",
           509
          ],
          [
           259,
           "George of the Jungle (1997)",
           162
          ],
          [
           260,
           "Event Horizon (1997)",
           127
          ],
          [
           261,
           "Air Bud (1997)",
           43
          ],
          [
           262,
           "In the Company of Men (1997)",
           66
          ],
          [
           263,
           "Steel (1997)",
           19
          ],
          [
           264,
           "Mimic (1997)",
           101
          ],
          [
           265,
           "Hunt for Red October, The (1990)",
           227
          ],
          [
           266,
           "Kull the Conqueror (1997)",
           35
          ],
          [
           267,
           "unknown",
           9
          ],
          [
           268,
           "Chasing Amy (1997)",
           255
          ],
          [
           269,
           "Full Monty, The (1997)",
           315
          ],
          [
           270,
           "Gattaca (1997)",
           136
          ],
          [
           271,
           "Starship Troopers (1997)",
           211
          ],
          [
           272,
           "Good Will Hunting (1997)",
           198
          ],
          [
           273,
           "Heat (1995)",
           223
          ],
          [
           274,
           "Sabrina (1995)",
           190
          ],
          [
           275,
           "Sense and Sensibility (1995)",
           268
          ],
          [
           276,
           "Leaving Las Vegas (1995)",
           298
          ],
          [
           277,
           "Restoration (1995)",
           71
          ],
          [
           278,
           "Bed of Roses (1996)",
           60
          ],
          [
           279,
           "Once Upon a Time... When We Were Colored (1995)",
           28
          ],
          [
           280,
           "Up Close and Personal (1996)",
           85
          ],
          [
           281,
           "River Wild, The (1994)",
           146
          ],
          [
           282,
           "Time to Kill, A (1996)",
           232
          ],
          [
           283,
           "Emma (1996)",
           177
          ],
          [
           284,
           "Tin Cup (1996)",
           193
          ],
          [
           285,
           "Secrets & Lies (1996)",
           162
          ],
          [
           286,
           "English Patient, The (1996)",
           481
          ],
          [
           287,
           "Marvin's Room (1996)",
           78
          ],
          [
           288,
           "Scream (1996)",
           478
          ],
          [
           289,
           "Evita (1996)",
           259
          ],
          [
           290,
           "Fierce Creatures (1997)",
           96
          ],
          [
           291,
           "Absolute Power (1997)",
           127
          ],
          [
           292,
           "Rosewood (1997)",
           114
          ],
          [
           293,
           "Donnie Brasco (1997)",
           147
          ],
          [
           294,
           "Liar Liar (1997)",
           485
          ],
          [
           295,
           "Breakdown (1997)",
           77
          ],
          [
           296,
           "Promesse, La (1996)",
           6
          ],
          [
           297,
           "Ulee's Gold (1997)",
           50
          ],
          [
           298,
           "Face/Off (1997)",
           194
          ],
          [
           299,
           "Hoodlum (1997)",
           73
          ],
          [
           300,
           "Air Force One (1997)",
           431
          ],
          [
           301,
           "In & Out (1997)",
           230
          ],
          [
           302,
           "L.A. Confidential (1997)",
           297
          ],
          [
           303,
           "Ulee's Gold (1997)",
           134
          ],
          [
           304,
           "Fly Away Home (1996)",
           149
          ],
          [
           305,
           "Ice Storm, The (1997)",
           87
          ],
          [
           306,
           "Mrs. Brown (Her Majesty, Mrs. Brown) (1997)",
           96
          ],
          [
           307,
           "Devil's Advocate, The (1997)",
           188
          ],
          [
           308,
           "FairyTale: A True Story (1997)",
           30
          ],
          [
           309,
           "Deceiver (1997)",
           28
          ],
          [
           310,
           "Rainmaker, The (1997)",
           145
          ],
          [
           311,
           "Wings of the Dove, The (1997)",
           75
          ],
          [
           312,
           "Midnight in the Garden of Good and Evil (1997)",
           80
          ],
          [
           313,
           "Titanic (1997)",
           350
          ],
          [
           314,
           "3 Ninjas: High Noon At Mega Mountain (1998)",
           5
          ],
          [
           315,
           "Apt Pupil (1998)",
           160
          ],
          [
           316,
           "As Good As It Gets (1997)",
           112
          ],
          [
           317,
           "In the Name of the Father (1993)",
           102
          ],
          [
           318,
           "Schindler's List (1993)",
           298
          ],
          [
           319,
           "Everyone Says I Love You (1996)",
           168
          ],
          [
           320,
           "Paradise Lost: The Child Murders at Robin Hood Hills (1996)",
           20
          ],
          [
           321,
           "Mother (1996)",
           169
          ],
          [
           322,
           "Murder at 1600 (1997)",
           218
          ],
          [
           323,
           "Dante's Peak (1997)",
           240
          ],
          [
           324,
           "Lost Highway (1997)",
           125
          ],
          [
           325,
           "Crash (1996)",
           128
          ],
          [
           326,
           "G.I. Jane (1997)",
           175
          ],
          [
           327,
           "Cop Land (1997)",
           175
          ],
          [
           328,
           "Conspiracy Theory (1997)",
           295
          ],
          [
           329,
           "Desperate Measures (1998)",
           45
          ],
          [
           330,
           "187 (1997)",
           41
          ],
          [
           331,
           "Edge, The (1997)",
           113
          ],
          [
           332,
           "Kiss the Girls (1997)",
           143
          ],
          [
           333,
           "Game, The (1997)",
           251
          ],
          [
           334,
           "U Turn (1997)",
           64
          ],
          [
           335,
           "How to Be a Player (1997)",
           21
          ],
          [
           336,
           "Playing God (1997)",
           43
          ],
          [
           337,
           "House of Yes, The (1997)",
           18
          ],
          [
           338,
           "Bean (1997)",
           91
          ],
          [
           339,
           "Mad City (1997)",
           47
          ],
          [
           340,
           "Boogie Nights (1997)",
           189
          ],
          [
           341,
           "Critical Care (1997)",
           11
          ],
          [
           342,
           "Man Who Knew Too Little, The (1997)",
           52
          ],
          [
           343,
           "Alien: Resurrection (1997)",
           124
          ],
          [
           344,
           "Apostle, The (1997)",
           55
          ],
          [
           345,
           "Deconstructing Harry (1997)",
           65
          ],
          [
           346,
           "Jackie Brown (1997)",
           126
          ],
          [
           347,
           "Wag the Dog (1997)",
           137
          ],
          [
           348,
           "Desperate Measures (1998)",
           27
          ],
          [
           349,
           "Hard Rain (1998)",
           31
          ],
          [
           350,
           "Fallen (1998)",
           41
          ],
          [
           351,
           "Prophecy II, The (1998)",
           20
          ],
          [
           352,
           "Spice World (1997)",
           26
          ],
          [
           353,
           "Deep Rising (1998)",
           14
          ],
          [
           354,
           "Wedding Singer, The (1998)",
           72
          ],
          [
           355,
           "Sphere (1998)",
           41
          ],
          [
           356,
           "Client, The (1994)",
           97
          ],
          [
           357,
           "One Flew Over the Cuckoo's Nest (1975)",
           264
          ],
          [
           358,
           "Spawn (1997)",
           143
          ],
          [
           359,
           "Assignment, The (1997)",
           18
          ],
          [
           360,
           "Wonderland (1997)",
           10
          ],
          [
           361,
           "Incognito (1997)",
           10
          ],
          [
           362,
           "Blues Brothers 2000 (1998)",
           28
          ],
          [
           363,
           "Sudden Death (1995)",
           47
          ],
          [
           364,
           "Ace Ventura: When Nature Calls (1995)",
           37
          ],
          [
           365,
           "Powder (1995)",
           48
          ],
          [
           366,
           "Dangerous Minds (1995)",
           47
          ],
          [
           367,
           "Clueless (1995)",
           170
          ],
          [
           368,
           "Bio-Dome (1996)",
           31
          ],
          [
           369,
           "Black Sheep (1996)",
           55
          ],
          [
           370,
           "Mary Reilly (1996)",
           39
          ],
          [
           371,
           "Bridges of Madison County, The (1995)",
           67
          ],
          [
           372,
           "Jeffrey (1995)",
           34
          ],
          [
           373,
           "Judge Dredd (1995)",
           39
          ],
          [
           374,
           "Mighty Morphin Power Rangers: The Movie (1995)",
           11
          ],
          [
           375,
           "Showgirls (1995)",
           23
          ],
          [
           376,
           "Houseguest (1994)",
           24
          ],
          [
           377,
           "Heavyweights (1994)",
           13
          ],
          [
           378,
           "Miracle on 34th Street (1994)",
           101
          ],
          [
           379,
           "Tales From the Crypt Presents: Demon Knight (1995)",
           43
          ],
          [
           380,
           "Star Trek: Generations (1994)",
           116
          ],
          [
           381,
           "Muriel's Wedding (1994)",
           100
          ],
          [
           382,
           "Adventures of Priscilla, Queen of the Desert, The (1994)",
           111
          ],
          [
           383,
           "Flintstones, The (1994)",
           31
          ],
          [
           384,
           "Naked Gun 33 1/3: The Final Insult (1994)",
           69
          ],
          [
           385,
           "True Lies (1994)",
           208
          ],
          [
           386,
           "Addams Family Values (1993)",
           87
          ],
          [
           387,
           "Age of Innocence, The (1993)",
           65
          ],
          [
           388,
           "Beverly Hills Cop III (1994)",
           28
          ],
          [
           389,
           "Black Beauty (1994)",
           27
          ],
          [
           390,
           "Fear of a Black Hat (1993)",
           10
          ],
          [
           391,
           "Last Action Hero (1993)",
           59
          ],
          [
           392,
           "Man Without a Face, The (1993)",
           68
          ],
          [
           393,
           "Mrs. Doubtfire (1993)",
           192
          ],
          [
           394,
           "Radioland Murders (1994)",
           12
          ],
          [
           395,
           "Robin Hood: Men in Tights (1993)",
           56
          ],
          [
           396,
           "Serial Mom (1994)",
           54
          ],
          [
           397,
           "Striking Distance (1993)",
           12
          ],
          [
           398,
           "Super Mario Bros. (1993)",
           26
          ],
          [
           399,
           "Three Musketeers, The (1993)",
           89
          ],
          [
           400,
           "Little Rascals, The (1994)",
           18
          ],
          [
           401,
           "Brady Bunch Movie, The (1995)",
           76
          ],
          [
           402,
           "Ghost (1990)",
           170
          ],
          [
           403,
           "Batman (1989)",
           201
          ],
          [
           404,
           "Pinocchio (1940)",
           101
          ],
          [
           405,
           "Mission: Impossible (1996)",
           344
          ],
          [
           406,
           "Thinner (1996)",
           49
          ],
          [
           407,
           "Spy Hard (1996)",
           43
          ],
          [
           408,
           "Close Shave, A (1995)",
           112
          ],
          [
           409,
           "Jack (1996)",
           70
          ],
          [
           410,
           "Kingpin (1996)",
           162
          ],
          [
           411,
           "Nutty Professor, The (1996)",
           163
          ],
          [
           412,
           "Very Brady Sequel, A (1996)",
           93
          ],
          [
           413,
           "Tales from the Crypt Presents: Bordello of Blood (1996)",
           55
          ],
          [
           414,
           "My Favorite Year (1982)",
           62
          ],
          [
           415,
           "Apple Dumpling Gang, The (1975)",
           25
          ],
          [
           416,
           "Old Yeller (1957)",
           64
          ],
          [
           417,
           "Parent Trap, The (1961)",
           73
          ],
          [
           418,
           "Cinderella (1950)",
           129
          ],
          [
           419,
           "Mary Poppins (1964)",
           178
          ],
          [
           420,
           "Alice in Wonderland (1951)",
           81
          ],
          [
           421,
           "William Shakespeare's Romeo and Juliet (1996)",
           106
          ],
          [
           422,
           "Aladdin and the King of Thieves (1996)",
           26
          ],
          [
           423,
           "E.T. the Extra-Terrestrial (1982)",
           300
          ],
          [
           424,
           "Children of the Corn: The Gathering (1996)",
           19
          ],
          [
           425,
           "Bob Roberts (1992)",
           85
          ],
          [
           426,
           "Transformers: The Movie, The (1986)",
           32
          ],
          [
           427,
           "To Kill a Mockingbird (1962)",
           219
          ],
          [
           428,
           "Harold and Maude (1971)",
           121
          ],
          [
           429,
           "Day the Earth Stood Still, The (1951)",
           97
          ],
          [
           430,
           "Duck Soup (1933)",
           93
          ],
          [
           431,
           "Highlander (1986)",
           153
          ],
          [
           432,
           "Fantasia (1940)",
           174
          ],
          [
           433,
           "Heathers (1989)",
           171
          ],
          [
           434,
           "Forbidden Planet (1956)",
           67
          ],
          [
           435,
           "Butch Cassidy and the Sundance Kid (1969)",
           216
          ],
          [
           436,
           "American Werewolf in London, An (1981)",
           99
          ],
          [
           437,
           "Amityville 1992: It's About Time (1992)",
           5
          ],
          [
           438,
           "Amityville 3-D (1983)",
           6
          ],
          [
           439,
           "Amityville: A New Generation (1993)",
           5
          ],
          [
           440,
           "Amityville II: The Possession (1982)",
           14
          ],
          [
           441,
           "Amityville Horror, The (1979)",
           53
          ],
          [
           442,
           "Amityville Curse, The (1990)",
           4
          ],
          [
           443,
           "Birds, The (1963)",
           162
          ],
          [
           444,
           "Blob, The (1958)",
           46
          ],
          [
           445,
           "Body Snatcher, The (1945)",
           22
          ],
          [
           446,
           "Burnt Offerings (1976)",
           9
          ],
          [
           447,
           "Carrie (1976)",
           121
          ],
          [
           448,
           "Omen, The (1976)",
           85
          ],
          [
           449,
           "Star Trek: The Motion Picture (1979)",
           117
          ],
          [
           450,
           "Star Trek V: The Final Frontier (1989)",
           63
          ],
          [
           451,
           "Grease (1978)",
           170
          ],
          [
           452,
           "Jaws 2 (1978)",
           66
          ],
          [
           453,
           "Jaws 3-D (1983)",
           16
          ],
          [
           454,
           "Bastard Out of Carolina (1996)",
           16
          ],
          [
           455,
           "Jackie Chan's First Strike (1996)",
           145
          ],
          [
           456,
           "Beverly Hills Ninja (1997)",
           48
          ],
          [
           457,
           "Free Willy 3: The Rescue (1997)",
           27
          ],
          [
           458,
           "Nixon (1995)",
           90
          ],
          [
           459,
           "Cry, the Beloved Country (1995)",
           24
          ],
          [
           460,
           "Crossing Guard, The (1995)",
           28
          ],
          [
           461,
           "Smoke (1995)",
           74
          ],
          [
           462,
           "Like Water For Chocolate (Como agua para chocolate) (1992)",
           148
          ],
          [
           463,
           "Secret of Roan Inish, The (1994)",
           71
          ],
          [
           464,
           "Vanya on 42nd Street (1994)",
           27
          ],
          [
           465,
           "Jungle Book, The (1994)",
           85
          ],
          [
           466,
           "Red Rock West (1992)",
           52
          ],
          [
           467,
           "Bronx Tale, A (1993)",
           48
          ],
          [
           468,
           "Rudy (1993)",
           64
          ],
          [
           469,
           "Short Cuts (1993)",
           67
          ],
          [
           470,
           "Tombstone (1993)",
           108
          ],
          [
           471,
           "Courage Under Fire (1996)",
           221
          ],
          [
           472,
           "Dragonheart (1996)",
           158
          ],
          [
           473,
           "James and the Giant Peach (1996)",
           126
          ],
          [
           474,
           "Dr. Strangelove or: How I Learned to Stop Worrying and Love the Bomb (1963)",
           194
          ],
          [
           475,
           "Trainspotting (1996)",
           250
          ],
          [
           476,
           "First Wives Club, The (1996)",
           160
          ],
          [
           477,
           "Matilda (1996)",
           95
          ],
          [
           478,
           "Philadelphia Story, The (1940)",
           104
          ],
          [
           479,
           "Vertigo (1958)",
           179
          ],
          [
           480,
           "North by Northwest (1959)",
           179
          ],
          [
           481,
           "Apartment, The (1960)",
           63
          ],
          [
           482,
           "Some Like It Hot (1959)",
           128
          ],
          [
           483,
           "Casablanca (1942)",
           243
          ],
          [
           484,
           "Maltese Falcon, The (1941)",
           138
          ],
          [
           485,
           "My Fair Lady (1964)",
           125
          ],
          [
           486,
           "Sabrina (1954)",
           64
          ],
          [
           487,
           "Roman Holiday (1953)",
           68
          ],
          [
           488,
           "Sunset Blvd. (1950)",
           65
          ],
          [
           489,
           "Notorious (1946)",
           52
          ],
          [
           490,
           "To Catch a Thief (1955)",
           50
          ],
          [
           491,
           "Adventures of Robin Hood, The (1938)",
           67
          ],
          [
           492,
           "East of Eden (1955)",
           59
          ],
          [
           493,
           "Thin Man, The (1934)",
           60
          ],
          [
           494,
           "His Girl Friday (1940)",
           56
          ],
          [
           495,
           "Around the World in 80 Days (1956)",
           59
          ],
          [
           496,
           "It's a Wonderful Life (1946)",
           231
          ],
          [
           497,
           "Bringing Up Baby (1938)",
           68
          ],
          [
           498,
           "African Queen, The (1951)",
           152
          ],
          [
           499,
           "Cat on a Hot Tin Roof (1958)",
           62
          ],
          [
           500,
           "Fly Away Home (1996)",
           31
          ],
          [
           501,
           "Dumbo (1941)",
           123
          ],
          [
           502,
           "Bananas (1971)",
           57
          ],
          [
           503,
           "Candidate, The (1972)",
           39
          ],
          [
           504,
           "Bonnie and Clyde (1967)",
           122
          ],
          [
           505,
           "Dial M for Murder (1954)",
           68
          ],
          [
           506,
           "Rebel Without a Cause (1955)",
           90
          ],
          [
           507,
           "Streetcar Named Desire, A (1951)",
           98
          ],
          [
           508,
           "People vs. Larry Flynt, The (1996)",
           215
          ],
          [
           509,
           "My Left Foot (1989)",
           121
          ],
          [
           510,
           "Magnificent Seven, The (1954)",
           121
          ],
          [
           511,
           "Lawrence of Arabia (1962)",
           173
          ],
          [
           512,
           "Wings of Desire (1987)",
           57
          ],
          [
           513,
           "Third Man, The (1949)",
           72
          ],
          [
           514,
           "Annie Hall (1977)",
           180
          ],
          [
           515,
           "Boot, Das (1981)",
           201
          ],
          [
           516,
           "Local Hero (1983)",
           63
          ],
          [
           517,
           "Manhattan (1979)",
           91
          ],
          [
           518,
           "Miller's Crossing (1990)",
           89
          ],
          [
           519,
           "Treasure of the Sierra Madre, The (1948)",
           80
          ],
          [
           520,
           "Great Escape, The (1963)",
           124
          ],
          [
           521,
           "Deer Hunter, The (1978)",
           120
          ],
          [
           522,
           "Down by Law (1986)",
           35
          ],
          [
           523,
           "Cool Hand Luke (1967)",
           164
          ],
          [
           524,
           "Great Dictator, The (1940)",
           46
          ],
          [
           525,
           "Big Sleep, The (1946)",
           73
          ],
          [
           526,
           "Ben-Hur (1959)",
           124
          ],
          [
           527,
           "Gandhi (1982)",
           195
          ],
          [
           528,
           "Killing Fields, The (1984)",
           121
          ],
          [
           529,
           "My Life as a Dog (Mitt liv som hund) (1985)",
           93
          ],
          [
           530,
           "Man Who Would Be King, The (1975)",
           80
          ],
          [
           531,
           "Shine (1996)",
           129
          ],
          [
           532,
           "Kama Sutra: A Tale of Love (1996)",
           22
          ],
          [
           533,
           "Daytrippers, The (1996)",
           15
          ],
          [
           534,
           "Traveller (1997)",
           13
          ],
          [
           535,
           "Addicted to Love (1997)",
           54
          ],
          [
           536,
           "Ponette (1996)",
           10
          ],
          [
           537,
           "My Own Private Idaho (1991)",
           30
          ],
          [
           538,
           "Anastasia (1997)",
           66
          ],
          [
           539,
           "Mouse Hunt (1997)",
           44
          ],
          [
           540,
           "Money Train (1995)",
           43
          ],
          [
           541,
           "Mortal Kombat (1995)",
           49
          ],
          [
           542,
           "Pocahontas (1995)",
           51
          ],
          [
           543,
           "Misérables, Les (1995)",
           21
          ],
          [
           544,
           "Things to Do in Denver when You're Dead (1995)",
           71
          ],
          [
           545,
           "Vampire in Brooklyn (1995)",
           12
          ],
          [
           546,
           "Broken Arrow (1996)",
           254
          ],
          [
           547,
           "Young Poisoner's Handbook, The (1995)",
           41
          ],
          [
           548,
           "NeverEnding Story III, The (1994)",
           12
          ],
          [
           549,
           "Rob Roy (1995)",
           92
          ],
          [
           550,
           "Die Hard: With a Vengeance (1995)",
           151
          ],
          [
           551,
           "Lord of Illusions (1995)",
           24
          ],
          [
           552,
           "Species (1995)",
           45
          ],
          [
           553,
           "Walk in the Clouds, A (1995)",
           63
          ],
          [
           554,
           "Waterworld (1995)",
           102
          ],
          [
           555,
           "White Man's Burden (1995)",
           10
          ],
          [
           556,
           "Wild Bill (1995)",
           12
          ],
          [
           557,
           "Farinelli: il castrato (1994)",
           17
          ],
          [
           558,
           "Heavenly Creatures (1994)",
           70
          ],
          [
           559,
           "Interview with the Vampire (1994)",
           137
          ],
          [
           560,
           "Kid in King Arthur's Court, A (1995)",
           22
          ],
          [
           561,
           "Mary Shelley's Frankenstein (1994)",
           59
          ],
          [
           562,
           "Quick and the Dead, The (1995)",
           48
          ],
          [
           563,
           "Stephen King's The Langoliers (1995)",
           29
          ],
          [
           564,
           "Tales from the Hood (1995)",
           27
          ],
          [
           565,
           "Village of the Damned (1995)",
           22
          ],
          [
           566,
           "Clear and Present Danger (1994)",
           179
          ],
          [
           567,
           "Wes Craven's New Nightmare (1994)",
           35
          ],
          [
           568,
           "Speed (1994)",
           230
          ],
          [
           569,
           "Wolf (1994)",
           67
          ],
          [
           570,
           "Wyatt Earp (1994)",
           50
          ],
          [
           571,
           "Another Stakeout (1993)",
           28
          ],
          [
           572,
           "Blown Away (1994)",
           29
          ],
          [
           573,
           "Body Snatchers (1993)",
           33
          ],
          [
           574,
           "Boxing Helena (1993)",
           15
          ],
          [
           575,
           "City Slickers II: The Legend of Curly's Gold (1994)",
           44
          ],
          [
           576,
           "Cliffhanger (1993)",
           93
          ],
          [
           577,
           "Coneheads (1993)",
           41
          ],
          [
           578,
           "Demolition Man (1993)",
           92
          ],
          [
           579,
           "Fatal Instinct (1993)",
           19
          ],
          [
           580,
           "Englishman Who Went Up a Hill, But Came Down a Mountain, The (1995)",
           32
          ],
          [
           581,
           "Kalifornia (1993)",
           59
          ],
          [
           582,
           "Piano, The (1993)",
           168
          ],
          [
           583,
           "Romeo Is Bleeding (1993)",
           37
          ],
          [
           584,
           "Secret Garden, The (1993)",
           79
          ],
          [
           585,
           "Son in Law (1993)",
           39
          ],
          [
           586,
           "Terminal Velocity (1994)",
           34
          ],
          [
           587,
           "Hour of the Pig, The (1993)",
           14
          ],
          [
           588,
           "Beauty and the Beast (1991)",
           202
          ],
          [
           589,
           "Wild Bunch, The (1969)",
           43
          ],
          [
           590,
           "Hellraiser: Bloodline (1996)",
           18
          ],
          [
           591,
           "Primal Fear (1996)",
           178
          ],
          [
           592,
           "True Crime (1995)",
           9
          ],
          [
           593,
           "Stalingrad (1993)",
           12
          ],
          [
           594,
           "Heavy (1995)",
           5
          ],
          [
           595,
           "Fan, The (1996)",
           64
          ],
          [
           596,
           "Hunchback of Notre Dame, The (1996)",
           127
          ],
          [
           597,
           "Eraser (1996)",
           206
          ],
          [
           598,
           "Big Squeeze, The (1996)",
           4
          ],
          [
           599,
           "Police Story 4: Project S (Chao ji ji hua) (1993)",
           1
          ],
          [
           600,
           "Daniel Defoe's Robinson Crusoe (1996)",
           2
          ],
          [
           601,
           "For Whom the Bell Tolls (1943)",
           20
          ],
          [
           602,
           "American in Paris, An (1951)",
           50
          ],
          [
           603,
           "Rear Window (1954)",
           209
          ],
          [
           604,
           "It Happened One Night (1934)",
           81
          ],
          [
           605,
           "Meet Me in St. Louis (1944)",
           31
          ],
          [
           606,
           "All About Eve (1950)",
           66
          ],
          [
           607,
           "Rebecca (1940)",
           66
          ],
          [
           608,
           "Spellbound (1945)",
           30
          ],
          [
           609,
           "Father of the Bride (1950)",
           60
          ],
          [
           610,
           "Gigi (1958)",
           41
          ],
          [
           611,
           "Laura (1944)",
           40
          ],
          [
           612,
           "Lost Horizon (1937)",
           34
          ],
          [
           613,
           "My Man Godfrey (1936)",
           27
          ],
          [
           614,
           "Giant (1956)",
           51
          ],
          [
           615,
           "39 Steps, The (1935)",
           59
          ],
          [
           616,
           "Night of the Living Dead (1968)",
           64
          ],
          [
           617,
           "Blue Angel, The (Blaue Engel, Der) (1930)",
           18
          ],
          [
           618,
           "Picnic (1955)",
           18
          ],
          [
           619,
           "Extreme Measures (1996)",
           64
          ],
          [
           620,
           "Chamber, The (1996)",
           43
          ],
          [
           621,
           "Davy Crockett, King of the Wild Frontier (1955)",
           11
          ],
          [
           622,
           "Swiss Family Robinson (1960)",
           39
          ],
          [
           623,
           "Angels in the Outfield (1994)",
           39
          ],
          [
           624,
           "Three Caballeros, The (1945)",
           22
          ],
          [
           625,
           "Sword in the Stone, The (1963)",
           82
          ],
          [
           626,
           "So Dear to My Heart (1949)",
           4
          ],
          [
           627,
           "Robin Hood: Prince of Thieves (1991)",
           75
          ],
          [
           628,
           "Sleepers (1996)",
           169
          ],
          [
           629,
           "Victor/Victoria (1982)",
           77
          ],
          [
           630,
           "Great Race, The (1965)",
           31
          ],
          [
           631,
           "Crying Game, The (1992)",
           119
          ],
          [
           632,
           "Sophie's Choice (1982)",
           58
          ],
          [
           633,
           "Christmas Carol, A (1938)",
           69
          ],
          [
           634,
           "Microcosmos: Le peuple de l'herbe (1996)",
           24
          ],
          [
           635,
           "Fog, The (1980)",
           23
          ],
          [
           636,
           "Escape from New York (1981)",
           91
          ],
          [
           637,
           "Howling, The (1981)",
           38
          ],
          [
           638,
           "Return of Martin Guerre, The (Retour de Martin Guerre, Le) (1982)",
           44
          ],
          [
           639,
           "Tin Drum, The (Blechtrommel, Die) (1979)",
           40
          ],
          [
           640,
           "Cook the Thief His Wife & Her Lover, The (1989)",
           82
          ],
          [
           641,
           "Paths of Glory (1957)",
           33
          ],
          [
           642,
           "Grifters, The (1990)",
           89
          ],
          [
           643,
           "The Innocent (1994)",
           4
          ],
          [
           644,
           "Thin Blue Line, The (1988)",
           35
          ],
          [
           645,
           "Paris Is Burning (1990)",
           27
          ],
          [
           646,
           "Once Upon a Time in the West (1969)",
           38
          ],
          [
           647,
           "Ran (1985)",
           70
          ],
          [
           648,
           "Quiet Man, The (1952)",
           67
          ],
          [
           649,
           "Once Upon a Time in America (1984)",
           50
          ],
          [
           650,
           "Seventh Seal, The (Sjunde inseglet, Det) (1957)",
           72
          ],
          [
           651,
           "Glory (1989)",
           171
          ],
          [
           652,
           "Rosencrantz and Guildenstern Are Dead (1990)",
           90
          ],
          [
           653,
           "Touch of Evil (1958)",
           34
          ],
          [
           654,
           "Chinatown (1974)",
           147
          ],
          [
           655,
           "Stand by Me (1986)",
           227
          ],
          [
           656,
           "M (1931)",
           44
          ],
          [
           657,
           "Manchurian Candidate, The (1962)",
           131
          ],
          [
           658,
           "Pump Up the Volume (1990)",
           79
          ],
          [
           659,
           "Arsenic and Old Lace (1944)",
           115
          ],
          [
           660,
           "Fried Green Tomatoes (1991)",
           153
          ],
          [
           661,
           "High Noon (1952)",
           88
          ],
          [
           662,
           "Somewhere in Time (1980)",
           82
          ],
          [
           663,
           "Being There (1979)",
           116
          ],
          [
           664,
           "Paris, Texas (1984)",
           46
          ],
          [
           665,
           "Alien 3 (1992)",
           100
          ],
          [
           666,
           "Blood For Dracula (Andy Warhol's Dracula) (1974)",
           5
          ],
          [
           667,
           "Audrey Rose (1977)",
           12
          ],
          [
           668,
           "Blood Beach (1981)",
           6
          ],
          [
           669,
           "Body Parts (1991)",
           13
          ],
          [
           670,
           "Body Snatchers (1993)",
           36
          ],
          [
           671,
           "Bride of Frankenstein (1935)",
           46
          ],
          [
           672,
           "Candyman (1992)",
           65
          ],
          [
           673,
           "Cape Fear (1962)",
           86
          ],
          [
           674,
           "Cat People (1982)",
           48
          ],
          [
           675,
           "Nosferatu (Nosferatu, eine Symphonie des Grauens) (1922)",
           54
          ],
          [
           676,
           "Crucible, The (1996)",
           77
          ],
          [
           677,
           "Fire on the Mountain (1996)",
           1
          ],
          [
           678,
           "Volcano (1997)",
           219
          ],
          [
           679,
           "Conan the Barbarian (1981)",
           107
          ],
          [
           680,
           "Kull the Conqueror (1997)",
           34
          ],
          [
           681,
           "Wishmaster (1997)",
           27
          ],
          [
           682,
           "I Know What You Did Last Summer (1997)",
           100
          ],
          [
           683,
           "Rocket Man (1997)",
           49
          ],
          [
           684,
           "In the Line of Fire (1993)",
           169
          ],
          [
           685,
           "Executive Decision (1996)",
           157
          ],
          [
           686,
           "Perfect World, A (1993)",
           50
          ],
          [
           687,
           "McHale's Navy (1997)",
           69
          ],
          [
           688,
           "Leave It to Beaver (1997)",
           44
          ],
          [
           689,
           "Jackal, The (1997)",
           87
          ],
          [
           690,
           "Seven Years in Tibet (1997)",
           155
          ],
          [
           691,
           "Dark City (1998)",
           16
          ],
          [
           692,
           "American President, The (1995)",
           164
          ],
          [
           693,
           "Casino (1995)",
           91
          ],
          [
           694,
           "Persuasion (1995)",
           44
          ],
          [
           695,
           "Kicking and Screaming (1995)",
           13
          ],
          [
           696,
           "City Hall (1996)",
           79
          ],
          [
           697,
           "Basketball Diaries, The (1995)",
           40
          ],
          [
           698,
           "Browning Version, The (1994)",
           10
          ],
          [
           699,
           "Little Women (1994)",
           102
          ],
          [
           700,
           "Miami Rhapsody (1995)",
           15
          ],
          [
           701,
           "Wonderful, Horrible Life of Leni Riefenstahl, The (1993)",
           10
          ],
          [
           702,
           "Barcelona (1994)",
           53
          ],
          [
           703,
           "Widows' Peak (1994)",
           19
          ],
          [
           704,
           "House of the Spirits, The (1993)",
           24
          ],
          [
           705,
           "Singin' in the Rain (1952)",
           137
          ],
          [
           706,
           "Bad Moon (1996)",
           6
          ],
          [
           707,
           "Enchanted April (1991)",
           70
          ],
          [
           708,
           "Sex, Lies, and Videotape (1989)",
           101
          ],
          [
           709,
           "Strictly Ballroom (1992)",
           104
          ],
          [
           710,
           "Better Off Dead... (1985)",
           79
          ],
          [
           711,
           "Substance of Fire, The (1996)",
           1
          ],
          [
           712,
           "Tin Men (1987)",
           51
          ],
          [
           713,
           "Othello (1995)",
           72
          ],
          [
           714,
           "Carrington (1995)",
           13
          ],
          [
           715,
           "To Die For (1995)",
           87
          ],
          [
           716,
           "Home for the Holidays (1995)",
           58
          ],
          [
           717,
           "Juror, The (1996)",
           82
          ],
          [
           718,
           "In the Bleak Midwinter (1995)",
           16
          ],
          [
           719,
           "Canadian Bacon (1994)",
           29
          ],
          [
           720,
           "First Knight (1995)",
           86
          ],
          [
           721,
           "Mallrats (1995)",
           54
          ],
          [
           722,
           "Nine Months (1995)",
           58
          ],
          [
           723,
           "Boys on the Side (1995)",
           34
          ],
          [
           724,
           "Circle of Friends (1995)",
           76
          ],
          [
           725,
           "Exit to Eden (1994)",
           16
          ],
          [
           726,
           "Fluke (1995)",
           14
          ],
          [
           727,
           "Immortal Beloved (1994)",
           63
          ],
          [
           728,
           "Junior (1994)",
           45
          ],
          [
           729,
           "Nell (1994)",
           81
          ],
          [
           730,
           "Queen Margot (Reine Margot, La) (1994)",
           24
          ],
          [
           731,
           "Corrina, Corrina (1994)",
           39
          ],
          [
           732,
           "Dave (1993)",
           180
          ],
          [
           733,
           "Go Fish (1994)",
           15
          ],
          [
           734,
           "Made in America (1993)",
           27
          ],
          [
           735,
           "Philadelphia (1993)",
           137
          ],
          [
           736,
           "Shadowlands (1993)",
           78
          ],
          [
           737,
           "Sirens (1994)",
           59
          ],
          [
           738,
           "Threesome (1994)",
           31
          ],
          [
           739,
           "Pretty Woman (1990)",
           164
          ],
          [
           740,
           "Jane Eyre (1996)",
           63
          ],
          [
           741,
           "Last Supper, The (1995)",
           58
          ],
          [
           742,
           "Ransom (1996)",
           267
          ],
          [
           743,
           "Crow: City of Angels, The (1996)",
           39
          ],
          [
           744,
           "Michael Collins (1996)",
           92
          ],
          [
           745,
           "Ruling Class, The (1972)",
           16
          ],
          [
           746,
           "Real Genius (1985)",
           119
          ],
          [
           747,
           "Benny & Joon (1993)",
           102
          ],
          [
           748,
           "Saint, The (1997)",
           316
          ],
          [
           749,
           "MatchMaker, The (1997)",
           51
          ],
          [
           750,
           "Amistad (1997)",
           124
          ],
          [
           751,
           "Tomorrow Never Dies (1997)",
           180
          ],
          [
           752,
           "Replacement Killers, The (1998)",
           39
          ],
          [
           753,
           "Burnt By the Sun (1994)",
           24
          ],
          [
           754,
           "Red Corner (1997)",
           57
          ],
          [
           755,
           "Jumanji (1995)",
           96
          ],
          [
           756,
           "Father of the Bride Part II (1995)",
           128
          ],
          [
           757,
           "Across the Sea of Time (1995)",
           4
          ],
          [
           758,
           "Lawnmower Man 2: Beyond Cyberspace (1996)",
           21
          ],
          [
           759,
           "Fair Game (1995)",
           11
          ],
          [
           760,
           "Screamers (1995)",
           46
          ],
          [
           761,
           "Nick of Time (1995)",
           44
          ],
          [
           762,
           "Beautiful Girls (1996)",
           115
          ],
          [
           763,
           "Happy Gilmore (1996)",
           149
          ],
          [
           764,
           "If Lucy Fell (1996)",
           29
          ],
          [
           765,
           "Boomerang (1992)",
           32
          ],
          [
           766,
           "Man of the Year (1995)",
           9
          ],
          [
           767,
           "Addiction, The (1995)",
           11
          ],
          [
           768,
           "Casper (1995)",
           52
          ],
          [
           769,
           "Congo (1995)",
           42
          ],
          [
           770,
           "Devil in a Blue Dress (1995)",
           57
          ],
          [
           771,
           "Johnny Mnemonic (1995)",
           41
          ],
          [
           772,
           "Kids (1995)",
           49
          ],
          [
           773,
           "Mute Witness (1994)",
           17
          ],
          [
           774,
           "Prophecy, The (1995)",
           32
          ],
          [
           775,
           "Something to Talk About (1995)",
           26
          ],
          [
           776,
           "Three Wishes (1995)",
           9
          ],
          [
           777,
           "Castle Freak (1995)",
           4
          ],
          [
           778,
           "Don Juan DeMarco (1995)",
           76
          ],
          [
           779,
           "Drop Zone (1994)",
           31
          ],
          [
           780,
           "Dumb & Dumber (1994)",
           69
          ],
          [
           781,
           "French Kiss (1995)",
           84
          ],
          [
           782,
           "Little Odessa (1994)",
           10
          ],
          [
           783,
           "Milk Money (1994)",
           37
          ],
          [
           784,
           "Beyond Bedlam (1993)",
           2
          ],
          [
           785,
           "Only You (1994)",
           39
          ],
          [
           786,
           "Perez Family, The (1995)",
           14
          ],
          [
           787,
           "Roommates (1995)",
           13
          ],
          [
           788,
           "Relative Fear (1994)",
           3
          ],
          [
           789,
           "Swimming with Sharks (1995)",
           47
          ],
          [
           790,
           "Tommy Boy (1995)",
           66
          ],
          [
           791,
           "Baby-Sitters Club, The (1995)",
           10
          ],
          [
           792,
           "Bullets Over Broadway (1994)",
           86
          ],
          [
           793,
           "Crooklyn (1994)",
           10
          ],
          [
           794,
           "It Could Happen to You (1994)",
           46
          ],
          [
           795,
           "Richie Rich (1994)",
           21
          ],
          [
           796,
           "Speechless (1994)",
           36
          ],
          [
           797,
           "Timecop (1994)",
           31
          ],
          [
           798,
           "Bad Company (1995)",
           9
          ],
          [
           799,
           "Boys Life (1995)",
           5
          ],
          [
           800,
           "In the Mouth of Madness (1995)",
           26
          ],
          [
           801,
           "Air Up There, The (1994)",
           16
          ],
          [
           802,
           "Hard Target (1993)",
           40
          ],
          [
           803,
           "Heaven & Earth (1993)",
           9
          ],
          [
           804,
           "Jimmy Hollywood (1994)",
           8
          ],
          [
           805,
           "Manhattan Murder Mystery (1993)",
           27
          ],
          [
           806,
           "Menace II Society (1993)",
           50
          ],
          [
           807,
           "Poetic Justice (1993)",
           9
          ],
          [
           808,
           "Program, The (1993)",
           31
          ],
          [
           809,
           "Rising Sun (1993)",
           43
          ],
          [
           810,
           "Shadow, The (1994)",
           45
          ],
          [
           811,
           "Thirty-Two Short Films About Glenn Gould (1993)",
           18
          ],
          [
           812,
           "Andre (1994)",
           18
          ],
          [
           813,
           "Celluloid Closet, The (1995)",
           56
          ],
          [
           814,
           "Great Day in Harlem, A (1994)",
           1
          ],
          [
           815,
           "One Fine Day (1996)",
           112
          ],
          [
           816,
           "Candyman: Farewell to the Flesh (1995)",
           21
          ],
          [
           817,
           "Frisk (1995)",
           3
          ],
          [
           818,
           "Girl 6 (1996)",
           25
          ],
          [
           819,
           "Eddie (1996)",
           40
          ],
          [
           820,
           "Space Jam (1996)",
           93
          ],
          [
           821,
           "Mrs. Winterbourne (1996)",
           22
          ],
          [
           822,
           "Faces (1968)",
           4
          ],
          [
           823,
           "Mulholland Falls (1996)",
           82
          ],
          [
           824,
           "Great White Hype, The (1996)",
           49
          ],
          [
           825,
           "Arrival, The (1996)",
           83
          ],
          [
           826,
           "Phantom, The (1996)",
           80
          ],
          [
           827,
           "Daylight (1996)",
           57
          ],
          [
           828,
           "Alaska (1996)",
           13
          ],
          [
           829,
           "Fled (1996)",
           34
          ],
          [
           830,
           "Power 98 (1995)",
           1
          ],
          [
           831,
           "Escape from L.A. (1996)",
           91
          ],
          [
           832,
           "Bogus (1996)",
           22
          ],
          [
           833,
           "Bulletproof (1996)",
           49
          ],
          [
           834,
           "Halloween: The Curse of Michael Myers (1995)",
           25
          ],
          [
           835,
           "Gay Divorcee, The (1934)",
           15
          ],
          [
           836,
           "Ninotchka (1939)",
           26
          ],
          [
           837,
           "Meet John Doe (1941)",
           25
          ],
          [
           838,
           "In the Line of Duty 2 (1987)",
           4
          ],
          [
           839,
           "Loch Ness (1995)",
           4
          ],
          [
           840,
           "Last Man Standing (1996)",
           53
          ],
          [
           841,
           "Glimmer Man, The (1996)",
           48
          ],
          [
           842,
           "Pollyanna (1960)",
           27
          ],
          [
           843,
           "Shaggy Dog, The (1959)",
           30
          ],
          [
           844,
           "Freeway (1996)",
           42
          ],
          [
           845,
           "That Thing You Do! (1996)",
           176
          ],
          [
           846,
           "To Gillian on Her 37th Birthday (1996)",
           44
          ],
          [
           847,
           "Looking for Richard (1996)",
           55
          ],
          [
           848,
           "Murder, My Sweet (1944)",
           9
          ],
          [
           849,
           "Days of Thunder (1990)",
           53
          ],
          [
           850,
           "Perfect Candidate, A (1996)",
           4
          ],
          [
           851,
           "Two or Three Things I Know About Her (1966)",
           4
          ],
          [
           852,
           "Bloody Child, The (1996)",
           1
          ],
          [
           853,
           "Braindead (1992)",
           14
          ],
          [
           854,
           "Bad Taste (1987)",
           16
          ],
          [
           855,
           "Diva (1981)",
           66
          ],
          [
           856,
           "Night on Earth (1991)",
           36
          ],
          [
           857,
           "Paris Was a Woman (1995)",
           1
          ],
          [
           858,
           "Amityville: Dollhouse (1996)",
           3
          ],
          [
           859,
           "April Fool's Day (1986)",
           15
          ],
          [
           860,
           "Believers, The (1987)",
           16
          ],
          [
           861,
           "Nosferatu a Venezia (1986)",
           3
          ],
          [
           862,
           "Jingle All the Way (1996)",
           18
          ],
          [
           863,
           "Garden of Finzi-Contini, The (Giardino dei Finzi-Contini, Il) (1970)",
           24
          ],
          [
           864,
           "My Fellow Americans (1996)",
           86
          ],
          [
           865,
           "Ice Storm, The (1997)",
           21
          ],
          [
           866,
           "Michael (1996)",
           119
          ],
          [
           867,
           "Whole Wide World, The (1996)",
           6
          ],
          [
           868,
           "Hearts and Minds (1996)",
           5
          ],
          [
           869,
           "Fools Rush In (1997)",
           24
          ],
          [
           870,
           "Touch (1997)",
           9
          ],
          [
           871,
           "Vegas Vacation (1997)",
           75
          ],
          [
           872,
           "Love Jones (1997)",
           42
          ],
          [
           873,
           "Picture Perfect (1997)",
           81
          ],
          [
           874,
           "Career Girls (1997)",
           39
          ],
          [
           875,
           "She's So Lovely (1997)",
           53
          ],
          [
           876,
           "Money Talks (1997)",
           47
          ],
          [
           877,
           "Excess Baggage (1997)",
           52
          ],
          [
           878,
           "That Darn Cat! (1997)",
           33
          ],
          [
           879,
           "Peacemaker, The (1997)",
           136
          ],
          [
           880,
           "Soul Food (1997)",
           59
          ],
          [
           881,
           "Money Talks (1997)",
           45
          ],
          [
           882,
           "Washington Square (1997)",
           34
          ],
          [
           883,
           "Telling Lies in America (1997)",
           13
          ],
          [
           884,
           "Year of the Horse (1997)",
           7
          ],
          [
           885,
           "Phantoms (1998)",
           13
          ],
          [
           886,
           "Life Less Ordinary, A (1997)",
           53
          ],
          [
           887,
           "Eve's Bayou (1997)",
           64
          ],
          [
           888,
           "One Night Stand (1997)",
           15
          ],
          [
           889,
           "Tango Lesson, The (1997)",
           13
          ],
          [
           890,
           "Mortal Kombat: Annihilation (1997)",
           43
          ],
          [
           891,
           "Bent (1997)",
           6
          ],
          [
           892,
           "Flubber (1997)",
           53
          ],
          [
           893,
           "For Richer or Poorer (1997)",
           14
          ],
          [
           894,
           "Home Alone 3 (1997)",
           19
          ],
          [
           895,
           "Scream 2 (1997)",
           106
          ],
          [
           896,
           "Sweet Hereafter, The (1997)",
           44
          ],
          [
           897,
           "Time Tracers (1995)",
           2
          ],
          [
           898,
           "Postman, The (1997)",
           58
          ],
          [
           899,
           "Winter Guest, The (1997)",
           9
          ],
          [
           900,
           "Kundun (1997)",
           42
          ],
          [
           901,
           "Mr. Magoo (1997)",
           12
          ],
          [
           902,
           "Big Lebowski, The (1998)",
           42
          ],
          [
           903,
           "Afterglow (1997)",
           18
          ],
          [
           904,
           "Ma vie en rose (My Life in Pink) (1997)",
           20
          ],
          [
           905,
           "Great Expectations (1998)",
           27
          ],
          [
           906,
           "Oscar & Lucinda (1997)",
           21
          ],
          [
           907,
           "Vermin (1998)",
           2
          ],
          [
           908,
           "Half Baked (1998)",
           20
          ],
          [
           909,
           "Dangerous Beauty (1998)",
           13
          ],
          [
           910,
           "Nil By Mouth (1997)",
           4
          ],
          [
           911,
           "Twilight (1998)",
           4
          ],
          [
           912,
           "U.S. Marshalls (1998)",
           9
          ],
          [
           913,
           "Love and Death on Long Island (1997)",
           2
          ],
          [
           914,
           "Wild Things (1998)",
           11
          ],
          [
           915,
           "Primary Colors (1998)",
           13
          ],
          [
           916,
           "Lost in Space (1998)",
           18
          ],
          [
           917,
           "Mercury Rising (1998)",
           7
          ],
          [
           918,
           "City of Angels (1998)",
           8
          ],
          [
           919,
           "City of Lost Children, The (1995)",
           96
          ],
          [
           920,
           "Two Bits (1995)",
           5
          ],
          [
           921,
           "Farewell My Concubine (1993)",
           46
          ],
          [
           922,
           "Dead Man (1995)",
           34
          ],
          [
           923,
           "Raise the Red Lantern (1991)",
           58
          ],
          [
           924,
           "White Squall (1996)",
           85
          ],
          [
           925,
           "Unforgettable (1996)",
           34
          ],
          [
           926,
           "Down Periscope (1996)",
           101
          ],
          [
           927,
           "Flower of My Secret, The (Flor de mi secreto, La) (1995)",
           6
          ],
          [
           928,
           "Craft, The (1996)",
           104
          ],
          [
           929,
           "Harriet the Spy (1996)",
           40
          ],
          [
           930,
           "Chain Reaction (1996)",
           80
          ],
          [
           931,
           "Island of Dr. Moreau, The (1996)",
           57
          ],
          [
           932,
           "First Kid (1996)",
           40
          ],
          [
           933,
           "Funeral, The (1996)",
           21
          ],
          [
           934,
           "Preacher's Wife, The (1996)",
           68
          ],
          [
           935,
           "Paradise Road (1997)",
           7
          ],
          [
           936,
           "Brassed Off (1996)",
           32
          ],
          [
           937,
           "Thousand Acres, A (1997)",
           37
          ],
          [
           938,
           "Smile Like Yours, A (1997)",
           25
          ],
          [
           939,
           "Murder in the First (1995)",
           60
          ],
          [
           940,
           "Airheads (1994)",
           32
          ],
          [
           941,
           "With Honors (1994)",
           46
          ],
          [
           942,
           "What's Love Got to Do with It (1993)",
           45
          ],
          [
           943,
           "Killing Zoe (1994)",
           40
          ],
          [
           944,
           "Renaissance Man (1994)",
           43
          ],
          [
           945,
           "Charade (1963)",
           40
          ],
          [
           946,
           "Fox and the Hound, The (1981)",
           61
          ],
          [
           947,
           "Big Blue, The (Grand bleu, Le) (1988)",
           17
          ],
          [
           948,
           "Booty Call (1997)",
           48
          ],
          [
           949,
           "How to Make an American Quilt (1995)",
           71
          ],
          [
           950,
           "Georgia (1995)",
           30
          ],
          [
           951,
           "Indian in the Cupboard, The (1995)",
           39
          ],
          [
           952,
           "Blue in the Face (1995)",
           45
          ],
          [
           953,
           "Unstrung Heroes (1995)",
           22
          ],
          [
           954,
           "Unzipped (1995)",
           11
          ],
          [
           955,
           "Before Sunrise (1995)",
           49
          ],
          [
           956,
           "Nobody's Fool (1994)",
           46
          ],
          [
           957,
           "Pushing Hands (1992)",
           2
          ],
          [
           958,
           "To Live (Huozhe) (1994)",
           14
          ],
          [
           959,
           "Dazed and Confused (1993)",
           64
          ],
          [
           960,
           "Naked (1993)",
           25
          ],
          [
           961,
           "Orlando (1993)",
           34
          ],
          [
           962,
           "Ruby in Paradise (1993)",
           23
          ],
          [
           963,
           "Some Folks Call It a Sling Blade (1993)",
           41
          ],
          [
           964,
           "Month by the Lake, A (1995)",
           9
          ],
          [
           965,
           "Funny Face (1957)",
           21
          ],
          [
           966,
           "Affair to Remember, An (1957)",
           26
          ],
          [
           967,
           "Little Lord Fauntleroy (1936)",
           12
          ],
          [
           968,
           "Inspector General, The (1949)",
           18
          ],
          [
           969,
           "Winnie the Pooh and the Blustery Day (1968)",
           75
          ],
          [
           970,
           "Hear My Song (1991)",
           8
          ],
          [
           971,
           "Mediterraneo (1991)",
           34
          ],
          [
           972,
           "Passion Fish (1992)",
           28
          ],
          [
           973,
           "Grateful Dead (1995)",
           4
          ],
          [
           974,
           "Eye for an Eye (1996)",
           32
          ],
          [
           975,
           "Fear (1996)",
           44
          ],
          [
           976,
           "Solo (1996)",
           12
          ],
          [
           977,
           "Substitute, The (1996)",
           49
          ],
          [
           978,
           "Heaven's Prisoners (1996)",
           27
          ],
          [
           979,
           "Trigger Effect, The (1996)",
           35
          ],
          [
           980,
           "Mother Night (1996)",
           22
          ],
          [
           981,
           "Dangerous Ground (1997)",
           8
          ],
          [
           982,
           "Maximum Risk (1996)",
           20
          ],
          [
           983,
           "Rich Man's Wife, The (1996)",
           15
          ],
          [
           984,
           "Shadow Conspiracy (1997)",
           44
          ],
          [
           985,
           "Blood & Wine (1997)",
           22
          ],
          [
           986,
           "Turbulence (1997)",
           23
          ],
          [
           987,
           "Underworld (1997)",
           4
          ],
          [
           988,
           "Beautician and the Beast, The (1997)",
           86
          ],
          [
           989,
           "Cats Don't Dance (1997)",
           32
          ],
          [
           990,
           "Anna Karenina (1997)",
           33
          ],
          [
           991,
           "Keys to Tulsa (1997)",
           25
          ],
          [
           992,
           "Head Above Water (1996)",
           4
          ],
          [
           993,
           "Hercules (1997)",
           66
          ],
          [
           994,
           "Last Time I Committed Suicide, The (1997)",
           7
          ],
          [
           995,
           "Kiss Me, Guido (1997)",
           31
          ],
          [
           996,
           "Big Green, The (1995)",
           14
          ],
          [
           997,
           "Stuart Saves His Family (1995)",
           16
          ],
          [
           998,
           "Cabin Boy (1994)",
           16
          ],
          [
           999,
           "Clean Slate (1994)",
           10
          ],
          [
           1000,
           "Lightning Jack (1994)",
           10
          ],
          [
           1001,
           "Stupids, The (1996)",
           17
          ],
          [
           1002,
           "Pest, The (1997)",
           8
          ],
          [
           1003,
           "That Darn Cat! (1997)",
           8
          ],
          [
           1004,
           "Geronimo: An American Legend (1993)",
           9
          ],
          [
           1005,
           "Double vie de Véronique, La (Double Life of Veronique, The) (1991)",
           22
          ],
          [
           1006,
           "Until the End of the World (Bis ans Ende der Welt) (1991)",
           23
          ],
          [
           1007,
           "Waiting for Guffman (1996)",
           47
          ],
          [
           1008,
           "I Shot Andy Warhol (1996)",
           37
          ],
          [
           1009,
           "Stealing Beauty (1996)",
           64
          ],
          [
           1010,
           "Basquiat (1996)",
           44
          ],
          [
           1011,
           "2 Days in the Valley (1996)",
           93
          ],
          [
           1012,
           "Private Parts (1997)",
           100
          ],
          [
           1013,
           "Anaconda (1997)",
           38
          ],
          [
           1014,
           "Romy and Michele's High School Reunion (1997)",
           98
          ],
          [
           1015,
           "Shiloh (1997)",
           12
          ],
          [
           1016,
           "Con Air (1997)",
           137
          ],
          [
           1017,
           "Trees Lounge (1996)",
           50
          ],
          [
           1018,
           "Tie Me Up! Tie Me Down! (1990)",
           32
          ],
          [
           1019,
           "Die xue shuang xiong (Killer, The) (1989)",
           31
          ],
          [
           1020,
           "Gaslight (1944)",
           35
          ],
          [
           1021,
           "8 1/2 (1963)",
           38
          ],
          [
           1022,
           "Fast, Cheap & Out of Control (1997)",
           32
          ],
          [
           1023,
           "Fathers' Day (1997)",
           31
          ],
          [
           1024,
           "Mrs. Dalloway (1997)",
           15
          ],
          [
           1025,
           "Fire Down Below (1997)",
           44
          ],
          [
           1026,
           "Lay of the Land, The (1997)",
           4
          ],
          [
           1027,
           "Shooter, The (1995)",
           3
          ],
          [
           1028,
           "Grumpier Old Men (1995)",
           148
          ],
          [
           1029,
           "Jury Duty (1995)",
           14
          ],
          [
           1030,
           "Beverly Hillbillies, The (1993)",
           20
          ],
          [
           1031,
           "Lassie (1994)",
           7
          ],
          [
           1032,
           "Little Big League (1994)",
           16
          ],
          [
           1033,
           "Homeward Bound II: Lost in San Francisco (1996)",
           32
          ],
          [
           1034,
           "Quest, The (1996)",
           27
          ],
          [
           1035,
           "Cool Runnings (1993)",
           68
          ],
          [
           1036,
           "Drop Dead Fred (1991)",
           24
          ],
          [
           1037,
           "Grease 2 (1982)",
           24
          ],
          [
           1038,
           "Switchback (1997)",
           17
          ],
          [
           1039,
           "Hamlet (1996)",
           90
          ],
          [
           1040,
           "Two if by Sea (1996)",
           25
          ],
          [
           1041,
           "Forget Paris (1995)",
           62
          ],
          [
           1042,
           "Just Cause (1995)",
           28
          ],
          [
           1043,
           "Rent-a-Kid (1995)",
           8
          ],
          [
           1044,
           "Paper, The (1994)",
           40
          ],
          [
           1045,
           "Fearless (1993)",
           25
          ],
          [
           1046,
           "Malice (1993)",
           46
          ],
          [
           1047,
           "Multiplicity (1996)",
           134
          ],
          [
           1048,
           "She's the One (1996)",
           73
          ],
          [
           1049,
           "House Arrest (1996)",
           25
          ],
          [
           1050,
           "Ghost and Mrs. Muir, The (1947)",
           43
          ],
          [
           1051,
           "Associate, The (1996)",
           41
          ],
          [
           1052,
           "Dracula: Dead and Loving It (1995)",
           25
          ],
          [
           1053,
           "Now and Then (1995)",
           24
          ],
          [
           1054,
           "Mr. Wrong (1996)",
           23
          ],
          [
           1055,
           "Simple Twist of Fate, A (1994)",
           10
          ],
          [
           1056,
           "Cronos (1992)",
           10
          ],
          [
           1057,
           "Pallbearer, The (1996)",
           22
          ],
          [
           1058,
           "War, The (1994)",
           15
          ],
          [
           1059,
           "Don't Be a Menace to South Central While Drinking Your Juice in the Hood (1996)",
           35
          ],
          [
           1060,
           "Adventures of Pinocchio, The (1996)",
           39
          ],
          [
           1061,
           "Evening Star, The (1996)",
           29
          ],
          [
           1062,
           "Four Days in September (1997)",
           12
          ],
          [
           1063,
           "Little Princess, A (1995)",
           41
          ],
          [
           1064,
           "Crossfire (1947)",
           4
          ],
          [
           1065,
           "Koyaanisqatsi (1983)",
           53
          ],
          [
           1066,
           "Balto (1995)",
           16
          ],
          [
           1067,
           "Bottle Rocket (1996)",
           44
          ],
          [
           1068,
           "Star Maker, The (Uomo delle stelle, L') (1995)",
           12
          ],
          [
           1069,
           "Amateur (1994)",
           18
          ],
          [
           1070,
           "Living in Oblivion (1995)",
           27
          ],
          [
           1071,
           "Party Girl (1995)",
           16
          ],
          [
           1072,
           "Pyromaniac's Love Story, A (1995)",
           7
          ],
          [
           1073,
           "Shallow Grave (1994)",
           66
          ],
          [
           1074,
           "Reality Bites (1994)",
           77
          ],
          [
           1075,
           "Man of No Importance, A (1994)",
           7
          ],
          [
           1076,
           "Pagemaster, The (1994)",
           12
          ],
          [
           1077,
           "Love and a .45 (1994)",
           8
          ],
          [
           1078,
           "Oliver & Company (1988)",
           22
          ],
          [
           1079,
           "Joe's Apartment (1996)",
           45
          ],
          [
           1080,
           "Celestial Clockwork (1994)",
           2
          ],
          [
           1081,
           "Curdled (1996)",
           8
          ],
          [
           1082,
           "Female Perversions (1996)",
           8
          ],
          [
           1083,
           "Albino Alligator (1996)",
           6
          ],
          [
           1084,
           "Anne Frank Remembered (1995)",
           21
          ],
          [
           1085,
           "Carried Away (1996)",
           11
          ],
          [
           1086,
           "It's My Party (1995)",
           21
          ],
          [
           1087,
           "Bloodsport 2 (1995)",
           10
          ],
          [
           1088,
           "Double Team (1997)",
           13
          ],
          [
           1089,
           "Speed 2: Cruise Control (1997)",
           38
          ],
          [
           1090,
           "Sliver (1993)",
           37
          ],
          [
           1091,
           "Pete's Dragon (1977)",
           43
          ],
          [
           1092,
           "Dear God (1996)",
           12
          ],
          [
           1093,
           "Live Nude Girls (1995)",
           23
          ],
          [
           1094,
           "Thin Line Between Love and Hate, A (1996)",
           12
          ],
          [
           1095,
           "High School High (1996)",
           29
          ],
          [
           1096,
           "Commandments (1997)",
           3
          ],
          [
           1097,
           "Hate (Haine, La) (1995)",
           18
          ],
          [
           1098,
           "Flirting With Disaster (1996)",
           42
          ],
          [
           1099,
           "Red Firecracker, Green Firecracker (1994)",
           13
          ],
          [
           1100,
           "What Happened Was... (1994)",
           8
          ],
          [
           1101,
           "Six Degrees of Separation (1993)",
           74
          ],
          [
           1102,
           "Two Much (1996)",
           7
          ],
          [
           1103,
           "Trust (1990)",
           19
          ],
          [
           1104,
           "C'est arrivé près de chez vous (1992)",
           4
          ],
          [
           1105,
           "Firestorm (1998)",
           18
          ],
          [
           1106,
           "Newton Boys, The (1998)",
           4
          ],
          [
           1107,
           "Beyond Rangoon (1995)",
           18
          ],
          [
           1108,
           "Feast of July (1995)",
           5
          ],
          [
           1109,
           "Death and the Maiden (1994)",
           28
          ],
          [
           1110,
           "Tank Girl (1995)",
           41
          ],
          [
           1111,
           "Double Happiness (1994)",
           7
          ],
          [
           1112,
           "Cobb (1994)",
           15
          ],
          [
           1113,
           "Mrs. Parker and the Vicious Circle (1994)",
           22
          ],
          [
           1114,
           "Faithful (1996)",
           10
          ],
          [
           1115,
           "Twelfth Night (1996)",
           29
          ],
          [
           1116,
           "Mark of Zorro, The (1940)",
           13
          ],
          [
           1117,
           "Surviving Picasso (1996)",
           19
          ],
          [
           1118,
           "Up in Smoke (1978)",
           47
          ],
          [
           1119,
           "Some Kind of Wonderful (1987)",
           59
          ],
          [
           1120,
           "I'm Not Rappaport (1996)",
           17
          ],
          [
           1121,
           "Umbrellas of Cherbourg, The (Parapluies de Cherbourg, Les) (1964)",
           21
          ],
          [
           1122,
           "They Made Me a Criminal (1939)",
           1
          ],
          [
           1123,
           "Last Time I Saw Paris, The (1954)",
           3
          ],
          [
           1124,
           "Farewell to Arms, A (1932)",
           12
          ],
          [
           1125,
           "Innocents, The (1961)",
           4
          ],
          [
           1126,
           "Old Man and the Sea, The (1958)",
           32
          ],
          [
           1127,
           "Truman Show, The (1998)",
           11
          ],
          [
           1128,
           "Heidi Fleiss: Hollywood Madam (1995) ",
           13
          ],
          [
           1129,
           "Chungking Express (1994)",
           28
          ],
          [
           1130,
           "Jupiter's Wife (1994)",
           1
          ],
          [
           1131,
           "Safe (1995)",
           13
          ],
          [
           1132,
           "Feeling Minnesota (1996)",
           32
          ],
          [
           1133,
           "Escape to Witch Mountain (1975)",
           30
          ],
          [
           1134,
           "Get on the Bus (1996)",
           38
          ],
          [
           1135,
           "Doors, The (1991)",
           46
          ],
          [
           1136,
           "Ghosts of Mississippi (1996)",
           29
          ],
          [
           1137,
           "Beautiful Thing (1996)",
           29
          ],
          [
           1138,
           "Best Men (1997)",
           5
          ],
          [
           1139,
           "Hackers (1995)",
           33
          ],
          [
           1140,
           "Road to Wellville, The (1994)",
           17
          ],
          [
           1141,
           "War Room, The (1993)",
           9
          ],
          [
           1142,
           "When We Were Kings (1996)",
           44
          ],
          [
           1143,
           "Hard Eight (1996)",
           15
          ],
          [
           1144,
           "Quiet Room, The (1996)",
           3
          ],
          [
           1145,
           "Blue Chips (1994)",
           9
          ],
          [
           1146,
           "Calendar Girl (1993)",
           3
          ],
          [
           1147,
           "My Family (1995)",
           21
          ],
          [
           1148,
           "Tom & Viv (1994)",
           9
          ],
          [
           1149,
           "Walkabout (1971)",
           26
          ],
          [
           1150,
           "Last Dance (1996)",
           9
          ],
          [
           1151,
           "Original Gangstas (1996)",
           7
          ],
          [
           1152,
           "In Love and War (1996)",
           28
          ],
          [
           1153,
           "Backbeat (1993)",
           19
          ],
          [
           1154,
           "Alphaville (1965)",
           12
          ],
          [
           1155,
           "Rendezvous in Paris (Rendez-vous de Paris, Les) (1995)",
           3
          ],
          [
           1156,
           "Cyclo (1995)",
           1
          ],
          [
           1157,
           "Relic, The (1997)",
           25
          ],
          [
           1158,
           "Fille seule, La (A Single Girl) (1995)",
           4
          ],
          [
           1159,
           "Stalker (1979)",
           11
          ],
          [
           1160,
           "Love! Valour! Compassion! (1997)",
           26
          ],
          [
           1161,
           "Palookaville (1996)",
           13
          ],
          [
           1162,
           "Phat Beach (1996)",
           5
          ],
          [
           1163,
           "Portrait of a Lady, The (1996)",
           25
          ],
          [
           1164,
           "Zeus and Roxanne (1997)",
           6
          ],
          [
           1165,
           "Big Bully (1996)",
           14
          ],
          [
           1166,
           "Love & Human Remains (1993)",
           12
          ],
          [
           1167,
           "Sum of Us, The (1994)",
           11
          ],
          [
           1168,
           "Little Buddha (1993)",
           22
          ],
          [
           1169,
           "Fresh (1994)",
           10
          ],
          [
           1170,
           "Spanking the Monkey (1994)",
           27
          ],
          [
           1171,
           "Wild Reeds (1994)",
           14
          ],
          [
           1172,
           "Women, The (1939)",
           15
          ],
          [
           1173,
           "Bliss (1997)",
           7
          ],
          [
           1174,
           "Caught (1996)",
           8
          ],
          [
           1175,
           "Hugo Pool (1997)",
           5
          ],
          [
           1176,
           "Welcome To Sarajevo (1997)",
           22
          ],
          [
           1177,
           "Dunston Checks In (1996)",
           7
          ],
          [
           1178,
           "Major Payne (1994)",
           19
          ],
          [
           1179,
           "Man of the House (1995)",
           9
          ],
          [
           1180,
           "I Love Trouble (1994)",
           10
          ],
          [
           1181,
           "Low Down Dirty Shame, A (1994)",
           10
          ],
          [
           1182,
           "Cops and Robbersons (1994)",
           13
          ],
          [
           1183,
           "Cowboy Way, The (1994)",
           19
          ],
          [
           1184,
           "Endless Summer 2, The (1994)",
           10
          ],
          [
           1185,
           "In the Army Now (1994)",
           18
          ],
          [
           1186,
           "Inkwell, The (1994)",
           3
          ],
          [
           1187,
           "Switchblade Sisters (1975)",
           13
          ],
          [
           1188,
           "Young Guns II (1990)",
           44
          ],
          [
           1189,
           "Prefontaine (1997)",
           3
          ],
          [
           1190,
           "That Old Feeling (1997)",
           11
          ],
          [
           1191,
           "Letter From Death Row, A (1998)",
           3
          ],
          [
           1192,
           "Boys of St. Vincent, The (1993)",
           13
          ],
          [
           1193,
           "Before the Rain (Pred dozhdot) (1994)",
           10
          ],
          [
           1194,
           "Once Were Warriors (1994)",
           31
          ],
          [
           1195,
           "Strawberry and Chocolate (Fresa y chocolate) (1993)",
           11
          ],
          [
           1196,
           "Savage Nights (Nuits fauves, Les) (1992)",
           3
          ],
          [
           1197,
           "Family Thing, A (1996)",
           45
          ],
          [
           1198,
           "Purple Noon (1960)",
           7
          ],
          [
           1199,
           "Cemetery Man (Dellamorte Dellamore) (1994)",
           23
          ],
          [
           1200,
           "Kim (1950)",
           7
          ],
          [
           1201,
           "Marlene Dietrich: Shadow and Light (1996) ",
           1
          ],
          [
           1202,
           "Maybe, Maybe Not (Bewegte Mann, Der) (1994)",
           8
          ],
          [
           1203,
           "Top Hat (1935)",
           21
          ],
          [
           1204,
           "To Be or Not to Be (1942)",
           18
          ],
          [
           1205,
           "Secret Agent, The (1996)",
           6
          ],
          [
           1206,
           "Amos & Andrew (1993)",
           19
          ],
          [
           1207,
           "Jade (1995)",
           17
          ],
          [
           1208,
           "Kiss of Death (1995)",
           20
          ],
          [
           1209,
           "Mixed Nuts (1994)",
           15
          ],
          [
           1210,
           "Virtuosity (1995)",
           38
          ],
          [
           1211,
           "Blue Sky (1994)",
           12
          ],
          [
           1212,
           "Flesh and Bone (1993)",
           6
          ],
          [
           1213,
           "Guilty as Sin (1993)",
           6
          ],
          [
           1214,
           "In the Realm of the Senses (Ai no corrida) (1976)",
           9
          ],
          [
           1215,
           "Barb Wire (1996)",
           30
          ],
          [
           1216,
           "Kissed (1996)",
           6
          ],
          [
           1217,
           "Assassins (1995)",
           39
          ],
          [
           1218,
           "Friday (1995)",
           26
          ],
          [
           1219,
           "Goofy Movie, A (1995)",
           20
          ],
          [
           1220,
           "Higher Learning (1995)",
           30
          ],
          [
           1221,
           "When a Man Loves a Woman (1994)",
           39
          ],
          [
           1222,
           "Judgment Night (1993)",
           25
          ],
          [
           1223,
           "King of the Hill (1993)",
           4
          ],
          [
           1224,
           "Scout, The (1994)",
           12
          ],
          [
           1225,
           "Angus (1995)",
           14
          ],
          [
           1226,
           "Night Falls on Manhattan (1997)",
           32
          ],
          [
           1227,
           "Awfully Big Adventure, An (1995)",
           8
          ],
          [
           1228,
           "Under Siege 2: Dark Territory (1995)",
           48
          ],
          [
           1229,
           "Poison Ivy II (1995)",
           13
          ],
          [
           1230,
           "Ready to Wear (Pret-A-Porter) (1994)",
           18
          ],
          [
           1231,
           "Marked for Death (1990)",
           22
          ],
          [
           1232,
           "Madonna: Truth or Dare (1991)",
           17
          ],
          [
           1233,
           "Nénette et Boni (1996)",
           6
          ],
          [
           1234,
           "Chairman of the Board (1998)",
           8
          ],
          [
           1235,
           "Big Bang Theory, The (1994)",
           1
          ],
          [
           1236,
           "Other Voices, Other Rooms (1997)",
           1
          ],
          [
           1237,
           "Twisted (1996)",
           6
          ],
          [
           1238,
           "Full Speed (1996)",
           8
          ],
          [
           1239,
           "Cutthroat Island (1995)",
           18
          ],
          [
           1240,
           "Ghost in the Shell (Kokaku kidotai) (1995)",
           26
          ],
          [
           1241,
           "Van, The (1996)",
           6
          ],
          [
           1242,
           "Old Lady Who Walked in the Sea, The (Vieille qui marchait dans la mer, La) (1991)",
           5
          ],
          [
           1243,
           "Night Flier (1997)",
           7
          ],
          [
           1244,
           "Metro (1997)",
           36
          ],
          [
           1245,
           "Gridlock'd (1997)",
           19
          ],
          [
           1246,
           "Bushwhacked (1995)",
           7
          ],
          [
           1247,
           "Bad Girls (1994)",
           6
          ],
          [
           1248,
           "Blink (1994)",
           19
          ],
          [
           1249,
           "For Love or Money (1993)",
           12
          ],
          [
           1250,
           "Best of the Best 3: No Turning Back (1995)",
           6
          ],
          [
           1251,
           "A Chef in Love (1996)",
           8
          ],
          [
           1252,
           "Contempt (Mépris, Le) (1963)",
           9
          ],
          [
           1253,
           "Tie That Binds, The (1995)",
           7
          ],
          [
           1254,
           "Gone Fishin' (1997)",
           11
          ],
          [
           1255,
           "Broken English (1996)",
           8
          ],
          [
           1256,
           "Designated Mourner, The (1997)",
           3
          ],
          [
           1257,
           "Designated Mourner, The (1997)",
           4
          ],
          [
           1258,
           "Trial and Error (1997)",
           23
          ],
          [
           1259,
           "Pie in the Sky (1995)",
           4
          ],
          [
           1260,
           "Total Eclipse (1995)",
           4
          ],
          [
           1261,
           "Run of the Country, The (1995)",
           4
          ],
          [
           1262,
           "Walking and Talking (1996)",
           8
          ],
          [
           1263,
           "Foxfire (1996)",
           15
          ],
          [
           1264,
           "Nothing to Lose (1994)",
           7
          ],
          [
           1265,
           "Star Maps (1997)",
           19
          ],
          [
           1266,
           "Bread and Chocolate (Pane e cioccolata) (1973)",
           12
          ],
          [
           1267,
           "Clockers (1995)",
           33
          ],
          [
           1268,
           "Bitter Moon (1992)",
           10
          ],
          [
           1269,
           "Love in the Afternoon (1957)",
           10
          ],
          [
           1270,
           "Life with Mikey (1993)",
           7
          ],
          [
           1271,
           "North (1994)",
           7
          ],
          [
           1272,
           "Talking About Sex (1994)",
           5
          ],
          [
           1273,
           "Color of Night (1994)",
           15
          ],
          [
           1274,
           "Robocop 3 (1993)",
           11
          ],
          [
           1275,
           "Killer (Bulletproof Heart) (1994)",
           4
          ],
          [
           1276,
           "Sunset Park (1996)",
           8
          ],
          [
           1277,
           "Set It Off (1996)",
           19
          ],
          [
           1278,
           "Selena (1997)",
           16
          ],
          [
           1279,
           "Wild America (1997)",
           9
          ],
          [
           1280,
           "Gang Related (1997)",
           16
          ],
          [
           1281,
           "Manny & Lo (1996)",
           13
          ],
          [
           1282,
           "Grass Harp, The (1995)",
           9
          ],
          [
           1283,
           "Out to Sea (1997)",
           19
          ],
          [
           1284,
           "Before and After (1996)",
           26
          ],
          [
           1285,
           "Princess Caraboo (1994)",
           15
          ],
          [
           1286,
           "Shall We Dance? (1937)",
           17
          ],
          [
           1287,
           "Ed (1996)",
           6
          ],
          [
           1288,
           "Denise Calls Up (1995)",
           7
          ],
          [
           1289,
           "Jack and Sarah (1995)",
           7
          ],
          [
           1290,
           "Country Life (1994)",
           2
          ],
          [
           1291,
           "Celtic Pride (1996)",
           15
          ],
          [
           1292,
           "Simple Wish, A (1997)",
           3
          ],
          [
           1293,
           "Star Kid (1997)",
           3
          ],
          [
           1294,
           "Ayn Rand: A Sense of Life (1997)",
           7
          ],
          [
           1295,
           "Kicked in the Head (1997)",
           7
          ],
          [
           1296,
           "Indian Summer (1996)",
           20
          ],
          [
           1297,
           "Love Affair (1994)",
           12
          ],
          [
           1298,
           "Band Wagon, The (1953)",
           9
          ],
          [
           1299,
           "Penny Serenade (1941)",
           8
          ],
          [
           1300,
           "'Til There Was You (1997)",
           9
          ],
          [
           1301,
           "Stripes (1981)",
           5
          ],
          [
           1302,
           "Late Bloomers (1996)",
           5
          ],
          [
           1303,
           "Getaway, The (1994)",
           18
          ],
          [
           1304,
           "New York Cop (1996)",
           2
          ],
          [
           1305,
           "National Lampoon's Senior Trip (1995)",
           7
          ],
          [
           1306,
           "Delta of Venus (1994)",
           2
          ],
          [
           1307,
           "Carmen Miranda: Bananas Is My Business (1994)",
           2
          ],
          [
           1308,
           "Babyfever (1994)",
           2
          ],
          [
           1309,
           "Very Natural Thing, A (1974)",
           1
          ],
          [
           1310,
           "Walk in the Sun, A (1945)",
           1
          ],
          [
           1311,
           "Waiting to Exhale (1995)",
           16
          ],
          [
           1312,
           "Pompatus of Love, The (1996)",
           7
          ],
          [
           1313,
           "Palmetto (1998)",
           14
          ],
          [
           1314,
           "Surviving the Game (1994)",
           11
          ],
          [
           1315,
           "Inventing the Abbotts (1997)",
           23
          ],
          [
           1316,
           "Horse Whisperer, The (1998)",
           7
          ],
          [
           1317,
           "Journey of August King, The (1995)",
           4
          ],
          [
           1318,
           "Catwalk (1995)",
           3
          ],
          [
           1319,
           "Neon Bible, The (1995)",
           4
          ],
          [
           1320,
           "Homage (1995)",
           1
          ],
          [
           1321,
           "Open Season (1996)",
           2
          ],
          [
           1322,
           "Metisse (Café au Lait) (1993)",
           6
          ],
          [
           1323,
           "Wooden Man's Bride, The (Wu Kui) (1994)",
           3
          ],
          [
           1324,
           "Loaded (1994)",
           5
          ],
          [
           1325,
           "August (1996)",
           1
          ],
          [
           1326,
           "Boys (1996)",
           6
          ],
          [
           1327,
           "Captives (1994)",
           3
          ],
          [
           1328,
           "Of Love and Shadows (1994)",
           6
          ],
          [
           1329,
           "Low Life, The (1994)",
           1
          ],
          [
           1330,
           "An Unforgettable Summer (1994)",
           4
          ],
          [
           1331,
           "Last Klezmer: Leopold Kozlowski, His Life and Music, The (1995)",
           4
          ],
          [
           1332,
           "My Life and Times With Antonin Artaud (En compagnie d'Antonin Artaud) (1993)",
           2
          ],
          [
           1333,
           "Midnight Dancers (Sibak) (1994)",
           5
          ],
          [
           1334,
           "Somebody to Love (1994)",
           2
          ],
          [
           1335,
           "American Buffalo (1996)",
           11
          ],
          [
           1336,
           "Kazaam (1996)",
           10
          ],
          [
           1337,
           "Larger Than Life (1996)",
           9
          ],
          [
           1338,
           "Two Deaths (1995)",
           4
          ],
          [
           1339,
           "Stefano Quantestorie (1993)",
           1
          ],
          [
           1340,
           "Crude Oasis, The (1995)",
           1
          ],
          [
           1341,
           "Hedd Wyn (1992)",
           1
          ],
          [
           1342,
           "Convent, The (Convento, O) (1995)",
           2
          ],
          [
           1343,
           "Lotto Land (1995)",
           1
          ],
          [
           1344,
           "Story of Xinghua, The (1993)",
           5
          ],
          [
           1345,
           "Day the Sun Turned Cold, The (Tianguo niezi) (1994)",
           2
          ],
          [
           1346,
           "Dingo (1992)",
           5
          ],
          [
           1347,
           "Ballad of Narayama, The (Narayama Bushiko) (1958)",
           4
          ],
          [
           1348,
           "Every Other Weekend (1990)",
           1
          ],
          [
           1349,
           "Mille bolle blu (1993)",
           1
          ],
          [
           1350,
           "Crows and Sparrows (1949)",
           2
          ],
          [
           1351,
           "Lover's Knot (1996)",
           3
          ],
          [
           1352,
           "Shadow of Angels (Schatten der Engel) (1976)",
           1
          ],
          [
           1353,
           "1-900 (1994)",
           5
          ],
          [
           1354,
           "Venice/Venice (1992)",
           2
          ],
          [
           1355,
           "Infinity (1996)",
           6
          ],
          [
           1356,
           "Ed's Next Move (1996)",
           3
          ],
          [
           1357,
           "For the Moment (1994)",
           3
          ],
          [
           1358,
           "The Deadly Cure (1996)",
           2
          ],
          [
           1359,
           "Boys in Venice (1996)",
           2
          ],
          [
           1360,
           "Sexual Life of the Belgians, The (1994)",
           2
          ],
          [
           1361,
           "Search for One-eye Jimmy, The (1996)",
           3
          ],
          [
           1362,
           "American Strays (1996)",
           2
          ],
          [
           1363,
           "Leopard Son, The (1996)",
           1
          ],
          [
           1364,
           "Bird of Prey (1996)",
           1
          ],
          [
           1365,
           "Johnny 100 Pesos (1993)",
           2
          ],
          [
           1366,
           "JLG/JLG - autoportrait de décembre (1994)",
           1
          ],
          [
           1367,
           "Faust (1994)",
           5
          ],
          [
           1368,
           "Mina Tannenbaum (1994)",
           6
          ],
          [
           1369,
           "Forbidden Christ, The (Cristo proibito, Il) (1950)",
           4
          ],
          [
           1370,
           "I Can't Sleep (J'ai pas sommeil) (1994)",
           3
          ],
          [
           1371,
           "Machine, The (1994)",
           2
          ],
          [
           1372,
           "Stranger, The (1994)",
           3
          ],
          [
           1373,
           "Good Morning (1971)",
           1
          ],
          [
           1374,
           "Falling in Love Again (1980)",
           2
          ],
          [
           1375,
           "Cement Garden, The (1993)",
           10
          ],
          [
           1376,
           "Meet Wally Sparks (1997)",
           7
          ],
          [
           1377,
           "Hotel de Love (1996)",
           4
          ],
          [
           1378,
           "Rhyme & Reason (1997)",
           5
          ],
          [
           1379,
           "Love and Other Catastrophes (1996)",
           7
          ],
          [
           1380,
           "Hollow Reed (1996)",
           6
          ],
          [
           1381,
           "Losing Chase (1996)",
           8
          ],
          [
           1382,
           "Bonheur, Le (1965)",
           4
          ],
          [
           1383,
           "Second Jungle Book: Mowgli & Baloo, The (1997)",
           6
          ],
          [
           1384,
           "Squeeze (1996)",
           3
          ],
          [
           1385,
           "Roseanna's Grave (For Roseanna) (1997)",
           5
          ],
          [
           1386,
           "Tetsuo II: Body Hammer (1992)",
           6
          ],
          [
           1387,
           "Fall (1997)",
           3
          ],
          [
           1388,
           "Gabbeh (1996)",
           6
          ],
          [
           1389,
           "Mondo (1996)",
           3
          ],
          [
           1390,
           "Innocent Sleep, The (1995)",
           2
          ],
          [
           1391,
           "For Ever Mozart (1996)",
           3
          ],
          [
           1392,
           "Locusts, The (1997)",
           5
          ],
          [
           1393,
           "Stag (1997)",
           9
          ],
          [
           1394,
           "Swept from the Sea (1997)",
           7
          ],
          [
           1395,
           "Hurricane Streets (1998)",
           6
          ],
          [
           1396,
           "Stonewall (1995)",
           5
          ],
          [
           1397,
           "Of Human Bondage (1934)",
           5
          ],
          [
           1398,
           "Anna (1996)",
           2
          ],
          [
           1399,
           "Stranger in the House (1997)",
           7
          ],
          [
           1400,
           "Picture Bride (1995)",
           10
          ],
          [
           1401,
           "M. Butterfly (1993)",
           18
          ],
          [
           1402,
           "Ciao, Professore! (1993)",
           4
          ],
          [
           1403,
           "Caro Diario (Dear Diary) (1994)",
           4
          ],
          [
           1404,
           "Withnail and I (1987)",
           13
          ],
          [
           1405,
           "Boy's Life 2 (1997)",
           6
          ],
          [
           1406,
           "When Night Is Falling (1995)",
           5
          ],
          [
           1407,
           "Specialist, The (1994)",
           20
          ],
          [
           1408,
           "Gordy (1995)",
           3
          ],
          [
           1409,
           "Swan Princess, The (1994)",
           7
          ],
          [
           1410,
           "Harlem (1993)",
           4
          ],
          [
           1411,
           "Barbarella (1968)",
           28
          ],
          [
           1412,
           "Land Before Time III: The Time of the Great Giving (1995) (V)",
           6
          ],
          [
           1413,
           "Street Fighter (1994)",
           8
          ],
          [
           1414,
           "Coldblooded (1995)",
           1
          ],
          [
           1415,
           "Next Karate Kid, The (1994)",
           9
          ],
          [
           1416,
           "No Escape (1994)",
           5
          ],
          [
           1417,
           "Turning, The (1992)",
           2
          ],
          [
           1418,
           "Joy Luck Club, The (1993)",
           3
          ],
          [
           1419,
           "Highlander III: The Sorcerer (1994)",
           16
          ],
          [
           1420,
           "Gilligan's Island: The Movie (1998)",
           3
          ],
          [
           1421,
           "My Crazy Life (Mi vida loca) (1993)",
           11
          ],
          [
           1422,
           "Suture (1993)",
           4
          ],
          [
           1423,
           "Walking Dead, The (1995)",
           4
          ],
          [
           1424,
           "I Like It Like That (1994)",
           3
          ],
          [
           1425,
           "I'll Do Anything (1994)",
           10
          ],
          [
           1426,
           "Grace of My Heart (1996)",
           8
          ],
          [
           1427,
           "Drunks (1995)",
           5
          ],
          [
           1428,
           "SubUrbia (1997)",
           12
          ],
          [
           1429,
           "Sliding Doors (1998)",
           4
          ],
          [
           1430,
           "Ill Gotten Gains (1997)",
           3
          ],
          [
           1431,
           "Legal Deceit (1997)",
           5
          ],
          [
           1432,
           "Mighty, The (1998)",
           3
          ],
          [
           1433,
           "Men of Means (1998)",
           2
          ],
          [
           1434,
           "Shooting Fish (1997)",
           10
          ],
          [
           1435,
           "Steal Big, Steal Little (1995)",
           7
          ],
          [
           1436,
           "Mr. Jones (1993)",
           2
          ],
          [
           1437,
           "House Party 3 (1994)",
           9
          ],
          [
           1438,
           "Panther (1995)",
           5
          ],
          [
           1439,
           "Jason's Lyric (1994)",
           8
          ],
          [
           1440,
           "Above the Rim (1994)",
           5
          ],
          [
           1441,
           "Moonlight and Valentino (1995)",
           7
          ],
          [
           1442,
           "Scarlet Letter, The (1995)",
           5
          ],
          [
           1443,
           "8 Seconds (1994)",
           4
          ],
          [
           1444,
           "That Darn Cat! (1965)",
           19
          ],
          [
           1445,
           "Ladybird Ladybird (1994)",
           4
          ],
          [
           1446,
           "Bye Bye, Love (1995)",
           15
          ],
          [
           1447,
           "Century (1993)",
           1
          ],
          [
           1448,
           "My Favorite Season (1993)",
           3
          ],
          [
           1449,
           "Pather Panchali (1955)",
           8
          ],
          [
           1450,
           "Golden Earrings (1947)",
           2
          ],
          [
           1451,
           "Foreign Correspondent (1940)",
           15
          ],
          [
           1452,
           "Lady of Burlesque (1943)",
           1
          ],
          [
           1453,
           "Angel on My Shoulder (1946)",
           1
          ],
          [
           1454,
           "Angel and the Badman (1947)",
           6
          ],
          [
           1455,
           "Outlaw, The (1943)",
           2
          ],
          [
           1456,
           "Beat the Devil (1954)",
           7
          ],
          [
           1457,
           "Love Is All There Is (1996)",
           1
          ],
          [
           1458,
           "Damsel in Distress, A (1937)",
           1
          ],
          [
           1459,
           "Madame Butterfly (1995)",
           7
          ],
          [
           1460,
           "Sleepover (1995)",
           1
          ],
          [
           1461,
           "Here Comes Cookie (1935)",
           1
          ],
          [
           1462,
           "Thieves (Voleurs, Les) (1996)",
           7
          ],
          [
           1463,
           "Boys, Les (1997)",
           3
          ],
          [
           1464,
           "Stars Fell on Henrietta, The (1995)",
           3
          ],
          [
           1465,
           "Last Summer in the Hamptons (1995)",
           3
          ],
          [
           1466,
           "Margaret's Museum (1995)",
           6
          ],
          [
           1467,
           "Saint of Fort Washington, The (1993)",
           2
          ],
          [
           1468,
           "Cure, The (1995)",
           6
          ],
          [
           1469,
           "Tom and Huck (1995)",
           12
          ],
          [
           1470,
           "Gumby: The Movie (1995)",
           5
          ],
          [
           1471,
           "Hideaway (1995)",
           9
          ],
          [
           1472,
           "Visitors, The (Visiteurs, Les) (1993)",
           2
          ],
          [
           1473,
           "Little Princess, The (1939)",
           9
          ],
          [
           1474,
           "Nina Takes a Lover (1994)",
           6
          ],
          [
           1475,
           "Bhaji on the Beach (1993)",
           8
          ],
          [
           1476,
           "Raw Deal (1948)",
           1
          ],
          [
           1477,
           "Nightwatch (1997)",
           2
          ],
          [
           1478,
           "Dead Presidents (1995)",
           18
          ],
          [
           1479,
           "Reckless (1995)",
           8
          ],
          [
           1480,
           "Herbie Rides Again (1974)",
           11
          ],
          [
           1481,
           "S.F.W. (1994)",
           2
          ],
          [
           1482,
           "Gate of Heavenly Peace, The (1995)",
           1
          ],
          [
           1483,
           "Man in the Iron Mask, The (1998)",
           12
          ],
          [
           1484,
           "Jerky Boys, The (1994)",
           3
          ],
          [
           1485,
           "Colonel Chabert, Le (1994)",
           4
          ],
          [
           1486,
           "Girl in the Cadillac (1995)",
           1
          ],
          [
           1487,
           "Even Cowgirls Get the Blues (1993)",
           5
          ],
          [
           1488,
           "Germinal (1993)",
           4
          ],
          [
           1489,
           "Chasers (1994)",
           5
          ],
          [
           1490,
           "Fausto (1993)",
           3
          ],
          [
           1491,
           "Tough and Deadly (1995)",
           2
          ],
          [
           1492,
           "Window to Paris (1994)",
           1
          ],
          [
           1493,
           "Modern Affair, A (1995)",
           1
          ],
          [
           1494,
           "Mostro, Il (1994)",
           1
          ],
          [
           1495,
           "Flirt (1995)",
           5
          ],
          [
           1496,
           "Carpool (1996)",
           5
          ],
          [
           1497,
           "Line King: Al Hirschfeld, The (1996)",
           2
          ],
          [
           1498,
           "Farmer & Chase (1995)",
           1
          ],
          [
           1499,
           "Grosse Fatigue (1994)",
           4
          ],
          [
           1500,
           "Santa with Muscles (1996)",
           2
          ],
          [
           1501,
           "Prisoner of the Mountains (Kavkazsky Plennik) (1996)",
           5
          ],
          [
           1502,
           "Naked in New York (1994)",
           2
          ],
          [
           1503,
           "Gold Diggers: The Secret of Bear Mountain (1995)",
           10
          ],
          [
           1504,
           "Bewegte Mann, Der (1994)",
           3
          ],
          [
           1505,
           "Killer: A Journal of Murder (1995)",
           1
          ],
          [
           1506,
           "Nelly & Monsieur Arnaud (1995)",
           3
          ],
          [
           1507,
           "Three Lives and Only One Death (1996)",
           1
          ],
          [
           1508,
           "Babysitter, The (1995)",
           3
          ],
          [
           1509,
           "Getting Even with Dad (1994)",
           5
          ],
          [
           1510,
           "Mad Dog Time (1996)",
           1
          ],
          [
           1511,
           "Children of the Revolution (1996)",
           5
          ],
          [
           1512,
           "World of Apu, The (Apur Sansar) (1959)",
           6
          ],
          [
           1513,
           "Sprung (1997)",
           3
          ],
          [
           1514,
           "Dream With the Fishes (1997)",
           7
          ],
          [
           1515,
           "Wings of Courage (1995)",
           1
          ],
          [
           1516,
           "Wedding Gift, The (1994)",
           3
          ],
          [
           1517,
           "Race the Sun (1996)",
           5
          ],
          [
           1518,
           "Losing Isaiah (1995)",
           12
          ],
          [
           1519,
           "New Jersey Drive (1995)",
           2
          ],
          [
           1520,
           "Fear, The (1995)",
           1
          ],
          [
           1521,
           "Mr. Wonderful (1993)",
           4
          ],
          [
           1522,
           "Trial by Jury (1994)",
           7
          ],
          [
           1523,
           "Good Man in Africa, A (1994)",
           2
          ],
          [
           1524,
           "Kaspar Hauser (1993)",
           8
          ],
          [
           1525,
           "Object of My Affection, The (1998)",
           1
          ],
          [
           1526,
           "Witness (1985)",
           1
          ],
          [
           1527,
           "Senseless (1998)",
           7
          ],
          [
           1528,
           "Nowhere (1997)",
           3
          ],
          [
           1529,
           "Underground (1995)",
           5
          ],
          [
           1530,
           "Jefferson in Paris (1995)",
           5
          ],
          [
           1531,
           "Far From Home: The Adventures of Yellow Dog (1995)",
           7
          ],
          [
           1532,
           "Foreign Student (1994)",
           2
          ],
          [
           1533,
           "I Don't Want to Talk About It (De eso no se habla) (1993)",
           1
          ],
          [
           1534,
           "Twin Town (1997)",
           6
          ],
          [
           1535,
           "Enfer, L' (1994)",
           4
          ],
          [
           1536,
           "Aiqing wansui (1994)",
           1
          ],
          [
           1537,
           "Cosi (1996)",
           4
          ],
          [
           1538,
           "All Over Me (1997)",
           3
          ],
          [
           1539,
           "Being Human (1993)",
           4
          ],
          [
           1540,
           "Amazing Panda Adventure, The (1995)",
           10
          ],
          [
           1541,
           "Beans of Egypt, Maine, The (1994)",
           2
          ],
          [
           1542,
           "Scarlet Letter, The (1926)",
           2
          ],
          [
           1543,
           "Johns (1996)",
           1
          ],
          [
           1544,
           "It Takes Two (1995)",
           3
          ],
          [
           1545,
           "Frankie Starlight (1995)",
           4
          ],
          [
           1546,
           "Shadows (Cienie) (1988)",
           1
          ],
          [
           1547,
           "Show, The (1995)",
           2
          ],
          [
           1548,
           "The Courtyard (1995)",
           1
          ],
          [
           1549,
           "Dream Man (1995)",
           2
          ],
          [
           1550,
           "Destiny Turns on the Radio (1995)",
           2
          ],
          [
           1551,
           "Glass Shield, The (1994)",
           2
          ],
          [
           1552,
           "Hunted, The (1995)",
           3
          ],
          [
           1553,
           "Underneath, The (1995)",
           4
          ],
          [
           1554,
           "Safe Passage (1994)",
           2
          ],
          [
           1555,
           "Secret Adventures of Tom Thumb, The (1993)",
           5
          ],
          [
           1556,
           "Condition Red (1995)",
           2
          ],
          [
           1557,
           "Yankee Zulu (1994)",
           1
          ],
          [
           1558,
           "Aparajito (1956)",
           7
          ],
          [
           1559,
           "Hostile Intentions (1994)",
           1
          ],
          [
           1560,
           "Clean Slate (Coup de Torchon) (1981)",
           4
          ],
          [
           1561,
           "Tigrero: A Film That Was Never Made (1994)",
           1
          ],
          [
           1562,
           "Eye of Vichy, The (Oeil de Vichy, L') (1993)",
           1
          ],
          [
           1563,
           "Promise, The (Versprechen, Das) (1994)",
           1
          ],
          [
           1564,
           "To Cross the Rubicon (1991)",
           1
          ],
          [
           1565,
           "Daens (1992)",
           1
          ],
          [
           1566,
           "Man from Down Under, The (1943)",
           1
          ],
          [
           1567,
           "Careful (1992)",
           1
          ],
          [
           1568,
           "Vermont Is For Lovers (1992)",
           1
          ],
          [
           1569,
           "Vie est belle, La (Life is Rosey) (1987)",
           1
          ],
          [
           1570,
           "Quartier Mozart (1992)",
           1
          ],
          [
           1571,
           "Touki Bouki (Journey of the Hyena) (1973)",
           1
          ],
          [
           1572,
           "Wend Kuuni (God's Gift) (1982)",
           1
          ],
          [
           1573,
           "Spirits of the Dead (Tre passi nel delirio) (1968)",
           2
          ],
          [
           1574,
           "Pharaoh's Army (1995)",
           1
          ],
          [
           1575,
           "I, Worst of All (Yo, la peor de todas) (1990)",
           1
          ],
          [
           1576,
           "Hungarian Fairy Tale, A (1987)",
           1
          ],
          [
           1577,
           "Death in the Garden (Mort en ce jardin, La) (1956)",
           1
          ],
          [
           1578,
           "Collectionneuse, La (1967)",
           2
          ],
          [
           1579,
           "Baton Rouge (1988)",
           1
          ],
          [
           1580,
           "Liebelei (1933)",
           1
          ],
          [
           1581,
           "Woman in Question, The (1950)",
           1
          ],
          [
           1582,
           "T-Men (1947)",
           1
          ],
          [
           1583,
           "Invitation, The (Zaproszenie) (1986)",
           1
          ],
          [
           1584,
           "Symphonie pastorale, La (1946)",
           1
          ],
          [
           1585,
           "American Dream (1990)",
           2
          ],
          [
           1586,
           "Lashou shentan (1992)",
           1
          ],
          [
           1587,
           "Terror in a Texas Town (1958)",
           1
          ],
          [
           1588,
           "Salut cousin! (1996)",
           2
          ],
          [
           1589,
           "Schizopolis (1996)",
           4
          ],
          [
           1590,
           "To Have, or Not (1995)",
           2
          ],
          [
           1591,
           "Duoluo tianshi (1995)",
           6
          ],
          [
           1592,
           "Magic Hour, The (1998)",
           5
          ],
          [
           1593,
           "Death in Brunswick (1991)",
           1
          ],
          [
           1594,
           "Everest (1998)",
           2
          ],
          [
           1595,
           "Shopping (1994)",
           1
          ],
          [
           1596,
           "Nemesis 2: Nebula (1995)",
           1
          ],
          [
           1597,
           "Romper Stomper (1992)",
           5
          ],
          [
           1598,
           "City of Industry (1997)",
           6
          ],
          [
           1599,
           "Someone Else's America (1995)",
           1
          ],
          [
           1600,
           "Guantanamera (1994)",
           4
          ],
          [
           1601,
           "Office Killer (1997)",
           1
          ],
          [
           1602,
           "Price Above Rubies, A (1998)",
           3
          ],
          [
           1603,
           "Angela (1995)",
           1
          ],
          [
           1604,
           "He Walked by Night (1948)",
           1
          ],
          [
           1605,
           "Love Serenade (1996)",
           4
          ],
          [
           1606,
           "Deceiver (1997)",
           1
          ],
          [
           1607,
           "Hurricane Streets (1998)",
           3
          ],
          [
           1608,
           "Buddy (1997)",
           4
          ],
          [
           1609,
           "B*A*P*S (1997)",
           3
          ],
          [
           1610,
           "Truth or Consequences, N.M. (1997)",
           3
          ],
          [
           1611,
           "Intimate Relations (1996)",
           2
          ],
          [
           1612,
           "Leading Man, The (1996)",
           4
          ],
          [
           1613,
           "Tokyo Fist (1995)",
           1
          ],
          [
           1614,
           "Reluctant Debutante, The (1958)",
           1
          ],
          [
           1615,
           "Warriors of Virtue (1997)",
           10
          ],
          [
           1616,
           "Desert Winds (1995)",
           1
          ],
          [
           1617,
           "Hugo Pool (1997)",
           2
          ],
          [
           1618,
           "King of New York (1990)",
           1
          ],
          [
           1619,
           "All Things Fair (1996)",
           1
          ],
          [
           1620,
           "Sixth Man, The (1997)",
           9
          ],
          [
           1621,
           "Butterfly Kiss (1995)",
           1
          ],
          [
           1622,
           "Paris, France (1993)",
           3
          ],
          [
           1623,
           "Cérémonie, La (1995)",
           3
          ],
          [
           1624,
           "Hush (1998)",
           1
          ],
          [
           1625,
           "Nightwatch (1997)",
           1
          ],
          [
           1626,
           "Nobody Loves Me (Keiner liebt mich) (1994)",
           1
          ],
          [
           1627,
           "Wife, The (1995)",
           1
          ],
          [
           1628,
           "Lamerica (1994)",
           4
          ],
          [
           1629,
           "Nico Icon (1995)",
           2
          ],
          [
           1630,
           "Silence of the Palace, The (Saimt el Qusur) (1994)",
           1
          ],
          [
           1631,
           "Slingshot, The (1993)",
           2
          ],
          [
           1632,
           "Land and Freedom (Tierra y libertad) (1995)",
           1
          ],
          [
           1633,
           "Á köldum klaka (Cold Fever) (1994)",
           1
          ],
          [
           1634,
           "Etz Hadomim Tafus (Under the Domin Tree) (1994)",
           1
          ],
          [
           1635,
           "Two Friends (1986) ",
           1
          ],
          [
           1636,
           "Brothers in Trouble (1995)",
           1
          ],
          [
           1637,
           "Girls Town (1996)",
           1
          ],
          [
           1638,
           "Normal Life (1996)",
           1
          ],
          [
           1639,
           "Bitter Sugar (Azucar Amargo) (1996)",
           3
          ],
          [
           1640,
           "Eighth Day, The (1996)",
           1
          ],
          [
           1641,
           "Dadetown (1995)",
           1
          ],
          [
           1642,
           "Some Mother's Son (1996)",
           2
          ],
          [
           1643,
           "Angel Baby (1995)",
           4
          ],
          [
           1644,
           "Sudden Manhattan (1996)",
           2
          ],
          [
           1645,
           "Butcher Boy, The (1998)",
           1
          ],
          [
           1646,
           "Men With Guns (1997)",
           2
          ],
          [
           1647,
           "Hana-bi (1997)",
           1
          ],
          [
           1648,
           "Niagara, Niagara (1997)",
           1
          ],
          [
           1649,
           "Big One, The (1997)",
           1
          ],
          [
           1650,
           "Butcher Boy, The (1998)",
           1
          ],
          [
           1651,
           "Spanish Prisoner, The (1997)",
           1
          ],
          [
           1652,
           "Temptress Moon (Feng Yue) (1996)",
           3
          ],
          [
           1653,
           "Entertaining Angels: The Dorothy Day Story (1996)",
           1
          ],
          [
           1654,
           "Chairman of the Board (1998)",
           1
          ],
          [
           1655,
           "Favor, The (1994)",
           1
          ],
          [
           1656,
           "Little City (1998)",
           2
          ],
          [
           1657,
           "Target (1995)",
           1
          ],
          [
           1658,
           "Substance of Fire, The (1996)",
           3
          ],
          [
           1659,
           "Getting Away With Murder (1996)",
           1
          ],
          [
           1660,
           "Small Faces (1995)",
           1
          ],
          [
           1661,
           "New Age, The (1994)",
           1
          ],
          [
           1662,
           "Rough Magic (1995)",
           2
          ],
          [
           1663,
           "Nothing Personal (1995)",
           1
          ],
          [
           1664,
           "8 Heads in a Duffel Bag (1997)",
           4
          ],
          [
           1665,
           "Brother's Kiss, A (1997)",
           1
          ],
          [
           1666,
           "Ripe (1996)",
           1
          ],
          [
           1667,
           "Next Step, The (1995)",
           1
          ],
          [
           1668,
           "Wedding Bell Blues (1996)",
           1
          ],
          [
           1669,
           "MURDER and murder (1996)",
           1
          ],
          [
           1670,
           "Tainted (1998)",
           1
          ],
          [
           1671,
           "Further Gesture, A (1996)",
           1
          ],
          [
           1672,
           "Kika (1993)",
           2
          ],
          [
           1673,
           "Mirage (1995)",
           1
          ],
          [
           1674,
           "Mamma Roma (1962)",
           1
          ],
          [
           1675,
           "Sunchaser, The (1996)",
           1
          ],
          [
           1676,
           "War at Home, The (1996)",
           1
          ],
          [
           1677,
           "Sweet Nothing (1995)",
           1
          ],
          [
           1678,
           "Mat' i syn (1997)",
           1
          ],
          [
           1679,
           "B. Monkey (1998)",
           1
          ],
          [
           1680,
           "Sliding Doors (1998)",
           1
          ],
          [
           1681,
           "You So Crazy (1994)",
           1
          ],
          [
           1682,
           "Scream of Stone (Schrei aus Stein) (1991)",
           1
          ]
         ],
         "hovertemplate": "tsne_1=%{x}<br>tsne_2=%{y}<br>item_id=%{customdata[0]}<br>title=%{customdata[1]}<br>popularity=%{marker.color}<extra></extra>",
         "legendgroup": "",
         "marker": {
          "color": [
           452,
           131,
           90,
           209,
           86,
           26,
           392,
           219,
           299,
           89,
           236,
           267,
           184,
           183,
           293,
           39,
           92,
           10,
           69,
           72,
           84,
           297,
           182,
           174,
           293,
           73,
           57,
           276,
           114,
           37,
           154,
           81,
           97,
           7,
           11,
           13,
           8,
           120,
           87,
           57,
           37,
           148,
           40,
           79,
           80,
           27,
           133,
           117,
           81,
           583,
           81,
           91,
           128,
           104,
           149,
           394,
           40,
           175,
           83,
           64,
           59,
           127,
           82,
           283,
           115,
           162,
           103,
           134,
           321,
           251,
           220,
           129,
           128,
           7,
           5,
           54,
           151,
           33,
           336,
           68,
           110,
           261,
           176,
           18,
           58,
           150,
           138,
           213,
           275,
           95,
           143,
           104,
           112,
           137,
           219,
           295,
           256,
           390,
           172,
           508,
           73,
           54,
           15,
           5,
           74,
           71,
           42,
           65,
           130,
           31,
           272,
           20,
           9,
           67,
           15,
           125,
           378,
           293,
           4,
           67,
           429,
           106,
           115,
           187,
           244,
           97,
           413,
           65,
           129,
           23,
           95,
           246,
           171,
           198,
           259,
           105,
           171,
           19,
           50,
           61,
           72,
           57,
           222,
           243,
           65,
           10,
           185,
           128,
           23,
           157,
           326,
           82,
           247,
           174,
           98,
           148,
           127,
           60,
           101,
           69,
           220,
           106,
           92,
           151,
           64,
           58,
           67,
           316,
           118,
           121,
           65,
           367,
           324,
           420,
           208,
           284,
           137,
           125,
           221,
           221,
           507,
           226,
           291,
           116,
           239,
           251,
           209,
           170,
           66,
           124,
           276,
           116,
           157,
           241,
           301,
           251,
           239,
           127,
           165,
           206,
           89,
           280,
           182,
           350,
           136,
           50,
           66,
           200,
           191,
           331,
           206,
           92,
           134,
           114,
           212,
           290,
           120,
           171,
           111,
           66,
           74,
           365,
           136,
           44,
           109,
           166,
           161,
           244,
           171,
           199,
           142,
           101,
           124,
           280,
           217,
           45,
           384,
           256,
           150,
           156,
           128,
           117,
           132,
           48,
           240,
           124,
           5,
           160,
           130,
           197,
           46,
           158,
           26,
           62,
           172,
           16,
           303,
           509,
           162,
           127,
           43,
           66,
           19,
           101,
           227,
           35,
           9,
           255,
           315,
           136,
           211,
           198,
           223,
           190,
           268,
           298,
           71,
           60,
           28,
           85,
           146,
           232,
           177,
           193,
           162,
           481,
           78,
           478,
           259,
           96,
           127,
           114,
           147,
           485,
           77,
           6,
           50,
           194,
           73,
           431,
           230,
           297,
           134,
           149,
           87,
           96,
           188,
           30,
           28,
           145,
           75,
           80,
           350,
           5,
           160,
           112,
           102,
           298,
           168,
           20,
           169,
           218,
           240,
           125,
           128,
           175,
           175,
           295,
           45,
           41,
           113,
           143,
           251,
           64,
           21,
           43,
           18,
           91,
           47,
           189,
           11,
           52,
           124,
           55,
           65,
           126,
           137,
           27,
           31,
           41,
           20,
           26,
           14,
           72,
           41,
           97,
           264,
           143,
           18,
           10,
           10,
           28,
           47,
           37,
           48,
           47,
           170,
           31,
           55,
           39,
           67,
           34,
           39,
           11,
           23,
           24,
           13,
           101,
           43,
           116,
           100,
           111,
           31,
           69,
           208,
           87,
           65,
           28,
           27,
           10,
           59,
           68,
           192,
           12,
           56,
           54,
           12,
           26,
           89,
           18,
           76,
           170,
           201,
           101,
           344,
           49,
           43,
           112,
           70,
           162,
           163,
           93,
           55,
           62,
           25,
           64,
           73,
           129,
           178,
           81,
           106,
           26,
           300,
           19,
           85,
           32,
           219,
           121,
           97,
           93,
           153,
           174,
           171,
           67,
           216,
           99,
           5,
           6,
           5,
           14,
           53,
           4,
           162,
           46,
           22,
           9,
           121,
           85,
           117,
           63,
           170,
           66,
           16,
           16,
           145,
           48,
           27,
           90,
           24,
           28,
           74,
           148,
           71,
           27,
           85,
           52,
           48,
           64,
           67,
           108,
           221,
           158,
           126,
           194,
           250,
           160,
           95,
           104,
           179,
           179,
           63,
           128,
           243,
           138,
           125,
           64,
           68,
           65,
           52,
           50,
           67,
           59,
           60,
           56,
           59,
           231,
           68,
           152,
           62,
           31,
           123,
           57,
           39,
           122,
           68,
           90,
           98,
           215,
           121,
           121,
           173,
           57,
           72,
           180,
           201,
           63,
           91,
           89,
           80,
           124,
           120,
           35,
           164,
           46,
           73,
           124,
           195,
           121,
           93,
           80,
           129,
           22,
           15,
           13,
           54,
           10,
           30,
           66,
           44,
           43,
           49,
           51,
           21,
           71,
           12,
           254,
           41,
           12,
           92,
           151,
           24,
           45,
           63,
           102,
           10,
           12,
           17,
           70,
           137,
           22,
           59,
           48,
           29,
           27,
           22,
           179,
           35,
           230,
           67,
           50,
           28,
           29,
           33,
           15,
           44,
           93,
           41,
           92,
           19,
           32,
           59,
           168,
           37,
           79,
           39,
           34,
           14,
           202,
           43,
           18,
           178,
           9,
           12,
           5,
           64,
           127,
           206,
           4,
           1,
           2,
           20,
           50,
           209,
           81,
           31,
           66,
           66,
           30,
           60,
           41,
           40,
           34,
           27,
           51,
           59,
           64,
           18,
           18,
           64,
           43,
           11,
           39,
           39,
           22,
           82,
           4,
           75,
           169,
           77,
           31,
           119,
           58,
           69,
           24,
           23,
           91,
           38,
           44,
           40,
           82,
           33,
           89,
           4,
           35,
           27,
           38,
           70,
           67,
           50,
           72,
           171,
           90,
           34,
           147,
           227,
           44,
           131,
           79,
           115,
           153,
           88,
           82,
           116,
           46,
           100,
           5,
           12,
           6,
           13,
           36,
           46,
           65,
           86,
           48,
           54,
           77,
           1,
           219,
           107,
           34,
           27,
           100,
           49,
           169,
           157,
           50,
           69,
           44,
           87,
           155,
           16,
           164,
           91,
           44,
           13,
           79,
           40,
           10,
           102,
           15,
           10,
           53,
           19,
           24,
           137,
           6,
           70,
           101,
           104,
           79,
           1,
           51,
           72,
           13,
           87,
           58,
           82,
           16,
           29,
           86,
           54,
           58,
           34,
           76,
           16,
           14,
           63,
           45,
           81,
           24,
           39,
           180,
           15,
           27,
           137,
           78,
           59,
           31,
           164,
           63,
           58,
           267,
           39,
           92,
           16,
           119,
           102,
           316,
           51,
           124,
           180,
           39,
           24,
           57,
           96,
           128,
           4,
           21,
           11,
           46,
           44,
           115,
           149,
           29,
           32,
           9,
           11,
           52,
           42,
           57,
           41,
           49,
           17,
           32,
           26,
           9,
           4,
           76,
           31,
           69,
           84,
           10,
           37,
           2,
           39,
           14,
           13,
           3,
           47,
           66,
           10,
           86,
           10,
           46,
           21,
           36,
           31,
           9,
           5,
           26,
           16,
           40,
           9,
           8,
           27,
           50,
           9,
           31,
           43,
           45,
           18,
           18,
           56,
           1,
           112,
           21,
           3,
           25,
           40,
           93,
           22,
           4,
           82,
           49,
           83,
           80,
           57,
           13,
           34,
           1,
           91,
           22,
           49,
           25,
           15,
           26,
           25,
           4,
           4,
           53,
           48,
           27,
           30,
           42,
           176,
           44,
           55,
           9,
           53,
           4,
           4,
           1,
           14,
           16,
           66,
           36,
           1,
           3,
           15,
           16,
           3,
           18,
           24,
           86,
           21,
           119,
           6,
           5,
           24,
           9,
           75,
           42,
           81,
           39,
           53,
           47,
           52,
           33,
           136,
           59,
           45,
           34,
           13,
           7,
           13,
           53,
           64,
           15,
           13,
           43,
           6,
           53,
           14,
           19,
           106,
           44,
           2,
           58,
           9,
           42,
           12,
           42,
           18,
           20,
           27,
           21,
           2,
           20,
           13,
           4,
           4,
           9,
           2,
           11,
           13,
           18,
           7,
           8,
           96,
           5,
           46,
           34,
           58,
           85,
           34,
           101,
           6,
           104,
           40,
           80,
           57,
           40,
           21,
           68,
           7,
           32,
           37,
           25,
           60,
           32,
           46,
           45,
           40,
           43,
           40,
           61,
           17,
           48,
           71,
           30,
           39,
           45,
           22,
           11,
           49,
           46,
           2,
           14,
           64,
           25,
           34,
           23,
           41,
           9,
           21,
           26,
           12,
           18,
           75,
           8,
           34,
           28,
           4,
           32,
           44,
           12,
           49,
           27,
           35,
           22,
           8,
           20,
           15,
           44,
           22,
           23,
           4,
           86,
           32,
           33,
           25,
           4,
           66,
           7,
           31,
           14,
           16,
           16,
           10,
           10,
           17,
           8,
           8,
           9,
           22,
           23,
           47,
           37,
           64,
           44,
           93,
           100,
           38,
           98,
           12,
           137,
           50,
           32,
           31,
           35,
           38,
           32,
           31,
           15,
           44,
           4,
           3,
           148,
           14,
           20,
           7,
           16,
           32,
           27,
           68,
           24,
           24,
           17,
           90,
           25,
           62,
           28,
           8,
           40,
           25,
           46,
           134,
           73,
           25,
           43,
           41,
           25,
           24,
           23,
           10,
           10,
           22,
           15,
           35,
           39,
           29,
           12,
           41,
           4,
           53,
           16,
           44,
           12,
           18,
           27,
           16,
           7,
           66,
           77,
           7,
           12,
           8,
           22,
           45,
           2,
           8,
           8,
           6,
           21,
           11,
           21,
           10,
           13,
           38,
           37,
           43,
           12,
           23,
           12,
           29,
           3,
           18,
           42,
           13,
           8,
           74,
           7,
           19,
           4,
           18,
           4,
           18,
           5,
           28,
           41,
           7,
           15,
           22,
           10,
           29,
           13,
           19,
           47,
           59,
           17,
           21,
           1,
           3,
           12,
           4,
           32,
           11,
           13,
           28,
           1,
           13,
           32,
           30,
           38,
           46,
           29,
           29,
           5,
           33,
           17,
           9,
           44,
           15,
           3,
           9,
           3,
           21,
           9,
           26,
           9,
           7,
           28,
           19,
           12,
           3,
           1,
           25,
           4,
           11,
           26,
           13,
           5,
           25,
           6,
           14,
           12,
           11,
           22,
           10,
           27,
           14,
           15,
           7,
           8,
           5,
           22,
           7,
           19,
           9,
           10,
           10,
           13,
           19,
           10,
           18,
           3,
           13,
           44,
           3,
           11,
           3,
           13,
           10,
           31,
           11,
           3,
           45,
           7,
           23,
           7,
           1,
           8,
           21,
           18,
           6,
           19,
           17,
           20,
           15,
           38,
           12,
           6,
           6,
           9,
           30,
           6,
           39,
           26,
           20,
           30,
           39,
           25,
           4,
           12,
           14,
           32,
           8,
           48,
           13,
           18,
           22,
           17,
           6,
           8,
           1,
           1,
           6,
           8,
           18,
           26,
           6,
           5,
           7,
           36,
           19,
           7,
           6,
           19,
           12,
           6,
           8,
           9,
           7,
           11,
           8,
           3,
           4,
           23,
           4,
           4,
           4,
           8,
           15,
           7,
           19,
           12,
           33,
           10,
           10,
           7,
           7,
           5,
           15,
           11,
           4,
           8,
           19,
           16,
           9,
           16,
           13,
           9,
           19,
           26,
           15,
           17,
           6,
           7,
           7,
           2,
           15,
           3,
           3,
           7,
           7,
           20,
           12,
           9,
           8,
           9,
           5,
           5,
           18,
           2,
           7,
           2,
           2,
           2,
           1,
           1,
           16,
           7,
           14,
           11,
           23,
           7,
           4,
           3,
           4,
           1,
           2,
           6,
           3,
           5,
           1,
           6,
           3,
           6,
           1,
           4,
           4,
           2,
           5,
           2,
           11,
           10,
           9,
           4,
           1,
           1,
           1,
           2,
           1,
           5,
           2,
           5,
           4,
           1,
           1,
           2,
           3,
           1,
           5,
           2,
           6,
           3,
           3,
           2,
           2,
           2,
           3,
           2,
           1,
           1,
           2,
           1,
           5,
           6,
           4,
           3,
           2,
           3,
           1,
           2,
           10,
           7,
           4,
           5,
           7,
           6,
           8,
           4,
           6,
           3,
           5,
           6,
           3,
           6,
           3,
           2,
           3,
           5,
           9,
           7,
           6,
           5,
           5,
           2,
           7,
           10,
           18,
           4,
           4,
           13,
           6,
           5,
           20,
           3,
           7,
           4,
           28,
           6,
           8,
           1,
           9,
           5,
           2,
           3,
           16,
           3,
           11,
           4,
           4,
           3,
           10,
           8,
           5,
           12,
           4,
           3,
           5,
           3,
           2,
           10,
           7,
           2,
           9,
           5,
           8,
           5,
           7,
           5,
           4,
           19,
           4,
           15,
           1,
           3,
           8,
           2,
           15,
           1,
           1,
           6,
           2,
           7,
           1,
           1,
           7,
           1,
           1,
           7,
           3,
           3,
           3,
           6,
           2,
           6,
           12,
           5,
           9,
           2,
           9,
           6,
           8,
           1,
           2,
           18,
           8,
           11,
           2,
           1,
           12,
           3,
           4,
           1,
           5,
           4,
           5,
           3,
           2,
           1,
           1,
           1,
           5,
           5,
           2,
           1,
           4,
           2,
           5,
           2,
           10,
           3,
           1,
           3,
           1,
           3,
           5,
           1,
           5,
           6,
           3,
           7,
           1,
           3,
           5,
           12,
           2,
           1,
           4,
           7,
           2,
           8,
           1,
           1,
           7,
           3,
           5,
           5,
           7,
           2,
           1,
           6,
           4,
           1,
           4,
           3,
           4,
           10,
           2,
           2,
           1,
           3,
           4,
           1,
           2,
           1,
           2,
           2,
           2,
           3,
           4,
           2,
           5,
           2,
           1,
           7,
           1,
           4,
           1,
           1,
           1,
           1,
           1,
           1,
           1,
           1,
           1,
           1,
           1,
           1,
           2,
           1,
           1,
           1,
           1,
           2,
           1,
           1,
           1,
           1,
           1,
           1,
           2,
           1,
           1,
           2,
           4,
           2,
           6,
           5,
           1,
           2,
           1,
           1,
           5,
           6,
           1,
           4,
           1,
           3,
           1,
           1,
           4,
           1,
           3,
           4,
           3,
           3,
           2,
           4,
           1,
           1,
           10,
           1,
           2,
           1,
           1,
           9,
           1,
           3,
           3,
           1,
           1,
           1,
           1,
           4,
           2,
           1,
           2,
           1,
           1,
           1,
           1,
           1,
           1,
           1,
           3,
           1,
           1,
           2,
           4,
           2,
           1,
           2,
           1,
           1,
           1,
           1,
           1,
           3,
           1,
           1,
           1,
           2,
           1,
           3,
           1,
           1,
           1,
           2,
           1,
           4,
           1,
           1,
           1,
           1,
           1,
           1,
           1,
           2,
           1,
           1,
           1,
           1,
           1,
           1,
           1,
           1,
           1,
           1
          ],
          "coloraxis": "coloraxis",
          "symbol": "circle"
         },
         "mode": "markers",
         "name": "",
         "showlegend": false,
         "type": "scattergl",
         "x": [
          13.697748184204102,
          -6.789292812347412,
          -9.985824584960938,
          10.480586051940918,
          -2.784151315689087,
          12.879375457763672,
          6.363742828369141,
          31.619739532470703,
          32.16067123413086,
          22.351884841918945,
          5.563158988952637,
          13.045034408569336,
          19.305587768554688,
          14.623321533203125,
          -3.483048439025879,
          8.115113258361816,
          -10.102362632751465,
          -18.20657730102539,
          14.150110244750977,
          12.278799057006836,
          -1.093252420425415,
          7.5761494636535645,
          22.68636703491211,
          -10.09012222290039,
          -0.8486767411231995,
          3.216562032699585,
          -5.464226722717285,
          17.860742568969727,
          -23.375667572021484,
          14.794089317321777,
          -2.6130735874176025,
          17.791706085205078,
          4.061479091644287,
          -3.4920434951782227,
          -35.206298828125,
          -16.46324348449707,
          5.911972999572754,
          -17.58782196044922,
          10.744159698486328,
          -11.797073364257812,
          -9.18382740020752,
          27.175933837890625,
          -6.472291469573975,
          26.461278915405273,
          12.849249839782715,
          16.655492782592773,
          20.602113723754883,
          29.5323429107666,
          -5.305741310119629,
          7.474283218383789,
          0.7748044729232788,
          28.659656524658203,
          7.49454402923584,
          -3.692091464996338,
          10.432019233703613,
          19.624128341674805,
          17.980939865112305,
          24.39154052734375,
          16.233718872070312,
          16.222965240478516,
          17.341737747192383,
          -11.461723327636719,
          -7.538943767547607,
          11.270910263061523,
          11.466551780700684,
          -6.601785182952881,
          0.11921343207359314,
          -0.7134521007537842,
          16.209150314331055,
          6.831610679626465,
          3.631133794784546,
          4.044571876525879,
          -7.1821064949035645,
          -11.379410743713379,
          3.026512622833252,
          10.123160362243652,
          -0.7126100659370422,
          -18.19793701171875,
          2.6042745113372803,
          -12.247268676757812,
          27.156742095947266,
          1.8193261623382568,
          14.678637504577637,
          2.63478684425354,
          4.297032833099365,
          14.63756275177002,
          15.948566436767578,
          -4.551462173461914,
          34.125003814697266,
          -9.260722160339355,
          1.346107840538025,
          11.287240982055664,
          12.592183113098145,
          -2.084941864013672,
          5.508969783782959,
          6.0800862312316895,
          19.211780548095703,
          31.086999893188477,
          22.22781753540039,
          18.40518569946289,
          -8.369892120361328,
          -7.894589900970459,
          -31.228601455688477,
          -34.97197341918945,
          4.283111572265625,
          -14.49822998046875,
          8.958144187927246,
          9.710953712463379,
          2.4462695121765137,
          -15.623299598693848,
          9.577324867248535,
          -13.554478645324707,
          12.96778392791748,
          29.297752380371094,
          -6.050264835357666,
          13.685649871826172,
          -8.624258041381836,
          -15.94072437286377,
          18.46648597717285,
          -27.588367462158203,
          -12.089144706726074,
          2.510531425476074,
          6.632513999938965,
          14.755959510803223,
          -9.983219146728516,
          10.9102201461792,
          35.0664176940918,
          -8.694257736206055,
          7.609487533569336,
          -33.09199142456055,
          27.446016311645508,
          31.69096565246582,
          23.53277015686035,
          18.440460205078125,
          35.08396530151367,
          23.306283950805664,
          15.418024063110352,
          -19.886512756347656,
          -13.451138496398926,
          -4.562885284423828,
          23.64069366455078,
          -5.238662242889404,
          -1.8311487436294556,
          26.31912612915039,
          -9.907730102539062,
          -5.21419620513916,
          2.608457088470459,
          -12.388481140136719,
          10.342151641845703,
          17.412458419799805,
          29.331451416015625,
          29.6751708984375,
          3.847229242324829,
          23.642038345336914,
          -6.55992317199707,
          26.758560180664062,
          25.022899627685547,
          -12.335179328918457,
          1.5781011581420898,
          12.573956489562988,
          -9.014910697937012,
          24.079370498657227,
          0.13058017194271088,
          -1.013165831565857,
          29.117443084716797,
          21.243789672851562,
          -6.49489688873291,
          30.234272003173828,
          16.02623748779297,
          28.053939819335938,
          22.26579475402832,
          7.070767402648926,
          5.318267822265625,
          6.120106220245361,
          19.62012481689453,
          26.336082458496094,
          27.513708114624023,
          29.287019729614258,
          35.04826736450195,
          35.59294509887695,
          7.192437648773193,
          25.48013687133789,
          26.43292999267578,
          0.66872638463974,
          33.60852813720703,
          5.247460842132568,
          35.54707717895508,
          24.028282165527344,
          12.45678997039795,
          20.18889617919922,
          32.32687759399414,
          21.88809585571289,
          35.78742599487305,
          22.389087677001953,
          4.995895862579346,
          27.54486846923828,
          33.165985107421875,
          29.668121337890625,
          27.866222381591797,
          23.6466121673584,
          22.745037078857422,
          5.538951873779297,
          22.086101531982422,
          4.467301368713379,
          26.850412368774414,
          28.990497589111328,
          22.247325897216797,
          0.7496516108512878,
          22.58378028869629,
          3.1439080238342285,
          28.19403648376465,
          7.3606953620910645,
          18.087703704833984,
          3.7661266326904297,
          -0.5334935188293457,
          21.284631729125977,
          0.3544831871986389,
          -2.8162052631378174,
          -1.029642105102539,
          7.8158040046691895,
          12.924887657165527,
          3.2212228775024414,
          27.12727928161621,
          16.217344284057617,
          -6.516050815582275,
          -2.189096212387085,
          3.227754831314087,
          3.9393398761749268,
          -6.5380988121032715,
          3.1404449939727783,
          -15.261882781982422,
          -0.5487059950828552,
          -1.3365767002105713,
          29.124975204467773,
          -3.7588040828704834,
          14.795711517333984,
          6.3629913330078125,
          20.25205421447754,
          1.6782139539718628,
          1.9869383573532104,
          -1.6365714073181152,
          11.933892250061035,
          -17.888879776000977,
          5.699710369110107,
          8.564841270446777,
          14.056021690368652,
          -22.59078598022461,
          11.828741073608398,
          3.84458065032959,
          4.396249771118164,
          13.092192649841309,
          -6.837272644042969,
          11.777366638183594,
          -15.84939956665039,
          -4.64268684387207,
          16.070884704589844,
          5.413605213165283,
          9.673258781433105,
          -25.627395629882812,
          -27.15595245361328,
          -23.42420768737793,
          15.183032035827637,
          -27.619359970092773,
          -25.214847564697266,
          16.174850463867188,
          0.6849523782730103,
          -1.187416434288025,
          14.098836898803711,
          11.78586196899414,
          2.399812936782837,
          2.5357396602630615,
          11.461392402648926,
          12.92618465423584,
          -4.88368558883667,
          16.75520896911621,
          17.28780174255371,
          24.173931121826172,
          -12.536437034606934,
          19.011180877685547,
          -7.855093955993652,
          -13.34310531616211,
          5.582688808441162,
          13.05370044708252,
          3.4745166301727295,
          15.384636878967285,
          14.817558288574219,
          9.58597469329834,
          7.893869876861572,
          7.7068257331848145,
          -2.456646680831909,
          -5.2318549156188965,
          24.923866271972656,
          22.417049407958984,
          -17.68935775756836,
          5.919840335845947,
          4.8718791007995605,
          12.39759349822998,
          12.746137619018555,
          7.622982025146484,
          -12.40359878540039,
          5.770168304443359,
          11.917966842651367,
          10.525816917419434,
          9.50217342376709,
          10.809934616088867,
          17.167253494262695,
          7.055074214935303,
          4.128286838531494,
          -15.388635635375977,
          7.137519836425781,
          11.38805866241455,
          4.443786144256592,
          3.7585256099700928,
          -36.0417366027832,
          11.624896049499512,
          11.680270195007324,
          23.822507858276367,
          12.001236915588379,
          5.742077350616455,
          11.07226276397705,
          9.025452613830566,
          -17.712753295898438,
          -17.107730865478516,
          8.068514823913574,
          -14.60702896118164,
          -13.140527725219727,
          6.782227039337158,
          -17.786693572998047,
          -20.71607208251953,
          -0.30247804522514343,
          7.206093788146973,
          -19.035137176513672,
          8.036006927490234,
          6.1306657791137695,
          -4.289496898651123,
          -10.93951416015625,
          25.978557586669922,
          -5.851644515991211,
          5.227396488189697,
          10.946182250976562,
          7.562142372131348,
          -15.852826118469238,
          6.328775882720947,
          8.007404327392578,
          10.26507568359375,
          22.939292907714844,
          33.71507263183594,
          -22.6508846282959,
          -16.34408187866211,
          5.872832775115967,
          -21.458280563354492,
          -31.891902923583984,
          -23.579689025878906,
          -1.6337251663208008,
          -13.893536567687988,
          -1.55885910987854,
          31.639739990234375,
          -17.146451950073242,
          5.21356725692749,
          16.392566680908203,
          12.518896102905273,
          -3.108492851257324,
          -10.590997695922852,
          -12.285209655761719,
          -3.8123109340667725,
          -3.519033193588257,
          10.881674766540527,
          -22.758350372314453,
          1.9269641637802124,
          -5.881454944610596,
          6.4171600341796875,
          15.198495864868164,
          -14.959579467773438,
          -16.611347198486328,
          -24.24274253845215,
          -15.334432601928711,
          -19.626575469970703,
          12.131017684936523,
          -7.11191987991333,
          -7.226844310760498,
          6.1257476806640625,
          13.404977798461914,
          -29.544294357299805,
          -16.17567253112793,
          -5.570274829864502,
          -7.593245029449463,
          18.089508056640625,
          -29.001630783081055,
          -0.020335234701633453,
          -4.991921901702881,
          -14.594744682312012,
          -6.775516986846924,
          10.523648262023926,
          -13.190884590148926,
          -15.305146217346191,
          24.521059036254883,
          -14.23188591003418,
          -17.130146026611328,
          -4.068199634552002,
          -14.261176109313965,
          -21.035079956054688,
          -6.170478343963623,
          4.390904426574707,
          28.85261344909668,
          -10.726569175720215,
          -18.97024154663086,
          -17.272024154663086,
          16.01289176940918,
          2.1808648109436035,
          -16.68869972229004,
          -3.0217666625976562,
          -14.055033683776855,
          -17.88419532775879,
          21.4990234375,
          -7.9891581535339355,
          22.363977432250977,
          -1.768020510673523,
          10.570706367492676,
          11.438525199890137,
          31.205848693847656,
          14.106854438781738,
          0.5037810802459717,
          23.47709083557129,
          -35.17973327636719,
          18.83939552307129,
          6.5522942543029785,
          32.06301498413086,
          18.920915603637695,
          25.812015533447266,
          13.95398998260498,
          -0.15509484708309174,
          15.495274543762207,
          4.038053512573242,
          21.256845474243164,
          23.458633422851562,
          22.256948471069336,
          -35.78398513793945,
          -35.58310317993164,
          -38.02545166015625,
          -28.356542587280273,
          -0.8674952387809753,
          -28.27206039428711,
          33.390071868896484,
          22.313152313232422,
          26.34836769104004,
          -14.732068061828613,
          8.780096054077148,
          2.805920362472534,
          -0.7237762212753296,
          -17.56715202331543,
          -2.4443399906158447,
          -9.062911033630371,
          -17.714174270629883,
          -11.203073501586914,
          -7.487740516662598,
          -18.515445709228516,
          -28.83620262145996,
          8.367476463317871,
          8.715231895446777,
          -3.3726210594177246,
          16.62210464477539,
          27.892900466918945,
          25.874866485595703,
          19.08289909362793,
          5.256162643432617,
          30.16768455505371,
          12.83319091796875,
          2.24462628364563,
          23.694332122802734,
          -6.427072048187256,
          13.737921714782715,
          0.8089707493782043,
          7.173058986663818,
          33.294647216796875,
          17.26614761352539,
          -7.931604862213135,
          6.423988342285156,
          27.46712303161621,
          29.779401779174805,
          33.65909194946289,
          26.26091766357422,
          29.09282875061035,
          30.467252731323242,
          28.578763961791992,
          5.131904125213623,
          20.375852584838867,
          26.78467559814453,
          20.900897979736328,
          26.91584014892578,
          30.40659523010254,
          28.10611343383789,
          33.91816329956055,
          25.857561111450195,
          31.702356338500977,
          17.892179489135742,
          27.838321685791016,
          20.65254020690918,
          29.877315521240234,
          19.73703956604004,
          26.048046112060547,
          29.063268661499023,
          -0.049652062356472015,
          25.72705841064453,
          32.16324996948242,
          22.418230056762695,
          28.455890655517578,
          17.936328887939453,
          19.45657730102539,
          20.315488815307617,
          24.22191619873047,
          35.62449645996094,
          34.90203857421875,
          21.487043380737305,
          20.733226776123047,
          33.16836929321289,
          22.385578155517578,
          20.083986282348633,
          25.317785263061523,
          27.776769638061523,
          27.38029670715332,
          27.844985961914062,
          30.84294319152832,
          29.0614070892334,
          20.870704650878906,
          28.020702362060547,
          26.70155906677246,
          31.99220848083496,
          32.310611724853516,
          16.8349609375,
          29.016767501831055,
          15.168441772460938,
          10.89551067352295,
          21.466442108154297,
          25.74366569519043,
          -10.11902904510498,
          22.124765396118164,
          26.706647872924805,
          -24.03826332092285,
          -20.702293395996094,
          -8.340006828308105,
          -12.396039009094238,
          -20.393293380737305,
          17.678531646728516,
          7.57113790512085,
          -26.004425048828125,
          -2.9647181034088135,
          7.613802433013916,
          -22.77290916442871,
          7.746678829193115,
          -1.366742730140686,
          -14.598670959472656,
          -3.67545223236084,
          -2.808736562728882,
          -13.140602111816406,
          -27.26156997680664,
          -21.12276268005371,
          24.306516647338867,
          14.503196716308594,
          2.725741147994995,
          -11.308469772338867,
          -10.40827465057373,
          -9.85943603515625,
          -14.651206016540527,
          -17.242168426513672,
          -1.2601512670516968,
          -5.710050582885742,
          -5.347640037536621,
          -3.4359185695648193,
          0.3675704598426819,
          1.6342262029647827,
          -15.777155876159668,
          1.720342993736267,
          -21.50363540649414,
          -26.793710708618164,
          -14.21450424194336,
          -9.147918701171875,
          -35.92258071899414,
          -8.680960655212402,
          -7.465090274810791,
          22.584022521972656,
          24.61419105529785,
          26.931461334228516,
          -1.5735071897506714,
          22.990846633911133,
          -13.926078796386719,
          -15.74280834197998,
          -0.05495331063866615,
          14.296687126159668,
          35.11121368408203,
          -30.12216567993164,
          5.3378801345825195,
          -1.9042657613754272,
          25.5074462890625,
          9.2429838180542,
          -11.1494722366333,
          -9.73097038269043,
          -7.881484508514404,
          -17.331392288208008,
          -36.69407272338867,
          -9.7550687789917,
          22.00670051574707,
          23.93451499938965,
          33.30419921875,
          21.68709373474121,
          11.797582626342773,
          26.251497268676758,
          24.820480346679688,
          13.966821670532227,
          10.111910820007324,
          13.911962509155273,
          29.84435272216797,
          26.541885375976562,
          12.825480461120605,
          16.541790008544922,
          20.83507537841797,
          21.990127563476562,
          2.1354267597198486,
          21.59515953063965,
          10.332609176635742,
          0.8466877937316895,
          2.8362374305725098,
          4.6629533767700195,
          -10.391141891479492,
          -4.684393882751465,
          3.7487075328826904,
          26.763694763183594,
          -4.483344554901123,
          5.788830280303955,
          -8.996383666992188,
          -8.377725601196289,
          8.878843307495117,
          23.680816650390625,
          31.515474319458008,
          0.8334550261497498,
          4.145624160766602,
          3.0103461742401123,
          -1.3836065530776978,
          27.534833908081055,
          20.453323364257812,
          24.651512145996094,
          26.218156814575195,
          12.002474784851074,
          -4.4991912841796875,
          32.725887298583984,
          11.007316589355469,
          13.93967342376709,
          24.339088439941406,
          21.437633514404297,
          26.424467086791992,
          23.088523864746094,
          31.644556045532227,
          22.326894760131836,
          26.013105392456055,
          22.41451072692871,
          19.56355094909668,
          21.71795082092285,
          28.946439743041992,
          -1.1621034145355225,
          19.413331985473633,
          9.703546524047852,
          35.33454132080078,
          -0.9396940469741821,
          23.998783111572266,
          26.18416976928711,
          -11.037056922912598,
          -23.130937576293945,
          -10.439807891845703,
          -1.9641079902648926,
          -29.834819793701172,
          -3.3414082527160645,
          12.717296600341797,
          1.2778443098068237,
          14.138326644897461,
          -0.31479644775390625,
          26.143081665039062,
          5.726999759674072,
          -51.60334014892578,
          -13.592659950256348,
          -8.887190818786621,
          0.750376284122467,
          -20.532512664794922,
          -23.71970558166504,
          -19.671751022338867,
          16.013349533081055,
          -5.575994491577148,
          17.716352462768555,
          -19.15654754638672,
          -26.941591262817383,
          -17.130887985229492,
          10.748560905456543,
          23.562267303466797,
          -2.3438680171966553,
          13.284323692321777,
          17.042076110839844,
          8.403963088989258,
          -0.8031684160232544,
          14.416956901550293,
          -3.4521069526672363,
          11.852728843688965,
          1.1773815155029297,
          21.438800811767578,
          -1.318758249282837,
          10.906264305114746,
          -1.6839826107025146,
          30.703569412231445,
          2.2014999389648438,
          15.721914291381836,
          12.244305610656738,
          14.3138427734375,
          4.271854400634766,
          -52.015586853027344,
          2.6669247150421143,
          9.593168258666992,
          1.803398847579956,
          13.485188484191895,
          -8.192858695983887,
          -12.779461860656738,
          18.785961151123047,
          -13.838615417480469,
          -12.09567928314209,
          -0.3032306134700775,
          -10.114460945129395,
          2.4805257320404053,
          18.462759017944336,
          -8.399335861206055,
          -1.6431522369384766,
          25.58682632446289,
          -13.891417503356934,
          -3.3794479370117188,
          20.608400344848633,
          1.4240909814834595,
          9.13509464263916,
          20.032121658325195,
          -23.61948013305664,
          17.71759033203125,
          19.68242835998535,
          -4.801401615142822,
          -10.732571601867676,
          -4.797359943389893,
          7.890629768371582,
          1.2408080101013184,
          -10.852761268615723,
          -28.921085357666016,
          9.270359992980957,
          17.931514739990234,
          20.962133407592773,
          -4.605143070220947,
          -18.832382202148438,
          -24.356727600097656,
          11.135327339172363,
          7.075605869293213,
          -23.108903884887695,
          15.097366333007812,
          1.0825071334838867,
          -10.027091026306152,
          -8.663620948791504,
          -5.799829483032227,
          -34.60829544067383,
          -17.034730911254883,
          -1.688711166381836,
          -1.8904391527175903,
          3.3233938217163086,
          -11.03624153137207,
          -8.541400909423828,
          -9.460742950439453,
          3.103749990463257,
          -4.028319358825684,
          -6.601938724517822,
          -20.540781021118164,
          22.96023941040039,
          -17.553831100463867,
          18.423683166503906,
          3.6875216960906982,
          -8.948514938354492,
          -9.463521003723145,
          -2.279364824295044,
          -24.243215560913086,
          18.23509407043457,
          -11.912233352661133,
          -9.287720680236816,
          -6.234421730041504,
          -20.37735366821289,
          -15.330814361572266,
          -54.047176361083984,
          -7.302707672119141,
          -3.3418843746185303,
          -3.0131494998931885,
          -52.62126159667969,
          22.390613555908203,
          -11.676722526550293,
          -25.667926788330078,
          19.341032028198242,
          9.215736389160156,
          -9.359753608703613,
          -19.861066818237305,
          -13.544696807861328,
          -7.1843671798706055,
          -25.382465362548828,
          12.169649124145508,
          -9.809355735778809,
          -0.3290156424045563,
          -17.782175064086914,
          -21.976694107055664,
          -13.077502250671387,
          24.01450538635254,
          18.435150146484375,
          3.1484508514404297,
          -20.70121955871582,
          -9.01030445098877,
          1.6911261081695557,
          15.866544723510742,
          -10.480717658996582,
          13.40648078918457,
          -51.016639709472656,
          -11.082337379455566,
          -21.838367462158203,
          -12.815645217895508,
          3.7991816997528076,
          -12.595061302185059,
          -6.895428657531738,
          -13.46323013305664,
          2.71329402923584,
          0.9069278836250305,
          -11.442115783691406,
          -14.703024864196777,
          -6.606717586517334,
          -11.144733428955078,
          -19.0041561126709,
          -0.35593196749687195,
          -33.2623291015625,
          -16.860246658325195,
          -4.613673210144043,
          -11.550392150878906,
          -23.510181427001953,
          13.624825477600098,
          18.491714477539062,
          26.291805267333984,
          -25.518362045288086,
          -37.14326858520508,
          -8.59958553314209,
          -16.76266860961914,
          22.06256103515625,
          -19.045841217041016,
          14.516788482666016,
          8.403361320495605,
          -11.193291664123535,
          12.88611125946045,
          23.72955894470215,
          -15.653289794921875,
          23.522184371948242,
          16.52227020263672,
          -37.09230422973633,
          13.76619815826416,
          9.442145347595215,
          15.900248527526855,
          19.397296905517578,
          -17.052785873413086,
          -36.41529846191406,
          2.0140433311462402,
          -12.211902618408203,
          -4.053475379943848,
          -33.492855072021484,
          20.942245483398438,
          -4.1038360595703125,
          13.321195602416992,
          0.4875362515449524,
          16.705612182617188,
          24.549457550048828,
          -6.028743267059326,
          -16.927427291870117,
          -18.02336883544922,
          0.0688645988702774,
          -24.66269874572754,
          5.867881774902344,
          -0.43139898777008057,
          -4.3500657081604,
          -24.550045013427734,
          -26.144851684570312,
          -14.75442886352539,
          16.1688175201416,
          -20.936222076416016,
          10.0665864944458,
          7.659003257751465,
          17.656230926513672,
          -23.274372100830078,
          6.333278656005859,
          11.833300590515137,
          9.325095176696777,
          9.746293067932129,
          -29.373594284057617,
          -26.701189041137695,
          -5.008517265319824,
          6.622513294219971,
          -26.46179962158203,
          9.030601501464844,
          15.605785369873047,
          -27.960411071777344,
          9.075156211853027,
          9.840034484863281,
          19.139240264892578,
          -27.2987003326416,
          13.206461906433105,
          7.155973434448242,
          7.809680461883545,
          -22.147090911865234,
          5.321376323699951,
          -26.17027473449707,
          -25.327999114990234,
          20.715768814086914,
          -22.991695404052734,
          -22.14342498779297,
          -4.253450393676758,
          -33.36660385131836,
          8.82005786895752,
          21.94036865234375,
          3.2845568656921387,
          16.828523635864258,
          -1.1260218620300293,
          21.13524627685547,
          22.116579055786133,
          18.187307357788086,
          23.166854858398438,
          19.30255889892578,
          11.19205379486084,
          4.807322025299072,
          -16.32732582092285,
          -33.38950729370117,
          -3.747314691543579,
          -7.943371295928955,
          -16.6628475189209,
          -22.188156127929688,
          -5.778726577758789,
          -5.972343921661377,
          -20.953893661499023,
          13.15306568145752,
          17.563352584838867,
          10.592842102050781,
          -18.75035858154297,
          2.6580188274383545,
          -18.472965240478516,
          -7.691464424133301,
          4.565548419952393,
          -5.475285053253174,
          -16.14659309387207,
          24.510778427124023,
          -8.539746284484863,
          24.895307540893555,
          -24.127729415893555,
          -5.021450519561768,
          6.499223709106445,
          0.14969009160995483,
          -2.039419174194336,
          5.450803279876709,
          -5.390332221984863,
          15.120701789855957,
          20.55352020263672,
          3.1560685634613037,
          15.746761322021484,
          23.194995880126953,
          25.714323043823242,
          16.772674560546875,
          6.964928150177002,
          27.777219772338867,
          28.437118530273438,
          17.428512573242188,
          19.513065338134766,
          -7.002028465270996,
          23.62476921081543,
          11.004562377929688,
          27.251070022583008,
          13.80964469909668,
          24.464317321777344,
          -3.095223903656006,
          -15.502897262573242,
          -7.423392295837402,
          -24.875404357910156,
          -18.73248863220215,
          -3.792250394821167,
          2.4368910789489746,
          10.209324836730957,
          -20.048391342163086,
          -19.052907943725586,
          -13.110285758972168,
          -17.74875259399414,
          -1.2836589813232422,
          -11.67226505279541,
          -33.000797271728516,
          -18.437705993652344,
          2.191115379333496,
          8.307626724243164,
          -3.1152708530426025,
          -19.36734962463379,
          -11.824919700622559,
          -3.44992733001709,
          10.831653594970703,
          -12.404167175292969,
          -18.83448028564453,
          -16.159727096557617,
          -7.299761772155762,
          -12.918139457702637,
          -30.73142433166504,
          -18.447650909423828,
          -33.128395080566406,
          -2.599748373031616,
          23.9601993560791,
          -3.1213719844818115,
          16.127689361572266,
          10.950589179992676,
          21.615604400634766,
          -0.5384759902954102,
          7.490750789642334,
          12.185138702392578,
          -23.818632125854492,
          3.0951945781707764,
          -3.9196815490722656,
          -9.039933204650879,
          25.311450958251953,
          -3.502613067626953,
          18.14487648010254,
          31.0202693939209,
          25.225933074951172,
          17.783008575439453,
          -22.058895111083984,
          14.637288093566895,
          -18.517194747924805,
          6.218727111816406,
          -36.06745147705078,
          -8.3158597946167,
          -19.221330642700195,
          -14.741291999816895,
          -9.009466171264648,
          -18.06140899658203,
          -13.62742805480957,
          -19.82919692993164,
          -4.175972938537598,
          -19.782506942749023,
          -34.303985595703125,
          -22.002933502197266,
          30.344402313232422,
          -20.803272247314453,
          -9.225916862487793,
          -6.86874532699585,
          -2.3804831504821777,
          7.989208221435547,
          2.700561046600342,
          -8.650132179260254,
          -11.747977256774902,
          3.5265486240386963,
          -17.933502197265625,
          19.68012809753418,
          9.549731254577637,
          -20.640771865844727,
          -7.237335205078125,
          -16.850419998168945,
          3.191563367843628,
          16.61284065246582,
          3.1303584575653076,
          0.17931786179542542,
          0.6777610778808594,
          20.92672348022461,
          -11.057703018188477,
          12.058767318725586,
          7.593239784240723,
          28.03981590270996,
          24.89296531677246,
          17.891489028930664,
          4.371588230133057,
          10.468525886535645,
          19.68654441833496,
          19.40372085571289,
          -2.482438325881958,
          -11.915727615356445,
          23.814939498901367,
          -11.027974128723145,
          -1.7894904613494873,
          1.1344211101531982,
          3.4428489208221436,
          -8.463321685791016,
          -22.155763626098633,
          21.53133201599121,
          -3.170783042907715,
          7.223160743713379,
          -3.6213862895965576,
          19.795997619628906,
          10.540982246398926,
          2.047783613204956,
          -35.605003356933594,
          -20.80865478515625,
          -22.067821502685547,
          -16.608922958374023,
          -10.516531944274902,
          -20.74452018737793,
          11.144831657409668,
          -22.527511596679688,
          -4.658287048339844,
          -19.253143310546875,
          16.51959800720215,
          22.704526901245117,
          25.72079086303711,
          -23.467504501342773,
          14.472639083862305,
          -25.119112014770508,
          28.550819396972656,
          -24.021484375,
          -21.201765060424805,
          9.702875137329102,
          5.936776638031006,
          6.927731513977051,
          6.003983020782471,
          -2.6480872631073,
          15.597688674926758,
          -7.548488140106201,
          6.490077495574951,
          9.432012557983398,
          8.015509605407715,
          28.669662475585938,
          5.888510227203369,
          11.809425354003906,
          -8.337900161743164,
          -5.9418745040893555,
          16.84271812438965,
          23.12651824951172,
          -3.2112882137298584,
          19.560304641723633,
          15.38809871673584,
          31.108291625976562,
          6.612090587615967,
          8.896392822265625,
          16.21044158935547,
          22.720396041870117,
          29.085721969604492,
          1.4595414400100708,
          -6.085195541381836,
          9.452629089355469,
          -6.483683109283447,
          -1.580644965171814,
          14.856274604797363,
          -4.737381458282471,
          3.4409289360046387,
          -20.389795303344727,
          6.763162612915039,
          34.06217575073242,
          24.97835350036621,
          19.42892074584961,
          -8.219972610473633,
          -38.206626892089844,
          24.818269729614258,
          1.000742793083191,
          25.855989456176758,
          17.653825759887695,
          -23.609230041503906,
          5.478250980377197,
          4.735235214233398,
          0.49845102429389954,
          -54.77429962158203,
          -3.6416401863098145,
          -9.89220142364502,
          15.927337646484375,
          20.48548126220703,
          8.687759399414062,
          1.4422698020935059,
          -31.468795776367188,
          -14.67297077178955,
          -11.570945739746094,
          -21.733030319213867,
          14.350271224975586,
          13.55661678314209,
          -7.478267192840576,
          18.645370483398438,
          22.714384078979492,
          14.953303337097168,
          25.630756378173828,
          2.2120378017425537,
          9.4920654296875,
          17.496068954467773,
          19.550661087036133,
          -25.808353424072266,
          -14.362942695617676,
          -19.94599723815918,
          -17.874570846557617,
          -30.118030548095703,
          -15.271858215332031,
          -19.695524215698242,
          2.4518845081329346,
          -16.783796310424805,
          28.8273983001709,
          23.345134735107422,
          -10.44650936126709,
          18.535385131835938,
          -5.2999653816223145,
          18.83287239074707,
          22.60015296936035,
          17.78567886352539,
          19.14446258544922,
          5.265005111694336,
          19.6749267578125,
          16.774520874023438,
          21.361576080322266,
          -16.350318908691406,
          14.071785926818848,
          -52.69975662231445,
          24.01751136779785,
          25.73285675048828,
          25.42813491821289,
          -12.3484525680542,
          -14.884631156921387,
          -13.02138900756836,
          -16.99924087524414,
          -16.349319458007812,
          -8.520096778869629,
          12.791282653808594,
          -0.23542232811450958,
          -15.208893775939941,
          -20.019702911376953,
          -26.193225860595703,
          2.8919708728790283,
          -12.419105529785156,
          3.4334518909454346,
          -9.875870704650879,
          -11.388267517089844,
          -7.925835609436035,
          -0.2528976500034332,
          17.970945358276367,
          -6.5712175369262695,
          -23.408023834228516,
          7.479897975921631,
          0.6803426146507263,
          -17.744356155395508,
          -20.660282135009766,
          -15.272377967834473,
          -13.091962814331055,
          -1.1856268644332886,
          11.927754402160645,
          3.534086227416992,
          5.790187835693359,
          -52.64291763305664,
          6.294957637786865,
          -1.0227580070495605,
          -19.7104434967041,
          14.638116836547852,
          7.868927955627441,
          -25.94697380065918,
          7.119146823883057,
          -15.29477596282959,
          19.945627212524414,
          -20.347078323364258,
          -19.947961807250977,
          2.4338347911834717,
          -9.079034805297852,
          -35.24879455566406,
          11.571355819702148,
          5.667960166931152,
          -20.544416427612305,
          -25.51861572265625,
          7.353903770446777,
          -23.4195613861084,
          -23.83907127380371,
          -12.750199317932129,
          3.141307830810547,
          -21.842182159423828,
          17.039987564086914,
          4.384928226470947,
          25.58767318725586,
          11.408710479736328,
          8.790567398071289,
          5.676751136779785,
          1.3938796520233154,
          15.9678316116333,
          -1.6894901990890503,
          -20.467899322509766,
          -18.828561782836914,
          -21.181983947753906,
          -25.300275802612305,
          -30.377948760986328,
          -16.506772994995117,
          -20.608116149902344,
          12.28488826751709,
          -4.756924152374268,
          -14.363932609558105,
          -24.395801544189453,
          4.4988789558410645,
          10.520503997802734,
          -17.963619232177734,
          -11.35417652130127,
          -1.0641909837722778,
          18.14314079284668,
          -34.520877838134766,
          16.847484588623047,
          -16.621931076049805,
          -54.92650604248047,
          -16.921844482421875,
          -26.318037033081055,
          10.32616901397705,
          7.913785934448242,
          1.0904484987258911,
          6.223062992095947,
          -6.487267017364502,
          19.40499496459961,
          4.438060283660889,
          -16.670085906982422,
          -6.643979072570801,
          18.473934173583984,
          -14.883336067199707,
          -51.40531539916992,
          -13.790815353393555,
          10.76422119140625,
          -24.501182556152344,
          -37.274986267089844,
          -54.95454788208008,
          0.6923947930335999,
          -21.275379180908203,
          2.5911812782287598,
          -5.454049110412598,
          -7.3943963050842285,
          9.595255851745605,
          5.5267839431762695,
          -32.662025451660156,
          -19.72698211669922,
          -22.60809326171875,
          -34.10862350463867,
          -9.793091773986816,
          -6.215721130371094,
          10.425942420959473,
          -14.004398345947266,
          -33.896217346191406,
          20.991788864135742,
          -31.560523986816406,
          5.214022636413574,
          -52.4405517578125,
          21.877792358398438,
          14.406538963317871,
          -18.007707595825195,
          24.978769302368164,
          -33.51084518432617,
          -19.126371383666992,
          -28.75377655029297,
          -18.88393211364746,
          1.649436354637146,
          -33.59412384033203,
          -34.413002014160156,
          -33.64301300048828,
          4.809835433959961,
          -33.21521759033203,
          11.750632286071777,
          -0.2142908126115799,
          7.572446823120117,
          -17.99031639099121,
          -33.959228515625,
          -52.189849853515625,
          -34.45481872558594,
          9.409442901611328,
          -33.05755615234375,
          10.152870178222656,
          -34.31595993041992,
          -13.575676918029785,
          9.690728187561035,
          -31.641183853149414,
          22.677833557128906,
          -33.600608825683594,
          -19.759992599487305,
          22.07819175720215,
          -33.61387252807617,
          -33.31218719482422,
          -52.7269287109375,
          -30.894725799560547,
          -34.30485534667969,
          15.856366157531738,
          14.549504280090332,
          -0.9741887450218201,
          5.2107768058776855,
          -31.23910140991211,
          23.125694274902344,
          -33.46630096435547,
          -33.177242279052734,
          16.078306198120117,
          -32.389427185058594,
          16.2330322265625,
          17.522855758666992,
          6.895026206970215,
          8.970536231994629,
          11.287649154663086,
          3.686828374862671,
          -26.06711196899414,
          -36.02154541015625,
          8.413469314575195,
          -32.045833587646484,
          -22.828622817993164,
          16.90464973449707,
          -22.713457107543945,
          -23.116973876953125,
          -23.00164031982422,
          -23.3796443939209,
          -13.038463592529297,
          17.399776458740234,
          9.206877708435059,
          17.87019157409668,
          30.890777587890625,
          23.357696533203125,
          3.4235689640045166,
          16.03229331970215,
          23.584877014160156,
          -25.50796890258789,
          -3.5981593132019043,
          24.05941390991211,
          4.5299272537231445,
          24.199617385864258,
          -19.842479705810547,
          -35.58571243286133,
          -8.21125602722168,
          -12.127900123596191,
          -2.7678472995758057,
          -24.001646041870117,
          -13.374710083007812,
          -23.826826095581055,
          -18.867834091186523,
          -21.358009338378906,
          -0.4803939759731293,
          15.113129615783691,
          -16.706565856933594,
          -24.47838020324707,
          8.076438903808594,
          -15.968537330627441,
          -21.92745590209961,
          22.728717803955078,
          -2.0391252040863037,
          -3.5139076709747314,
          -19.602266311645508,
          12.841717720031738,
          -0.03941281512379646,
          -0.8253844380378723,
          13.244786262512207,
          -33.77730941772461,
          0.08024540543556213,
          9.203568458557129,
          -11.653656959533691,
          -22.497421264648438,
          -17.32120704650879,
          0.6766107082366943,
          -2.846925973892212,
          -2.2615299224853516,
          -3.2841644287109375,
          -15.040949821472168,
          20.732696533203125,
          1.8563010692596436,
          18.49456214904785,
          -8.179558753967285,
          -3.7306244373321533,
          -53.96363067626953,
          28.377729415893555,
          -3.7699522972106934,
          21.72763442993164,
          30.24757957458496,
          -54.54793167114258,
          0.024070901796221733,
          -1.790776252746582,
          29.770959854125977,
          -3.7407028675079346,
          30.196016311645508,
          13.882808685302734,
          -53.0886344909668,
          -20.382814407348633,
          13.899613380432129,
          -24.51573371887207,
          9.9260835647583,
          -3.4288735389709473,
          13.330238342285156,
          18.849267959594727,
          -2.685289144515991,
          -2.2439675331115723,
          -18.285512924194336,
          -11.445563316345215,
          -52.83402633666992,
          22.394546508789062,
          20.555747985839844,
          7.674553871154785,
          -53.64441680908203,
          -22.62350082397461,
          -5.572887420654297,
          -2.454131603240967,
          -15.78857421875,
          -12.989852905273438,
          4.272827625274658,
          1.3325990438461304,
          -0.918835461139679,
          -8.802840232849121,
          -36.84543228149414,
          -27.51392936706543,
          20.441720962524414,
          -17.95530128479004,
          -13.191408157348633,
          -53.804630279541016,
          -9.73449420928955,
          -51.24039077758789,
          -49.67667770385742,
          0.4343143105506897,
          -31.118003845214844,
          -31.446264266967773,
          -9.387748718261719,
          16.98358726501465,
          19.010284423828125,
          5.268877983093262,
          -37.810951232910156,
          -0.0018702615052461624,
          3.0177931785583496,
          -52.53633499145508,
          22.88390350341797,
          23.023012161254883,
          -16.678043365478516,
          -33.61491394042969,
          -19.59243392944336,
          14.05970573425293,
          27.974027633666992,
          -21.322511672973633,
          -0.5876023769378662,
          10.349592208862305,
          18.047548294067383,
          -21.78704261779785,
          -9.310371398925781,
          2.245692729949951,
          -21.835796356201172,
          -1.7230061292648315,
          -18.623558044433594,
          -13.01552963256836,
          16.1871280670166,
          13.204919815063477,
          -51.00349426269531,
          -34.35599899291992,
          1.4818543195724487,
          24.218017578125,
          -24.218395233154297,
          24.660015106201172,
          -22.48141098022461,
          17.311405181884766,
          -20.475797653198242,
          15.797724723815918,
          13.421259880065918,
          18.813833236694336,
          11.437406539916992,
          -22.13633918762207,
          -15.837088584899902,
          22.672574996948242,
          -7.527538776397705,
          -51.24930953979492,
          -1.326637625694275,
          4.237866401672363,
          -36.539886474609375,
          -51.10775375366211,
          -37.276180267333984,
          -36.817108154296875,
          4.311552047729492,
          -53.87602233886719,
          3.481008768081665,
          1.2279108762741089,
          4.338183403015137,
          -2.1129462718963623,
          -1.6010768413543701,
          -36.712093353271484,
          20.019258499145508,
          -35.71678161621094,
          10.357664108276367,
          -36.02939224243164,
          -36.736515045166016,
          -35.86848449707031,
          -54.56272888183594,
          -36.42424011230469,
          -53.10607147216797,
          -52.1895751953125,
          -36.292396545410156,
          -36.885440826416016,
          -55.13437271118164,
          -35.20410919189453,
          -35.7266960144043,
          -37.28409957885742,
          -35.52250671386719,
          -35.89635467529297,
          -36.50578689575195,
          -36.86182403564453,
          9.828389167785645,
          -36.9454460144043,
          -37.207183837890625,
          -53.91701889038086,
          -37.15815734863281,
          -51.80172348022461,
          -53.150840759277344,
          10.270177841186523,
          -36.717506408691406,
          -37.514347076416016,
          -23.104190826416016,
          16.821157455444336,
          -22.578746795654297,
          20.42153549194336,
          16.33622932434082,
          -53.10034942626953,
          0.06937947869300842,
          -53.74039077758789,
          -21.16533660888672,
          22.590404510498047,
          -23.500953674316406,
          13.054933547973633,
          -1.306319236755371,
          -32.40559387207031,
          9.973298072814941,
          -55.265499114990234,
          25.918298721313477,
          -8.818204879760742,
          -24.740968704223633,
          14.10889720916748,
          -25.70515251159668,
          -35.799190521240234,
          -23.452346801757812,
          3.582448959350586,
          16.0633544921875,
          5.687869548797607,
          -52.23218536376953,
          -7.7750020027160645,
          -52.37046432495117,
          10.571091651916504,
          -52.279273986816406,
          -0.5759702920913696,
          -1.975484848022461,
          -37.5563850402832,
          -0.43515899777412415,
          15.34261703491211,
          -24.870376586914062,
          9.474204063415527,
          -35.98269271850586,
          -2.55849552154541,
          5.745204925537109,
          22.82980728149414,
          7.856047630310059,
          -19.003704071044922,
          11.426301956176758,
          11.535642623901367,
          -22.121253967285156,
          10.820286750793457,
          -52.339481353759766,
          5.811349868774414,
          -54.247562408447266,
          11.449872016906738,
          10.929119110107422,
          -53.99058151245117,
          12.100465774536133,
          0.03270776942372322,
          -52.1496696472168,
          -50.926536560058594,
          13.372368812561035,
          11.402857780456543,
          -54.5346565246582,
          11.30144214630127,
          -54.765933990478516,
          -53.83135223388672,
          -1.3844555616378784,
          -53.24195861816406,
          -52.51144790649414,
          -53.54541778564453,
          -24.123821258544922,
          -0.09021849185228348,
          3.2651960849761963,
          -38.46885681152344,
          -32.419166564941406,
          -36.59420394897461,
          -26.07839012145996,
          -24.87251091003418,
          -22.53513526916504,
          -52.203819274902344,
          -24.253150939941406,
          -23.021175384521484,
          -23.353498458862305,
          -24.075803756713867,
          -23.06708335876465,
          -37.1401252746582,
          -0.6758649349212646,
          -18.435283660888672,
          23.402324676513672,
          -52.240478515625,
          -22.178932189941406,
          -6.204831600189209,
          -37.91748809814453,
          7.365259647369385,
          -25.376422882080078,
          0.0538516640663147,
          4.320815086364746
         ],
         "xaxis": "x",
         "y": [
          13.289346694946289,
          14.075400352478027,
          3.1397864818573,
          16.650802612304688,
          10.168203353881836,
          -0.8660098314285278,
          18.596736907958984,
          5.481661796569824,
          -2.2658774852752686,
          -0.9939789175987244,
          18.521129608154297,
          4.990715980529785,
          -23.21880531311035,
          -24.598676681518555,
          11.092642784118652,
          -18.13385772705078,
          -1.139979600906372,
          -5.18983268737793,
          -9.122601509094238,
          -21.45781898498535,
          -2.252141237258911,
          22.179975509643555,
          -16.147537231445312,
          -1.2767422199249268,
          -20.20060157775879,
          10.053866386413574,
          -2.216054916381836,
          9.70116901397705,
          5.526286602020264,
          -6.662400245666504,
          21.030559539794922,
          -8.477359771728516,
          -17.238527297973633,
          9.539642333984375,
          1.0869477987289429,
          -9.82330322265625,
          0.480404257774353,
          11.273530960083008,
          -6.241479396820068,
          6.215986728668213,
          0.8217898607254028,
          -17.75891876220703,
          5.743183135986328,
          1.3670294284820557,
          -7.8005266189575195,
          -12.252299308776855,
          -21.014989852905273,
          0.5137771368026733,
          1.728383183479309,
          23.627824783325195,
          18.178434371948242,
          -1.250089168548584,
          -22.839120864868164,
          16.585330963134766,
          14.979740142822266,
          -22.726064682006836,
          -3.908787965774536,
          -19.557416915893555,
          -2.042210102081299,
          -2.0046043395996094,
          -2.7212445735931396,
          14.474122047424316,
          8.47234058380127,
          17.002788543701172,
          -8.520061492919922,
          19.563697814941406,
          23.656185150146484,
          23.672962188720703,
          17.630216598510742,
          -4.058444976806641,
          5.415001392364502,
          18.20524024963379,
          19.59482765197754,
          -2.1422581672668457,
          14.36069107055664,
          15.429427146911621,
          20.96556282043457,
          4.515575408935547,
          21.22262954711914,
          -0.38248592615127563,
          -15.414337158203125,
          21.13818359375,
          14.388141632080078,
          2.861358642578125,
          14.04586410522461,
          -19.977216720581055,
          4.32827091217041,
          19.4356746673584,
          -9.582291603088379,
          -2.7948660850524902,
          -13.995107650756836,
          -16.97844886779785,
          -12.761035919189453,
          22.152158737182617,
          21.326051712036133,
          21.714445114135742,
          11.269493103027344,
          6.976516246795654,
          10.499646186828613,
          -21.075332641601562,
          17.227327346801758,
          5.7939324378967285,
          6.997766017913818,
          -4.405389308929443,
          14.703045845031738,
          -13.159531593322754,
          -2.1709938049316406,
          -12.07664680480957,
          -22.136131286621094,
          -4.600534439086914,
          -10.599251747131348,
          -8.524738311767578,
          4.408641338348389,
          -7.336512088775635,
          7.5750837326049805,
          -23.84486961364746,
          18.303796768188477,
          18.786386489868164,
          -2.401090383529663,
          7.56264066696167,
          17.52351951599121,
          -19.24141502380371,
          13.748106956481934,
          -24.780410766601562,
          14.828661918640137,
          -9.388448715209961,
          -1.0435984134674072,
          -1.9670875072479248,
          18.658491134643555,
          2.427868604660034,
          -7.599530220031738,
          -2.9113967418670654,
          12.467850685119629,
          -17.433391571044922,
          -5.0571136474609375,
          8.233637809753418,
          -21.608627319335938,
          10.984192848205566,
          4.043302059173584,
          8.75200366973877,
          10.02649974822998,
          6.187378406524658,
          17.107524871826172,
          11.381038665771484,
          8.115738868713379,
          -13.536860466003418,
          18.455495834350586,
          12.506628036499023,
          -19.759641647338867,
          -18.338844299316406,
          -15.991393089294434,
          -15.287413597106934,
          9.516619682312012,
          -19.731895446777344,
          21.215890884399414,
          -18.632198333740234,
          -18.948047637939453,
          4.862052917480469,
          1.2084637880325317,
          -16.585935592651367,
          15.150830268859863,
          -8.127833366394043,
          19.14539337158203,
          12.992624282836914,
          0.15016259253025055,
          -10.720162391662598,
          -3.9352807998657227,
          -7.780789852142334,
          -15.391725540161133,
          1.1574896574020386,
          -11.017694473266602,
          23.326549530029297,
          24.625886917114258,
          23.553163528442383,
          -18.27775001525879,
          10.678947448730469,
          8.245908737182617,
          -5.437952041625977,
          -5.35237979888916,
          -2.966043472290039,
          23.445236206054688,
          -18.543514251708984,
          10.438196182250977,
          -14.54822826385498,
          -6.710627555847168,
          23.790145874023438,
          -1.242867350578308,
          6.537176132202148,
          -9.974860191345215,
          -17.06669807434082,
          -0.36695799231529236,
          -14.472016334533691,
          -0.8480554223060608,
          10.703995704650879,
          23.629106521606445,
          3.13942289352417,
          -6.749936103820801,
          0.6691534519195557,
          6.868658065795898,
          -17.914714813232422,
          -9.483329772949219,
          21.033964157104492,
          -18.85601806640625,
          23.01854705810547,
          9.529754638671875,
          -12.723416328430176,
          -12.132820129394531,
          9.491840362548828,
          -17.994033813476562,
          21.348981857299805,
          8.716224670410156,
          -10.070576667785645,
          -17.64101791381836,
          10.42175006866455,
          17.57296371459961,
          9.195536613464355,
          6.450528621673584,
          14.968753814697266,
          15.667501449584961,
          -9.294156074523926,
          -22.753360748291016,
          21.72200584411621,
          -17.182416915893555,
          -16.76260757446289,
          -5.954822540283203,
          21.301298141479492,
          23.71133041381836,
          23.636890411376953,
          11.225543022155762,
          23.812976837158203,
          5.266158103942871,
          15.523216247558594,
          21.303800582885742,
          5.853018283843994,
          -13.803668022155762,
          2.044135808944702,
          11.579431533813477,
          -21.540958404541016,
          18.96931266784668,
          -19.04358673095703,
          7.079239845275879,
          -0.36006641387939453,
          20.4207763671875,
          -3.0677247047424316,
          7.109272003173828,
          6.045529842376709,
          9.020543098449707,
          -3.4741365909576416,
          -14.031091690063477,
          13.505623817443848,
          3.8706302642822266,
          14.61439037322998,
          -5.199182510375977,
          5.248532295227051,
          9.16553020477295,
          -8.31041145324707,
          15.098872184753418,
          9.478137016296387,
          15.922259330749512,
          11.922259330749512,
          12.74183177947998,
          -21.36516761779785,
          0.25817230343818665,
          17.4031982421875,
          17.548297882080078,
          2.031937837600708,
          10.000529289245605,
          6.177756309509277,
          4.611501216888428,
          11.718422889709473,
          16.77747344970703,
          6.7095489501953125,
          -14.673602104187012,
          14.183982849121094,
          -19.940366744995117,
          -23.314348220825195,
          3.842714548110962,
          -12.108291625976562,
          11.157655715942383,
          11.864477157592773,
          -11.548181533813477,
          15.15012264251709,
          -2.0906624794006348,
          12.997560501098633,
          -21.546072006225586,
          -25.7418212890625,
          1.5857787132263184,
          13.296780586242676,
          9.26052188873291,
          -11.295514106750488,
          15.401344299316406,
          0.5117079615592957,
          8.504054069519043,
          21.611629486083984,
          -5.384618759155273,
          -1.575423240661621,
          -6.6021857261657715,
          -14.691154479980469,
          -3.201101779937744,
          20.635356903076172,
          13.65700626373291,
          4.9133076667785645,
          -18.00391960144043,
          8.6017484664917,
          5.225485324859619,
          -6.5893425941467285,
          12.924055099487305,
          0.18307870626449585,
          20.993764877319336,
          8.020753860473633,
          -0.22900041937828064,
          3.4705088138580322,
          20.9038143157959,
          -3.1608729362487793,
          8.233857154846191,
          8.234858512878418,
          0.9227454662322998,
          17.188138961791992,
          -7.3451924324035645,
          -14.510695457458496,
          -20.02750015258789,
          19.714054107666016,
          19.829574584960938,
          -19.8002872467041,
          11.841238021850586,
          19.298948287963867,
          6.601356029510498,
          23.13504981994629,
          17.686294555664062,
          0.96923828125,
          5.119503498077393,
          21.81931495666504,
          11.649848937988281,
          0.2557370364665985,
          -12.471927642822266,
          2.4486300945281982,
          4.528665542602539,
          12.68625545501709,
          1.5532652139663696,
          5.044197082519531,
          1.4152979850769043,
          9.425915718078613,
          13.157403945922852,
          3.4064815044403076,
          -2.6889660358428955,
          1.8020929098129272,
          5.322975158691406,
          18.393224716186523,
          20.52534294128418,
          2.3749542236328125,
          18.69786262512207,
          1.6499773263931274,
          7.931183815002441,
          13.704533576965332,
          2.4314935207366943,
          18.645584106445312,
          -10.576292037963867,
          13.551547050476074,
          -0.019546832889318466,
          6.616785526275635,
          1.6616212129592896,
          -1.7584177255630493,
          -7.986861228942871,
          -0.3480461537837982,
          2.786421298980713,
          10.780957221984863,
          -12.766590118408203,
          9.556804656982422,
          -17.784482955932617,
          -13.860523223876953,
          -9.000722885131836,
          -10.96334457397461,
          7.2094879150390625,
          18.629859924316406,
          -5.32049036026001,
          -1.7080663442611694,
          10.422289848327637,
          10.902088165283203,
          -10.401418685913086,
          17.791051864624023,
          -20.207490921020508,
          -11.848220825195312,
          -2.7436017990112305,
          -0.2619047462940216,
          17.65613555908203,
          -7.023468971252441,
          -5.514652252197266,
          2.159775495529175,
          10.377582550048828,
          -5.847753047943115,
          -2.324669599533081,
          5.909069538116455,
          11.870482444763184,
          14.07330322265625,
          6.041036128997803,
          -21.543460845947266,
          5.745681285858154,
          5.04430627822876,
          15.106827735900879,
          -0.624921977519989,
          -9.04955768585205,
          21.327476501464844,
          18.476987838745117,
          6.439338684082031,
          17.806997299194336,
          -7.209056854248047,
          -8.014147758483887,
          -15.395221710205078,
          2.496532917022705,
          -14.60274600982666,
          -19.74588966369629,
          -6.104302883148193,
          -13.669509887695312,
          -19.666784286499023,
          -5.591387748718262,
          9.638586044311523,
          8.532881736755371,
          11.802234649658203,
          13.32064437866211,
          -12.518117904663086,
          1.06392502784729,
          -16.362869262695312,
          12.468035697937012,
          -1.7127735614776611,
          -17.20534896850586,
          -11.708588600158691,
          -2.574039936065674,
          -18.89090919494629,
          8.05178165435791,
          12.556979179382324,
          22.44723892211914,
          7.961133003234863,
          -18.597827911376953,
          7.253355503082275,
          10.241528511047363,
          3.5849990844726562,
          1.8695350885391235,
          2.067593574523926,
          4.056550025939941,
          4.575827598571777,
          -0.725285530090332,
          4.583584308624268,
          -4.805617809295654,
          -22.50090980529785,
          8.942682266235352,
          16.68511962890625,
          -13.589911460876465,
          8.95579719543457,
          1.988754153251648,
          -2.998297691345215,
          9.899545669555664,
          4.585987567901611,
          8.598970413208008,
          12.759181022644043,
          -1.248328685760498,
          1.480294942855835,
          6.928818225860596,
          -15.138094902038574,
          -3.2459487915039062,
          -9.335077285766602,
          -17.703426361083984,
          0.7322911024093628,
          -6.3916144371032715,
          -10.113001823425293,
          4.295358657836914,
          -1.1013588905334473,
          -4.299759387969971,
          5.856605529785156,
          -14.052370071411133,
          8.465465545654297,
          9.42944049835205,
          12.4021577835083,
          -19.84956169128418,
          -5.412307262420654,
          -23.332860946655273,
          -15.438949584960938,
          -19.18474578857422,
          -2.427086114883423,
          -2.9733285903930664,
          -3.4787111282348633,
          -5.157605171203613,
          -2.208728313446045,
          -2.9087207317352295,
          6.833160877227783,
          -4.280896186828613,
          14.55524730682373,
          -0.3657216727733612,
          -13.930423736572266,
          -1.3823215961456299,
          -4.372833251953125,
          -8.77741527557373,
          -4.3200273513793945,
          -2.635770320892334,
          5.317446708679199,
          13.716026306152344,
          9.724739074707031,
          14.632651329040527,
          -4.01735782623291,
          -11.683364868164062,
          9.650472640991211,
          3.974644660949707,
          8.619867324829102,
          5.959137439727783,
          -7.142959117889404,
          5.722104072570801,
          -3.3233842849731445,
          -20.48467445373535,
          -23.024551391601562,
          -12.862643241882324,
          -2.5410609245300293,
          -1.320360541343689,
          -9.611815452575684,
          0.648056149482727,
          -15.221351623535156,
          0.594204843044281,
          0.22415344417095184,
          -14.967613220214844,
          -15.644292831420898,
          6.916356086730957,
          9.103120803833008,
          -4.360398769378662,
          -5.508856296539307,
          8.73064136505127,
          -4.541685581207275,
          -9.410066604614258,
          8.209905624389648,
          3.685227155685425,
          -0.3688691556453705,
          -19.6943302154541,
          -5.894458293914795,
          0.8264706134796143,
          -4.0284037590026855,
          -7.156315803527832,
          0.7630422711372375,
          -12.340394973754883,
          2.0610432624816895,
          -1.2893054485321045,
          18.963037490844727,
          19.473527908325195,
          -4.307278633117676,
          11.142062187194824,
          8.709531784057617,
          -5.543962478637695,
          -7.113386631011963,
          1.4722391366958618,
          16.33269691467285,
          -6.319519996643066,
          -7.433650493621826,
          -13.086849212646484,
          21.556570053100586,
          16.372140884399414,
          1.3837615251541138,
          6.020652770996094,
          14.01797103881836,
          5.770694732666016,
          -8.250151634216309,
          -0.7597485184669495,
          -12.02739429473877,
          15.429925918579102,
          -4.206113338470459,
          6.392053604125977,
          -11.562047004699707,
          16.499155044555664,
          -0.5316495895385742,
          2.5672645568847656,
          16.994007110595703,
          12.335469245910645,
          17.450374603271484,
          3.9630720615386963,
          4.31912088394165,
          7.698561668395996,
          4.083674907684326,
          15.939062118530273,
          6.232722759246826,
          5.527619361877441,
          12.293140411376953,
          6.454634666442871,
          16.808759689331055,
          9.794098854064941,
          -2.2647976875305176,
          -13.982309341430664,
          -11.905244827270508,
          -5.820262432098389,
          -8.57222843170166,
          9.330933570861816,
          7.3065571784973145,
          -6.259975910186768,
          14.51272201538086,
          -9.573456764221191,
          -1.2325621843338013,
          8.094544410705566,
          -7.08970308303833,
          -8.70482063293457,
          -15.469149589538574,
          11.209396362304688,
          -6.176602840423584,
          15.794668197631836,
          -4.559371471405029,
          -0.8455123901367188,
          -0.0022424289491027594,
          6.0229668617248535,
          -8.885517120361328,
          -2.708984613418579,
          -0.5116662979125977,
          -13.641873359680176,
          -11.39167594909668,
          -11.405591011047363,
          -2.4533660411834717,
          16.225341796875,
          -12.787461280822754,
          -4.444741249084473,
          7.370581150054932,
          6.782893657684326,
          9.735007286071777,
          1.0482239723205566,
          -3.6644392013549805,
          8.261302947998047,
          -18.277530670166016,
          -14.917228698730469,
          13.473030090332031,
          8.915870666503906,
          2.4754741191864014,
          -6.225768566131592,
          -0.5451804995536804,
          2.9276528358459473,
          -9.004934310913086,
          6.836490154266357,
          15.06168270111084,
          2.1749444007873535,
          3.098142385482788,
          -22.313547134399414,
          -11.260623931884766,
          -8.980305671691895,
          8.811238288879395,
          -3.159705638885498,
          7.602318286895752,
          -9.757773399353027,
          -10.501794815063477,
          -0.0021433362271636724,
          -21.029436111450195,
          -13.408341407775879,
          -17.286130905151367,
          -2.1382083892822266,
          -6.774927139282227,
          -1.6622610092163086,
          -17.046607971191406,
          -15.5152587890625,
          -3.1318907737731934,
          -7.789926052093506,
          -3.455698013305664,
          5.750561237335205,
          -12.190407752990723,
          -3.022686004638672,
          -16.218496322631836,
          9.010781288146973,
          -14.326786994934082,
          -0.4465791881084442,
          11.153792381286621,
          1.2057008743286133,
          -10.62679672241211,
          -3.187695026397705,
          18.44511604309082,
          -6.945584297180176,
          -10.070907592773438,
          -3.9752578735351562,
          0.051288556307554245,
          6.228386878967285,
          -3.811326026916504,
          -1.2706449031829834,
          12.847796440124512,
          -15.768892288208008,
          0.04252927377820015,
          12.281410217285156,
          5.753780364990234,
          -13.498430252075195,
          -13.358386039733887,
          2.109701156616211,
          19.18984031677246,
          -1.229997992515564,
          2.0487945079803467,
          14.43376350402832,
          16.766786575317383,
          17.420867919921875,
          16.85688018798828,
          14.973268508911133,
          5.379550933837891,
          9.620518684387207,
          11.420023918151855,
          20.098848342895508,
          8.543831825256348,
          -4.790942192077637,
          17.807382583618164,
          -17.39706802368164,
          -7.671899318695068,
          -16.237499237060547,
          -20.13091468811035,
          -0.5480964183807373,
          -0.1318005621433258,
          -11.71202278137207,
          -2.3284642696380615,
          0.4919436275959015,
          0.8897734880447388,
          -10.884332656860352,
          -0.986352264881134,
          -5.266579627990723,
          -4.415249347686768,
          -9.246728897094727,
          -20.344371795654297,
          4.367906093597412,
          18.39468002319336,
          2.026141881942749,
          1.1003034114837646,
          5.320771217346191,
          -6.832419395446777,
          -21.051971435546875,
          -8.131586074829102,
          9.03069019317627,
          0.5560593008995056,
          -0.25328823924064636,
          8.029129028320312,
          23.276723861694336,
          1.429787278175354,
          -1.5399105548858643,
          7.431127548217773,
          0.7196508049964905,
          0.055571336299180984,
          2.6515696048736572,
          5.869657039642334,
          16.694921493530273,
          5.370705604553223,
          13.920485496520996,
          16.938905715942383,
          -8.065037727355957,
          3.822082281112671,
          3.6658358573913574,
          -2.1774919033050537,
          -6.982900619506836,
          -5.0559401512146,
          19.366167068481445,
          -8.027814865112305,
          -13.650788307189941,
          14.860325813293457,
          -3.21954083442688,
          5.485269069671631,
          -9.801899909973145,
          4.821497440338135,
          -1.8764891624450684,
          20.530078887939453,
          16.81086540222168,
          8.496187210083008,
          13.930188179016113,
          17.839582443237305,
          -2.9309744834899902,
          -1.0239957571029663,
          8.118861198425293,
          -14.374489784240723,
          3.279264450073242,
          2.7984230518341064,
          2.1678340435028076,
          -5.050806999206543,
          6.4886884689331055,
          -19.79246711730957,
          -13.765549659729004,
          -9.905010223388672,
          -9.576905250549316,
          -7.935370445251465,
          -16.295127868652344,
          1.292861819267273,
          10.453327178955078,
          -10.70666790008545,
          5.290529251098633,
          -16.007469177246094,
          -18.550336837768555,
          16.781564712524414,
          9.248455047607422,
          4.779547214508057,
          0.578241229057312,
          13.003669738769531,
          -8.264641761779785,
          -11.325774192810059,
          7.450077056884766,
          -7.193254470825195,
          6.290945053100586,
          3.5988850593566895,
          2.028228998184204,
          -0.8840656876564026,
          15.179620742797852,
          4.14019775390625,
          1.4242013692855835,
          1.9223344326019287,
          -5.885046005249023,
          -20.47974967956543,
          -14.943685531616211,
          10.570809364318848,
          8.419662475585938,
          3.4520647525787354,
          7.7364301681518555,
          1.9831489324569702,
          -11.203696250915527,
          3.1160435676574707,
          -4.362656116485596,
          7.5099921226501465,
          -6.410146236419678,
          8.265064239501953,
          6.568291187286377,
          -14.31862735748291,
          -2.529214382171631,
          15.575554847717285,
          14.325387954711914,
          -3.9596188068389893,
          -5.955469131469727,
          -6.317615032196045,
          -5.563328742980957,
          1.7836451530456543,
          4.682880401611328,
          -2.4633045196533203,
          7.265610694885254,
          -8.805608749389648,
          -12.256409645080566,
          -10.841965675354004,
          12.431833267211914,
          -16.487716674804688,
          15.9500150680542,
          -16.396488189697266,
          7.8887457847595215,
          10.029937744140625,
          16.496797561645508,
          13.047316551208496,
          7.222477436065674,
          -0.7904755473136902,
          -3.5114519596099854,
          -3.406237840652466,
          -9.519097328186035,
          5.4584784507751465,
          -7.739280700683594,
          -6.565027713775635,
          8.699646949768066,
          3.5659103393554688,
          -1.2931443452835083,
          13.224424362182617,
          10.266371726989746,
          -7.8655500411987305,
          -9.443754196166992,
          -11.652934074401855,
          -1.0964186191558838,
          4.06181001663208,
          -3.7440831661224365,
          -7.226344108581543,
          11.784131050109863,
          -1.995837688446045,
          -4.7707319259643555,
          -0.8519785404205322,
          -15.748741149902344,
          -0.858428418636322,
          -2.235508680343628,
          -4.618494033813477,
          -4.302713394165039,
          2.0865113735198975,
          -5.330531597137451,
          11.919798851013184,
          -6.027021884918213,
          6.614610195159912,
          -11.289610862731934,
          -5.015162467956543,
          -19.199329376220703,
          11.74388599395752,
          -4.889184951782227,
          -2.687063694000244,
          16.833669662475586,
          -13.758224487304688,
          2.1505119800567627,
          -1.8031445741653442,
          16.011810302734375,
          -1.8787792921066284,
          -12.337653160095215,
          -13.941497802734375,
          15.22746753692627,
          13.468281745910645,
          21.338098526000977,
          11.586026191711426,
          17.37685203552246,
          -1.4961286783218384,
          -2.1442086696624756,
          -0.1442338079214096,
          11.28056526184082,
          6.135848045349121,
          -1.4043846130371094,
          -0.05835805833339691,
          5.28849983215332,
          1.7035377025604248,
          14.342447280883789,
          0.41997143626213074,
          11.484245300292969,
          9.908844947814941,
          8.576889038085938,
          -5.989301681518555,
          5.576949119567871,
          0.38087013363838196,
          3.3109049797058105,
          -7.551554203033447,
          0.3140498995780945,
          -7.128173828125,
          -5.098971843719482,
          -7.002285480499268,
          16.67223358154297,
          -6.959596157073975,
          3.9721219539642334,
          14.01386547088623,
          2.648312568664551,
          -6.513850212097168,
          -3.81711745262146,
          -17.466331481933594,
          -0.8442752361297607,
          6.83483362197876,
          -8.96052360534668,
          -4.469234943389893,
          9.610007286071777,
          14.166644096374512,
          -6.769991874694824,
          -5.765810966491699,
          -3.856752872467041,
          -1.1781904697418213,
          -1.7929333448410034,
          -11.865416526794434,
          5.394092559814453,
          15.383728981018066,
          -4.346880912780762,
          13.053362846374512,
          -13.33727741241455,
          18.635719299316406,
          8.275655746459961,
          18.89558982849121,
          -0.44102850556373596,
          12.48496150970459,
          -9.64664363861084,
          2.0533347129821777,
          5.60434627532959,
          16.17732048034668,
          -0.38790005445480347,
          0.30656129121780396,
          5.941690921783447,
          11.515499114990234,
          2.8025879859924316,
          9.183465957641602,
          2.3412845134735107,
          -0.5823497176170349,
          -12.440417289733887,
          11.061490058898926,
          -4.932610034942627,
          -17.45142936706543,
          -3.24326229095459,
          -11.157191276550293,
          -16.12933921813965,
          3.307119369506836,
          -13.755294799804688,
          -20.669919967651367,
          -4.655089855194092,
          0.6546563506126404,
          -5.837853908538818,
          -4.358126163482666,
          -11.548415184020996,
          -15.799186706542969,
          -4.839780330657959,
          -11.662631034851074,
          -8.992976188659668,
          5.450423240661621,
          -0.1974695473909378,
          -13.026715278625488,
          2.6608076095581055,
          -9.346556663513184,
          -8.464247703552246,
          -10.399835586547852,
          0.2542048990726471,
          2.1899585723876953,
          -19.526639938354492,
          7.32947301864624,
          14.321568489074707,
          -16.001014709472656,
          11.859137535095215,
          -21.57767677307129,
          5.823123455047607,
          -1.062782883644104,
          -12.592653274536133,
          20.380390167236328,
          -14.215127944946289,
          -8.436845779418945,
          -0.07666164636611938,
          6.658831596374512,
          -3.1343555450439453,
          0.6224626898765564,
          -15.078539848327637,
          -2.058765411376953,
          -13.654726028442383,
          -15.225818634033203,
          -22.890323638916016,
          -4.246919631958008,
          -2.727916955947876,
          -1.8899446725845337,
          9.09461498260498,
          2.466978073120117,
          2.5982449054718018,
          0.49886977672576904,
          4.302917957305908,
          5.664163589477539,
          -5.279681205749512,
          5.069671630859375,
          3.96124529838562,
          -7.05708646774292,
          -1.6380053758621216,
          -8.509319305419922,
          -17.08810043334961,
          2.0593535900115967,
          14.884387969970703,
          -12.901304244995117,
          5.817320823669434,
          19.141752243041992,
          -16.7421817779541,
          -7.503139495849609,
          0.8817297220230103,
          -12.751181602478027,
          -9.916299819946289,
          5.014950752258301,
          13.063680648803711,
          -9.935635566711426,
          16.20748519897461,
          -0.03228544443845749,
          4.981385231018066,
          -15.092680931091309,
          5.086113452911377,
          10.197663307189941,
          8.879170417785645,
          5.964284420013428,
          -8.61025619506836,
          4.966916084289551,
          8.532923698425293,
          -0.3491988480091095,
          4.714096546173096,
          14.86719036102295,
          2.169086217880249,
          12.03382682800293,
          6.163863658905029,
          3.5809755325317383,
          -2.9692742824554443,
          -11.52369499206543,
          -16.4597225189209,
          1.6829051971435547,
          16.633377075195312,
          -15.199263572692871,
          7.8755927085876465,
          -6.877870082855225,
          -12.988155364990234,
          -1.3548589944839478,
          19.80364227294922,
          -13.535187721252441,
          4.323027610778809,
          2.758823871612549,
          -19.185901641845703,
          5.199252128601074,
          -8.8079195022583,
          -10.072074890136719,
          4.005913257598877,
          -2.2801129817962646,
          16.196626663208008,
          -5.386770725250244,
          -7.925170421600342,
          -10.912118911743164,
          -11.335346221923828,
          -16.857772827148438,
          5.486058712005615,
          -14.34664535522461,
          -3.6315813064575195,
          0.3853503465652466,
          -9.563445091247559,
          12.671656608581543,
          10.327932357788086,
          15.756277084350586,
          -16.272098541259766,
          7.190394401550293,
          3.4198083877563477,
          1.1159571409225464,
          -3.1548657417297363,
          3.0415685176849365,
          -5.708981990814209,
          -3.5418903827667236,
          -20.579591751098633,
          7.820321083068848,
          -5.511350631713867,
          3.6998419761657715,
          6.0882158279418945,
          3.8158295154571533,
          0.2858215868473053,
          1.1979316473007202,
          -1.2022984027862549,
          -4.460367202758789,
          -10.853812217712402,
          -5.700832366943359,
          -9.45578670501709,
          -5.118006229400635,
          -9.18399715423584,
          -6.878915309906006,
          -3.5473978519439697,
          0.7659880518913269,
          -7.001367092132568,
          -1.550981044769287,
          19.14312171936035,
          -3.9542007446289062,
          8.955658912658691,
          -13.460786819458008,
          -12.500115394592285,
          5.632803440093994,
          -0.5909370183944702,
          -3.964963912963867,
          -19.6393985748291,
          -8.835043907165527,
          -22.325117111206055,
          -0.24781614542007446,
          -14.727429389953613,
          -18.363300323486328,
          3.1630680561065674,
          -7.674143314361572,
          -10.683418273925781,
          -7.646463394165039,
          -2.8348238468170166,
          8.571065902709961,
          0.08720944821834564,
          -9.85529899597168,
          10.533060073852539,
          -19.578142166137695,
          -3.37022066116333,
          -7.128695487976074,
          -1.8618443012237549,
          -9.944519996643066,
          -6.831061840057373,
          -6.7969441413879395,
          2.409670352935791,
          5.2906928062438965,
          -8.602163314819336,
          4.154493808746338,
          14.961979866027832,
          -1.8222618103027344,
          -15.905200004577637,
          0.8430647850036621,
          -15.909841537475586,
          -0.5921229124069214,
          9.487027168273926,
          5.347538948059082,
          -6.456361293792725,
          -11.161653518676758,
          -1.0429778099060059,
          -7.314596652984619,
          14.035392761230469,
          8.70004940032959,
          -14.702186584472656,
          0.048080913722515106,
          1.4814252853393555,
          -6.3474225997924805,
          5.388496398925781,
          -7.748559474945068,
          5.36550235748291,
          -4.6937055587768555,
          -7.50996732711792,
          0.25152307748794556,
          -13.108500480651855,
          -10.986257553100586,
          -0.41147032380104065,
          2.456760883331299,
          0.30994224548339844,
          -10.056668281555176,
          -12.316043853759766,
          -20.7283878326416,
          -7.335803031921387,
          -7.453860759735107,
          13.517571449279785,
          -15.206868171691895,
          0.518372654914856,
          -0.5469832420349121,
          -2.77156662940979,
          1.0549968481063843,
          6.970876216888428,
          12.068970680236816,
          0.493356317281723,
          -0.7317529320716858,
          3.238435983657837,
          -14.230384826660156,
          9.619385719299316,
          -12.124900817871094,
          -21.920684814453125,
          1.047518014907837,
          2.952967882156372,
          14.902246475219727,
          -0.18495984375476837,
          8.84846305847168,
          -1.2251029014587402,
          2.0114026069641113,
          -9.136819839477539,
          -14.120287895202637,
          -13.72079086303711,
          -8.367308616638184,
          -5.687613010406494,
          -6.332563400268555,
          3.1010541915893555,
          -1.7259562015533447,
          -11.085275650024414,
          -4.462845325469971,
          2.957937240600586,
          11.341163635253906,
          -2.5910263061523438,
          -5.43601655960083,
          6.7432355880737305,
          -4.353513717651367,
          -19.762859344482422,
          -9.45178508758545,
          -7.797273635864258,
          -4.257146835327148,
          -4.058093070983887,
          -9.195253372192383,
          10.499073028564453,
          18.528261184692383,
          -10.768230438232422,
          14.275774955749512,
          -9.87048625946045,
          -4.938138484954834,
          -13.135272026062012,
          4.719931125640869,
          1.4561480283737183,
          -14.549497604370117,
          -4.498202800750732,
          9.480241775512695,
          6.794457912445068,
          0.5923252701759338,
          0.39972129464149475,
          -16.963224411010742,
          -15.48937702178955,
          -6.756963729858398,
          4.895295143127441,
          1.3473989963531494,
          4.777256965637207,
          3.213731527328491,
          12.007183074951172,
          -1.5219517946243286,
          -9.845060348510742,
          -1.3323003053665161,
          7.551434516906738,
          -3.4085144996643066,
          -3.5775034427642822,
          6.827000617980957,
          3.279503345489502,
          -0.31694263219833374,
          5.030888557434082,
          5.617696285247803,
          1.2613627910614014,
          -1.601807713508606,
          13.211575508117676,
          8.790214538574219,
          -16.62224006652832,
          -4.822461128234863,
          -3.443910837173462,
          -4.610527515411377,
          -11.014771461486816,
          -2.045759677886963,
          -8.73037338256836,
          -6.047989368438721,
          -11.09797477722168,
          1.3161447048187256,
          6.66141939163208,
          -9.324604988098145,
          -11.539167404174805,
          -12.277288436889648,
          17.278839111328125,
          10.352278709411621,
          -3.7303287982940674,
          -5.801436424255371,
          2.016486167907715,
          0.5090151429176331,
          2.5819027423858643,
          14.211423873901367,
          -14.298335075378418,
          10.586989402770996,
          -3.781766414642334,
          12.516258239746094,
          -12.863815307617188,
          -13.720307350158691,
          1.3212546110153198,
          9.329934120178223,
          18.297727584838867,
          -2.195566177368164,
          -5.589514255523682,
          2.9207582473754883,
          -10.32763385772705,
          3.290076494216919,
          -6.774552345275879,
          10.719826698303223,
          -0.8156704902648926,
          11.040668487548828,
          -2.462761878967285,
          1.19290292263031,
          5.961113929748535,
          -7.405115604400635,
          0.08827861398458481,
          6.047595024108887,
          -2.8606388568878174,
          -0.4443438947200775,
          -7.8963623046875,
          0.5855185985565186,
          1.198588252067566,
          1.3801565170288086,
          0.9542770385742188,
          2.4077951908111572,
          3.2318403720855713,
          -3.680274248123169,
          2.2947309017181396,
          1.380652666091919,
          -3.725843667984009,
          0.9193257093429565,
          2.930154800415039,
          4.271916389465332,
          -3.722104787826538,
          -4.139807224273682,
          -5.6953349113464355,
          -4.978813171386719,
          1.5848069190979004,
          -4.718119144439697,
          -7.917248725891113,
          -5.717097282409668,
          -4.8598737716674805,
          2.689849376678467,
          -1.574532389640808,
          -11.92371654510498,
          1.3976762294769287,
          -6.013647556304932,
          -10.22278881072998,
          -3.2893567085266113,
          -4.687028884887695,
          -4.357876777648926,
          -6.23113489151001,
          6.4405293464660645,
          10.89010238647461,
          -5.911905288696289,
          -4.3919243812561035,
          -4.805663108825684,
          -4.448435306549072,
          -6.035095691680908,
          -4.103124141693115,
          -9.662043571472168,
          13.36561107635498,
          0.21723835170269012,
          -3.998145341873169,
          -5.5395355224609375,
          4.036173343658447,
          -4.593366622924805,
          -17.268644332885742,
          -5.073619842529297,
          -5.33320951461792,
          -3.979363441467285,
          10.994752883911133,
          -17.14046287536621,
          -3.7288424968719482,
          -1.8275165557861328,
          -3.2213876247406006,
          -3.0732533931732178,
          -21.948427200317383,
          -5.233774185180664,
          -4.797374725341797,
          -0.07493540644645691,
          -2.4350790977478027,
          -4.685932636260986,
          -4.925456523895264,
          -4.946893215179443,
          -7.507706642150879,
          -13.875527381896973,
          -2.1572463512420654,
          -6.619204998016357,
          -4.842125415802002,
          -4.6848320960998535,
          -9.897540092468262,
          4.287170886993408,
          -8.60087776184082,
          -7.051090717315674,
          -0.9802427887916565,
          -17.2530517578125,
          -10.283951759338379,
          1.9062086343765259,
          12.56157112121582,
          4.452224254608154,
          -2.8144161701202393,
          -5.3191118240356445,
          15.04056453704834,
          -0.37290140986442566,
          15.730819702148438,
          15.719959259033203,
          17.229907989501953,
          0.6154715418815613,
          10.29909610748291,
          0.5402956604957581,
          -17.68094253540039,
          1.921796202659607,
          -10.287718772888184,
          -19.66368865966797,
          -5.511045455932617,
          2.8249130249023438,
          4.131968975067139,
          -1.2250601053237915,
          -16.92353630065918,
          -13.552926063537598,
          -8.17404556274414,
          -7.245926380157471,
          1.05442476272583,
          0.06779467314481735,
          4.916317939758301,
          11.71115493774414,
          -4.825817584991455,
          2.4598217010498047,
          -1.5126374959945679,
          -0.7088119387626648,
          8.194016456604004,
          -4.266050338745117,
          -1.525384545326233,
          -4.829663276672363,
          1.1097723245620728,
          -2.245462417602539,
          -11.592223167419434,
          -4.414090156555176,
          2.7331464290618896,
          -20.29391098022461,
          -8.403796195983887,
          -3.7020819187164307,
          -5.130291938781738,
          -20.975444793701172,
          3.9855072498321533,
          2.8824663162231445,
          1.884407639503479,
          3.935494899749756,
          3.359539747238159,
          -4.792784214019775,
          1.613621711730957,
          -3.2109107971191406,
          -1.2938164472579956,
          -10.256587028503418,
          2.725980281829834,
          13.682793617248535,
          1.3026659488677979,
          13.713959693908691,
          7.1228742599487305,
          14.805978775024414,
          -8.783016204833984,
          10.717873573303223,
          -8.613175392150879,
          3.453994035720825,
          -6.291715145111084,
          -8.629195213317871,
          -3.5984206199645996,
          -10.355378150939941,
          2.3942158222198486,
          -0.1641055792570114,
          -0.43251562118530273,
          -11.225651741027832,
          -8.569777488708496,
          -10.227514266967773,
          -11.135324478149414,
          3.594217300415039,
          -5.059831142425537,
          -13.842445373535156,
          9.492300033569336,
          -4.553423881530762,
          -5.208142280578613,
          -8.194058418273926,
          3.5734214782714844,
          3.8133175373077393,
          1.393059253692627,
          -1.7806035280227661,
          -10.668058395385742,
          1.7213506698608398,
          9.207708358764648,
          -5.121639251708984,
          -7.5501251220703125,
          2.746015787124634,
          15.394804000854492,
          5.053668975830078,
          1.446837306022644,
          5.973771095275879,
          2.1568167209625244,
          11.798986434936523,
          5.76309061050415,
          4.254471778869629,
          -1.3524887561798096,
          -0.8581621646881104,
          -2.309969425201416,
          -9.450273513793945,
          6.159298419952393,
          0.8480545282363892,
          4.529661178588867,
          1.3481144905090332,
          0.8728017807006836,
          1.5550856590270996,
          9.07427978515625,
          0.47226184606552124,
          -1.2517954111099243,
          1.6461197137832642,
          -10.408783912658691,
          3.5605359077453613,
          -9.701515197753906,
          -0.9706658720970154,
          -6.884570121765137,
          2.568054437637329,
          3.3037257194519043,
          -10.370755195617676,
          -8.011271476745605,
          3.5814154148101807,
          2.7165939807891846,
          -5.2366509437561035,
          -9.954853057861328,
          -6.343921661376953,
          -3.3886420726776123,
          -11.814760208129883,
          -12.474654197692871,
          1.556200385093689,
          13.804788589477539,
          10.270026206970215,
          14.082715034484863,
          1.0432426929473877,
          -5.1868157386779785,
          5.519333839416504,
          -6.152958393096924,
          -4.45176887512207,
          -10.673288345336914,
          1.6032038927078247,
          -2.823195219039917,
          -6.88928747177124,
          -4.053887367248535,
          -3.612340211868286,
          -6.3089728355407715,
          -5.57649040222168,
          -17.850486755371094,
          -2.521939516067505,
          -7.554486274719238,
          -11.443501472473145,
          -0.847701370716095,
          1.0824857950210571,
          0.804503858089447,
          6.7663445472717285,
          -7.730247497558594,
          1.3581138849258423,
          1.8681596517562866,
          4.7801127433776855,
          -1.03850257396698,
          3.5559065341949463,
          2.005204439163208,
          4.629936695098877,
          5.184735298156738,
          16.50823974609375,
          1.9594169855117798,
          14.315826416015625,
          -5.873428821563721,
          16.50433349609375,
          -5.803872585296631,
          -0.04428322613239288,
          4.994873523712158,
          -9.354528427124023,
          4.049373626708984,
          -0.12969285249710083,
          3.4046788215637207,
          4.495715618133545,
          3.0750210285186768,
          1.352411150932312,
          3.825291633605957,
          0.3193071186542511,
          2.555567741394043,
          4.043850421905518,
          3.809396743774414,
          0.9021419286727905,
          3.911618947982788,
          4.403362274169922,
          5.007390975952148,
          3.3963398933410645,
          4.466280937194824,
          5.162197589874268,
          2.8467679023742676,
          -16.22117042541504,
          2.866739273071289,
          4.6601996421813965,
          0.9778869152069092,
          3.4210121631622314,
          3.2506375312805176,
          1.9315714836120605,
          -15.943524360656738,
          4.573090553283691,
          2.3858675956726074,
          15.682701110839844,
          -3.350398540496826,
          16.065643310546875,
          -1.2559233903884888,
          -2.9337825775146484,
          1.9916965961456299,
          5.649045467376709,
          1.7428667545318604,
          -3.8681743144989014,
          -20.44376564025879,
          11.298357963562012,
          -10.911084175109863,
          10.78494644165039,
          -1.194037675857544,
          -1.8111650943756104,
          1.9954068660736084,
          -8.010605812072754,
          7.906577110290527,
          -0.7790238261222839,
          0.7663648128509521,
          10.636672019958496,
          -1.0673564672470093,
          -3.038378953933716,
          -8.462249755859375,
          0.5069132447242737,
          5.017786502838135,
          0.5275829434394836,
          13.679791450500488,
          4.202174186706543,
          -0.7259897589683533,
          0.5913575291633606,
          0.03911646455526352,
          5.4846882820129395,
          -0.8428736925125122,
          13.038613319396973,
          -7.366942405700684,
          -0.805803120136261,
          6.175121784210205,
          -0.3781626522541046,
          -1.320770025253296,
          -12.958727836608887,
          -10.165031433105469,
          -16.046432495117188,
          -3.920687675476074,
          -16.16400909423828,
          -15.51984977722168,
          -3.7499351501464844,
          -16.04802131652832,
          0.8181670308113098,
          -14.22263240814209,
          0.02630421333014965,
          -15.902575492858887,
          -15.774189949035645,
          2.0674796104431152,
          -11.254677772521973,
          -3.108710527420044,
          2.673241376876831,
          2.7816622257232666,
          -8.378623962402344,
          -15.726896286010742,
          3.630472183227539,
          -15.228646278381348,
          2.507944107055664,
          0.8938708305358887,
          -13.668946266174316,
          2.6754088401794434,
          2.211055278778076,
          2.800478219985962,
          0.7439344525337219,
          13.97598648071289,
          -10.023035049438477,
          -0.9847615361213684,
          -1.0818418264389038,
          -0.8649130463600159,
          10.846933364868164,
          9.267141342163086,
          17.38542938232422,
          0.9947170615196228,
          9.209632873535156,
          15.840195655822754,
          15.627396583557129,
          8.744573593139648,
          15.868223190307617,
          -0.6634788513183594,
          -2.0382771492004395,
          -3.463876247406006,
          -6.899025917053223,
          3.2845609188079834,
          -2.7783925533294678,
          -5.614169120788574,
          -1.1784825325012207,
          10.650032997131348,
          0.03175770118832588,
          14.540769577026367,
          -14.00281810760498
         ],
         "yaxis": "y"
        }
       ],
       "layout": {
        "coloraxis": {
         "colorbar": {
          "title": {
           "text": "popularity"
          }
         },
         "colorscale": [
          [
           0,
           "#0d0887"
          ],
          [
           0.1111111111111111,
           "#46039f"
          ],
          [
           0.2222222222222222,
           "#7201a8"
          ],
          [
           0.3333333333333333,
           "#9c179e"
          ],
          [
           0.4444444444444444,
           "#bd3786"
          ],
          [
           0.5555555555555556,
           "#d8576b"
          ],
          [
           0.6666666666666666,
           "#ed7953"
          ],
          [
           0.7777777777777778,
           "#fb9f3a"
          ],
          [
           0.8888888888888888,
           "#fdca26"
          ],
          [
           1,
           "#f0f921"
          ]
         ]
        },
        "legend": {
         "tracegroupgap": 0
        },
        "margin": {
         "t": 60
        },
        "template": {
         "data": {
          "bar": [
           {
            "error_x": {
             "color": "#2a3f5f"
            },
            "error_y": {
             "color": "#2a3f5f"
            },
            "marker": {
             "line": {
              "color": "#E5ECF6",
              "width": 0.5
             },
             "pattern": {
              "fillmode": "overlay",
              "size": 10,
              "solidity": 0.2
             }
            },
            "type": "bar"
           }
          ],
          "barpolar": [
           {
            "marker": {
             "line": {
              "color": "#E5ECF6",
              "width": 0.5
             },
             "pattern": {
              "fillmode": "overlay",
              "size": 10,
              "solidity": 0.2
             }
            },
            "type": "barpolar"
           }
          ],
          "carpet": [
           {
            "aaxis": {
             "endlinecolor": "#2a3f5f",
             "gridcolor": "white",
             "linecolor": "white",
             "minorgridcolor": "white",
             "startlinecolor": "#2a3f5f"
            },
            "baxis": {
             "endlinecolor": "#2a3f5f",
             "gridcolor": "white",
             "linecolor": "white",
             "minorgridcolor": "white",
             "startlinecolor": "#2a3f5f"
            },
            "type": "carpet"
           }
          ],
          "choropleth": [
           {
            "colorbar": {
             "outlinewidth": 0,
             "ticks": ""
            },
            "type": "choropleth"
           }
          ],
          "contour": [
           {
            "colorbar": {
             "outlinewidth": 0,
             "ticks": ""
            },
            "colorscale": [
             [
              0,
              "#0d0887"
             ],
             [
              0.1111111111111111,
              "#46039f"
             ],
             [
              0.2222222222222222,
              "#7201a8"
             ],
             [
              0.3333333333333333,
              "#9c179e"
             ],
             [
              0.4444444444444444,
              "#bd3786"
             ],
             [
              0.5555555555555556,
              "#d8576b"
             ],
             [
              0.6666666666666666,
              "#ed7953"
             ],
             [
              0.7777777777777778,
              "#fb9f3a"
             ],
             [
              0.8888888888888888,
              "#fdca26"
             ],
             [
              1,
              "#f0f921"
             ]
            ],
            "type": "contour"
           }
          ],
          "contourcarpet": [
           {
            "colorbar": {
             "outlinewidth": 0,
             "ticks": ""
            },
            "type": "contourcarpet"
           }
          ],
          "heatmap": [
           {
            "colorbar": {
             "outlinewidth": 0,
             "ticks": ""
            },
            "colorscale": [
             [
              0,
              "#0d0887"
             ],
             [
              0.1111111111111111,
              "#46039f"
             ],
             [
              0.2222222222222222,
              "#7201a8"
             ],
             [
              0.3333333333333333,
              "#9c179e"
             ],
             [
              0.4444444444444444,
              "#bd3786"
             ],
             [
              0.5555555555555556,
              "#d8576b"
             ],
             [
              0.6666666666666666,
              "#ed7953"
             ],
             [
              0.7777777777777778,
              "#fb9f3a"
             ],
             [
              0.8888888888888888,
              "#fdca26"
             ],
             [
              1,
              "#f0f921"
             ]
            ],
            "type": "heatmap"
           }
          ],
          "heatmapgl": [
           {
            "colorbar": {
             "outlinewidth": 0,
             "ticks": ""
            },
            "colorscale": [
             [
              0,
              "#0d0887"
             ],
             [
              0.1111111111111111,
              "#46039f"
             ],
             [
              0.2222222222222222,
              "#7201a8"
             ],
             [
              0.3333333333333333,
              "#9c179e"
             ],
             [
              0.4444444444444444,
              "#bd3786"
             ],
             [
              0.5555555555555556,
              "#d8576b"
             ],
             [
              0.6666666666666666,
              "#ed7953"
             ],
             [
              0.7777777777777778,
              "#fb9f3a"
             ],
             [
              0.8888888888888888,
              "#fdca26"
             ],
             [
              1,
              "#f0f921"
             ]
            ],
            "type": "heatmapgl"
           }
          ],
          "histogram": [
           {
            "marker": {
             "pattern": {
              "fillmode": "overlay",
              "size": 10,
              "solidity": 0.2
             }
            },
            "type": "histogram"
           }
          ],
          "histogram2d": [
           {
            "colorbar": {
             "outlinewidth": 0,
             "ticks": ""
            },
            "colorscale": [
             [
              0,
              "#0d0887"
             ],
             [
              0.1111111111111111,
              "#46039f"
             ],
             [
              0.2222222222222222,
              "#7201a8"
             ],
             [
              0.3333333333333333,
              "#9c179e"
             ],
             [
              0.4444444444444444,
              "#bd3786"
             ],
             [
              0.5555555555555556,
              "#d8576b"
             ],
             [
              0.6666666666666666,
              "#ed7953"
             ],
             [
              0.7777777777777778,
              "#fb9f3a"
             ],
             [
              0.8888888888888888,
              "#fdca26"
             ],
             [
              1,
              "#f0f921"
             ]
            ],
            "type": "histogram2d"
           }
          ],
          "histogram2dcontour": [
           {
            "colorbar": {
             "outlinewidth": 0,
             "ticks": ""
            },
            "colorscale": [
             [
              0,
              "#0d0887"
             ],
             [
              0.1111111111111111,
              "#46039f"
             ],
             [
              0.2222222222222222,
              "#7201a8"
             ],
             [
              0.3333333333333333,
              "#9c179e"
             ],
             [
              0.4444444444444444,
              "#bd3786"
             ],
             [
              0.5555555555555556,
              "#d8576b"
             ],
             [
              0.6666666666666666,
              "#ed7953"
             ],
             [
              0.7777777777777778,
              "#fb9f3a"
             ],
             [
              0.8888888888888888,
              "#fdca26"
             ],
             [
              1,
              "#f0f921"
             ]
            ],
            "type": "histogram2dcontour"
           }
          ],
          "mesh3d": [
           {
            "colorbar": {
             "outlinewidth": 0,
             "ticks": ""
            },
            "type": "mesh3d"
           }
          ],
          "parcoords": [
           {
            "line": {
             "colorbar": {
              "outlinewidth": 0,
              "ticks": ""
             }
            },
            "type": "parcoords"
           }
          ],
          "pie": [
           {
            "automargin": true,
            "type": "pie"
           }
          ],
          "scatter": [
           {
            "fillpattern": {
             "fillmode": "overlay",
             "size": 10,
             "solidity": 0.2
            },
            "type": "scatter"
           }
          ],
          "scatter3d": [
           {
            "line": {
             "colorbar": {
              "outlinewidth": 0,
              "ticks": ""
             }
            },
            "marker": {
             "colorbar": {
              "outlinewidth": 0,
              "ticks": ""
             }
            },
            "type": "scatter3d"
           }
          ],
          "scattercarpet": [
           {
            "marker": {
             "colorbar": {
              "outlinewidth": 0,
              "ticks": ""
             }
            },
            "type": "scattercarpet"
           }
          ],
          "scattergeo": [
           {
            "marker": {
             "colorbar": {
              "outlinewidth": 0,
              "ticks": ""
             }
            },
            "type": "scattergeo"
           }
          ],
          "scattergl": [
           {
            "marker": {
             "colorbar": {
              "outlinewidth": 0,
              "ticks": ""
             }
            },
            "type": "scattergl"
           }
          ],
          "scattermapbox": [
           {
            "marker": {
             "colorbar": {
              "outlinewidth": 0,
              "ticks": ""
             }
            },
            "type": "scattermapbox"
           }
          ],
          "scatterpolar": [
           {
            "marker": {
             "colorbar": {
              "outlinewidth": 0,
              "ticks": ""
             }
            },
            "type": "scatterpolar"
           }
          ],
          "scatterpolargl": [
           {
            "marker": {
             "colorbar": {
              "outlinewidth": 0,
              "ticks": ""
             }
            },
            "type": "scatterpolargl"
           }
          ],
          "scatterternary": [
           {
            "marker": {
             "colorbar": {
              "outlinewidth": 0,
              "ticks": ""
             }
            },
            "type": "scatterternary"
           }
          ],
          "surface": [
           {
            "colorbar": {
             "outlinewidth": 0,
             "ticks": ""
            },
            "colorscale": [
             [
              0,
              "#0d0887"
             ],
             [
              0.1111111111111111,
              "#46039f"
             ],
             [
              0.2222222222222222,
              "#7201a8"
             ],
             [
              0.3333333333333333,
              "#9c179e"
             ],
             [
              0.4444444444444444,
              "#bd3786"
             ],
             [
              0.5555555555555556,
              "#d8576b"
             ],
             [
              0.6666666666666666,
              "#ed7953"
             ],
             [
              0.7777777777777778,
              "#fb9f3a"
             ],
             [
              0.8888888888888888,
              "#fdca26"
             ],
             [
              1,
              "#f0f921"
             ]
            ],
            "type": "surface"
           }
          ],
          "table": [
           {
            "cells": {
             "fill": {
              "color": "#EBF0F8"
             },
             "line": {
              "color": "white"
             }
            },
            "header": {
             "fill": {
              "color": "#C8D4E3"
             },
             "line": {
              "color": "white"
             }
            },
            "type": "table"
           }
          ]
         },
         "layout": {
          "annotationdefaults": {
           "arrowcolor": "#2a3f5f",
           "arrowhead": 0,
           "arrowwidth": 1
          },
          "autotypenumbers": "strict",
          "coloraxis": {
           "colorbar": {
            "outlinewidth": 0,
            "ticks": ""
           }
          },
          "colorscale": {
           "diverging": [
            [
             0,
             "#8e0152"
            ],
            [
             0.1,
             "#c51b7d"
            ],
            [
             0.2,
             "#de77ae"
            ],
            [
             0.3,
             "#f1b6da"
            ],
            [
             0.4,
             "#fde0ef"
            ],
            [
             0.5,
             "#f7f7f7"
            ],
            [
             0.6,
             "#e6f5d0"
            ],
            [
             0.7,
             "#b8e186"
            ],
            [
             0.8,
             "#7fbc41"
            ],
            [
             0.9,
             "#4d9221"
            ],
            [
             1,
             "#276419"
            ]
           ],
           "sequential": [
            [
             0,
             "#0d0887"
            ],
            [
             0.1111111111111111,
             "#46039f"
            ],
            [
             0.2222222222222222,
             "#7201a8"
            ],
            [
             0.3333333333333333,
             "#9c179e"
            ],
            [
             0.4444444444444444,
             "#bd3786"
            ],
            [
             0.5555555555555556,
             "#d8576b"
            ],
            [
             0.6666666666666666,
             "#ed7953"
            ],
            [
             0.7777777777777778,
             "#fb9f3a"
            ],
            [
             0.8888888888888888,
             "#fdca26"
            ],
            [
             1,
             "#f0f921"
            ]
           ],
           "sequentialminus": [
            [
             0,
             "#0d0887"
            ],
            [
             0.1111111111111111,
             "#46039f"
            ],
            [
             0.2222222222222222,
             "#7201a8"
            ],
            [
             0.3333333333333333,
             "#9c179e"
            ],
            [
             0.4444444444444444,
             "#bd3786"
            ],
            [
             0.5555555555555556,
             "#d8576b"
            ],
            [
             0.6666666666666666,
             "#ed7953"
            ],
            [
             0.7777777777777778,
             "#fb9f3a"
            ],
            [
             0.8888888888888888,
             "#fdca26"
            ],
            [
             1,
             "#f0f921"
            ]
           ]
          },
          "colorway": [
           "#636efa",
           "#EF553B",
           "#00cc96",
           "#ab63fa",
           "#FFA15A",
           "#19d3f3",
           "#FF6692",
           "#B6E880",
           "#FF97FF",
           "#FECB52"
          ],
          "font": {
           "color": "#2a3f5f"
          },
          "geo": {
           "bgcolor": "white",
           "lakecolor": "white",
           "landcolor": "#E5ECF6",
           "showlakes": true,
           "showland": true,
           "subunitcolor": "white"
          },
          "hoverlabel": {
           "align": "left"
          },
          "hovermode": "closest",
          "mapbox": {
           "style": "light"
          },
          "paper_bgcolor": "white",
          "plot_bgcolor": "#E5ECF6",
          "polar": {
           "angularaxis": {
            "gridcolor": "white",
            "linecolor": "white",
            "ticks": ""
           },
           "bgcolor": "#E5ECF6",
           "radialaxis": {
            "gridcolor": "white",
            "linecolor": "white",
            "ticks": ""
           }
          },
          "scene": {
           "xaxis": {
            "backgroundcolor": "#E5ECF6",
            "gridcolor": "white",
            "gridwidth": 2,
            "linecolor": "white",
            "showbackground": true,
            "ticks": "",
            "zerolinecolor": "white"
           },
           "yaxis": {
            "backgroundcolor": "#E5ECF6",
            "gridcolor": "white",
            "gridwidth": 2,
            "linecolor": "white",
            "showbackground": true,
            "ticks": "",
            "zerolinecolor": "white"
           },
           "zaxis": {
            "backgroundcolor": "#E5ECF6",
            "gridcolor": "white",
            "gridwidth": 2,
            "linecolor": "white",
            "showbackground": true,
            "ticks": "",
            "zerolinecolor": "white"
           }
          },
          "shapedefaults": {
           "line": {
            "color": "#2a3f5f"
           }
          },
          "ternary": {
           "aaxis": {
            "gridcolor": "white",
            "linecolor": "white",
            "ticks": ""
           },
           "baxis": {
            "gridcolor": "white",
            "linecolor": "white",
            "ticks": ""
           },
           "bgcolor": "#E5ECF6",
           "caxis": {
            "gridcolor": "white",
            "linecolor": "white",
            "ticks": ""
           }
          },
          "title": {
           "x": 0.05
          },
          "xaxis": {
           "automargin": true,
           "gridcolor": "white",
           "linecolor": "white",
           "ticks": "",
           "title": {
            "standoff": 15
           },
           "zerolinecolor": "white",
           "zerolinewidth": 2
          },
          "yaxis": {
           "automargin": true,
           "gridcolor": "white",
           "linecolor": "white",
           "ticks": "",
           "title": {
            "standoff": 15
           },
           "zerolinecolor": "white",
           "zerolinewidth": 2
          }
         }
        },
        "xaxis": {
         "anchor": "y",
         "domain": [
          0,
          1
         ],
         "title": {
          "text": "tsne_1"
         }
        },
        "yaxis": {
         "anchor": "x",
         "domain": [
          0,
          1
         ],
         "title": {
          "text": "tsne_2"
         }
        }
       }
      }
     },
     "metadata": {},
     "output_type": "display_data"
    }
   ],
   "source": [
    "import plotly.express as px\n",
    "\n",
    "tsne_df = pd.DataFrame(item_tsne, columns=[\"tsne_1\", \"tsne_2\"])\n",
    "tsne_df[\"item_id\"] = np.arange(item_tsne.shape[0])\n",
    "tsne_df = tsne_df.merge(items.reset_index())\n",
    "\n",
    "px.scatter(tsne_df, x=\"tsne_1\", y=\"tsne_2\",\n",
    "           color=\"popularity\",\n",
    "           hover_data=[\"item_id\", \"title\", \"popularity\"])"
   ]
  },
  {
   "cell_type": "markdown",
   "metadata": {},
   "source": [
    "### Exercises\n",
    "\n",
    " - Add another layer to the neural network and retrain, compare train/test error.\n",
    " - Try adding more dropout and change layer sizes.\n"
   ]
  },
  {
   "cell_type": "markdown",
   "metadata": {},
   "source": [
    "### A recommendation function for a given user\n",
    "\n",
    "Once the model is trained, the system can be used to recommend a few items for a user that they haven't seen before. The following code does that.\n",
    "\n",
    "- we use the `model.predict` to compute the ratings a user would have given to all items\n",
    "- we build a function that sorts these items and excludes those the user has already seen."
   ]
  },
  {
   "cell_type": "code",
   "execution_count": 92,
   "metadata": {
    "scrolled": true
   },
   "outputs": [],
   "source": [
    "def recommend(user_id, top_n=10):\n",
    "    item_ids = range(1, items['item_id'].max())\n",
    "    seen_mask = all_ratings[\"user_id\"] == user_id\n",
    "    seen_movies = set(all_ratings[seen_mask][\"item_id\"])\n",
    "    item_ids = list(filter(lambda x: x not in seen_movies, item_ids))\n",
    "\n",
    "    user = np.zeros_like(item_ids)\n",
    "    user[:len(item_ids)] = user_id\n",
    "    items_ = np.array(item_ids)\n",
    "    ratings = model.predict([user, items_]).flatten()\n",
    "    top_items = ratings.argsort()[-top_n:][::-1]\n",
    "    return [(indexed_items.loc[item_id][\"title\"], ratings[item_id]) for item_id in top_items]"
   ]
  },
  {
   "cell_type": "code",
   "execution_count": 89,
   "metadata": {},
   "outputs": [
    {
     "name": "stdout",
     "output_type": "stream",
     "text": [
      "48/48 [==============================] - 0s 1ms/step\n",
      "    4.5: Young Guns (1988)\n",
      "    4.4: Robert A. Heinlein's The Puppet Masters (1994)\n",
      "    4.3: Dead Man Walking (1995)\n",
      "    4.3: Eat Drink Man Woman (1994)\n",
      "    4.2: 20,000 Leagues Under the Sea (1954)\n",
      "    4.2: Celtic Pride (1996)\n",
      "    4.1: Silence of the Lambs, The (1991)\n",
      "    4.1: Letter From Death Row, A (1998)\n",
      "    4.1: Boys of St. Vincent, The (1993)\n",
      "    4.1: Wrong Trousers, The (1993)\n"
     ]
    }
   ],
   "source": [
    "for title, pred_rating in recommend(5):\n",
    "    print(\"    %0.1f: %s\" % (pred_rating, title))"
   ]
  },
  {
   "cell_type": "markdown",
   "metadata": {
    "collapsed": false
   },
   "source": [
    "### Exercises\n",
    "\n",
    "- Try modifying our neural network to improve recommendation. You could try adding more layers, or using a different loss function. \n",
    "- Your goal is to improve the Mean Absolute Error on the test set. Show the results of your best model."
   ]
  },
  {
   "cell_type": "code",
   "execution_count": null,
   "metadata": {
    "collapsed": false
   },
   "outputs": [],
   "source": [
    "# BEST MODEL SO FAR\n",
    "# Extend and improve the model below\n",
    "\n",
    "class RegressionModel(Model):\n",
    "    def __init__(self, embedding_size, max_user_id, max_item_id):\n",
    "        super().__init__()\n",
    "\n",
    "        self.user_embedding = Embedding(output_dim=embedding_size,\n",
    "                                        input_dim=max_user_id + 1,\n",
    "                                        input_length=1,\n",
    "                                        name='user_embedding')\n",
    "        self.item_embedding = Embedding(output_dim=embedding_size,\n",
    "                                        input_dim=max_item_id + 1,\n",
    "                                        input_length=1,\n",
    "                                        name='item_embedding')\n",
    "\n",
    "        # The following two layers don't have parameters.\n",
    "        self.flatten = Flatten()\n",
    "        self.dot = Dot(axes=1)\n",
    "\n",
    "#ADDED CODE:\n",
    "        self.user_transform_layer = Dense(64, activation='relu')\n",
    "        self.item_transform_layer = Dense(64, activation='relu')     \n",
    "    \n",
    "        \n",
    "    def call(self, inputs):\n",
    "        user_inputs = inputs[0]\n",
    "        item_inputs = inputs[1]\n",
    "\n",
    "        user_vecs = self.flatten(self.user_transform_layer(self.user_embedding(user_inputs)))\n",
    "        item_vecs = self.flatten(self.item_transform_layer(self.item_embedding(item_inputs)))\n",
    "\n",
    "        y = self.dot([user_vecs, item_vecs])\n",
    "        return y\n",
    "\n",
    "\n",
    "model = RegressionModel(embedding_size=64, max_user_id=all_ratings['user_id'].max(), max_item_id=all_ratings['item_id'].max())\n",
    "model.compile(optimizer=\"adam\", loss='mae')"
   ]
  },
  {
   "cell_type": "code",
   "execution_count": 159,
   "metadata": {},
   "outputs": [
    {
     "name": "stdout",
     "output_type": "stream",
     "text": [
      "Epoch 1/10\n",
      "1125/1125 [==============================] - 4s 3ms/step - loss: 0.9715 - val_loss: 0.7586\n",
      "Epoch 2/10\n",
      "1125/1125 [==============================] - 3s 2ms/step - loss: 0.7390 - val_loss: 0.7478\n",
      "Epoch 3/10\n",
      "1125/1125 [==============================] - 3s 3ms/step - loss: 0.7165 - val_loss: 0.7402\n",
      "Epoch 4/10\n",
      "1125/1125 [==============================] - 3s 3ms/step - loss: 0.6931 - val_loss: 0.7325\n",
      "Epoch 5/10\n",
      "1125/1125 [==============================] - 3s 3ms/step - loss: 0.6618 - val_loss: 0.7395\n",
      "Epoch 6/10\n",
      "1125/1125 [==============================] - 3s 3ms/step - loss: 0.6294 - val_loss: 0.7535\n",
      "Epoch 7/10\n",
      "1125/1125 [==============================] - 3s 3ms/step - loss: 0.5983 - val_loss: 0.7591\n",
      "Epoch 8/10\n",
      "1125/1125 [==============================] - 4s 3ms/step - loss: 0.5736 - val_loss: 0.7673\n",
      "Epoch 9/10\n",
      "1125/1125 [==============================] - 4s 3ms/step - loss: 0.5503 - val_loss: 0.7752\n",
      "Epoch 10/10\n",
      "1125/1125 [==============================] - 3s 3ms/step - loss: 0.5306 - val_loss: 0.7800\n"
     ]
    }
   ],
   "source": [
    "# Training the model\n",
    "history = model.fit([user_id_train, item_id_train], rating_train,\n",
    "                    batch_size=64, epochs=10, validation_split=0.1,\n",
    "                    shuffle=True)"
   ]
  },
  {
   "cell_type": "code",
   "execution_count": null,
   "metadata": {},
   "outputs": [],
   "source": [
    "# NEXT BEST\n",
    "# Extend and improve the model below\n",
    "\n",
    "class RegressionModel(Model):\n",
    "    def __init__(self, embedding_size, max_user_id, max_item_id):\n",
    "        super().__init__()\n",
    "\n",
    "        self.user_embedding = Embedding(output_dim=embedding_size,\n",
    "                                        input_dim=max_user_id + 1,\n",
    "                                        input_length=1,\n",
    "                                        name='user_embedding')\n",
    "        self.item_embedding = Embedding(output_dim=embedding_size,\n",
    "                                        input_dim=max_item_id + 1,\n",
    "                                        input_length=1,\n",
    "                                        name='item_embedding')\n",
    "\n",
    "        # The following two layers don't have parameters.\n",
    "        self.flatten = Flatten()\n",
    "        self.dot = Dot(axes=1)\n",
    "\n",
    "#ADDED CODE:\n",
    "        self.user_transform_layer = Dense(64, activation='relu')\n",
    "        self.item_transform_layer = Dense(64, activation='relu')     \n",
    "    \n",
    "        \n",
    "    def call(self, inputs):\n",
    "        user_inputs = inputs[0]\n",
    "        item_inputs = inputs[1]\n",
    "\n",
    "        user_vecs = self.flatten(self.user_transform_layer(self.user_embedding(user_inputs)))\n",
    "        item_vecs = self.flatten(self.item_transform_layer(self.item_embedding(item_inputs)))\n",
    "\n",
    "        y = self.dot([user_vecs, item_vecs])\n",
    "        return y\n",
    "\n",
    "\n",
    "model = RegressionModel(embedding_size=64, max_user_id=all_ratings['user_id'].max(), max_item_id=all_ratings['item_id'].max())\n",
    "model.compile(optimizer=\"Nadam\", loss='mae') # Changed optimizer to Nadam "
   ]
  },
  {
   "cell_type": "code",
   "execution_count": 157,
   "metadata": {},
   "outputs": [
    {
     "name": "stdout",
     "output_type": "stream",
     "text": [
      "Epoch 1/10\n",
      "1125/1125 [==============================] - 4s 3ms/step - loss: 0.9551 - val_loss: 0.7570\n",
      "Epoch 2/10\n",
      "1125/1125 [==============================] - 3s 2ms/step - loss: 0.7429 - val_loss: 0.7488\n",
      "Epoch 3/10\n",
      "1125/1125 [==============================] - 3s 2ms/step - loss: 0.7258 - val_loss: 0.7350\n",
      "Epoch 4/10\n",
      "1125/1125 [==============================] - 3s 2ms/step - loss: 0.7094 - val_loss: 0.7340\n",
      "Epoch 5/10\n",
      "1125/1125 [==============================] - 3s 3ms/step - loss: 0.6990 - val_loss: 0.7306\n",
      "Epoch 6/10\n",
      "1125/1125 [==============================] - 3s 3ms/step - loss: 0.6877 - val_loss: 0.7301\n",
      "Epoch 7/10\n",
      "1125/1125 [==============================] - 3s 3ms/step - loss: 0.6748 - val_loss: 0.7321\n",
      "Epoch 8/10\n",
      "1125/1125 [==============================] - 3s 3ms/step - loss: 0.6573 - val_loss: 0.7357\n",
      "Epoch 9/10\n",
      "1125/1125 [==============================] - 3s 3ms/step - loss: 0.6385 - val_loss: 0.7398\n",
      "Epoch 10/10\n",
      "1125/1125 [==============================] - 3s 3ms/step - loss: 0.6190 - val_loss: 0.7437\n"
     ]
    }
   ],
   "source": [
    "# Training the model\n",
    "history = model.fit([user_id_train, item_id_train], rating_train,\n",
    "                    batch_size=64, epochs=10, validation_split=0.1,\n",
    "                    shuffle=True)"
   ]
  },
  {
   "cell_type": "code",
   "execution_count": null,
   "metadata": {},
   "outputs": [],
   "source": [
    "#NOT THE BEST\n",
    "\n",
    "# Extend and improve the model below\n",
    "\n",
    "from tensorflow.keras.optimizers import Nadam\n",
    "from tensorflow.keras.layers import Dropout\n",
    "from tensorflow.keras import regularizers\n",
    "\n",
    "\n",
    "class RegressionModel(Model):\n",
    "    def __init__(self, embedding_size, max_user_id, max_item_id):\n",
    "        super().__init__()\n",
    "\n",
    "        self.user_embedding = Embedding(output_dim=embedding_size,\n",
    "                                        input_dim=max_user_id + 1,\n",
    "                                        input_length=1,\n",
    "                                        name='user_embedding')\n",
    "        self.item_embedding = Embedding(output_dim=embedding_size,\n",
    "                                        input_dim=max_item_id + 1,\n",
    "                                        input_length=1,\n",
    "                                        name='item_embedding')\n",
    "\n",
    "        # The following two layers don't have parameters.\n",
    "        self.flatten = Flatten()\n",
    "        self.dot = Dot(axes=1)\n",
    "\n",
    "#ALTERNATIVE  CODE:\n",
    "    \n",
    "        self.user_transform_layer = Dense(64, activation='relu', kernel_regularizer=regularizers.l2(0.01))\n",
    "        self.item_transform_layer = Dense(64, activation='relu', kernel_regularizer=regularizers.l2(0.01))\n",
    "        self.user_dropout = Dropout(0.2)\n",
    "        self.item_dropout = Dropout(0.2)\n",
    "\n",
    "    def call(self, inputs):\n",
    "        user_inputs = inputs[0]\n",
    "        item_inputs = inputs[1]\n",
    "\n",
    "        user_vecs = self.flatten(self.user_transform_layer(self.user_embedding(user_inputs)))\n",
    "        item_vecs = self.flatten(self.item_transform_layer(self.item_embedding(item_inputs)))\n",
    "\n",
    "        y = self.dot([user_vecs, item_vecs])\n",
    "        return y\n",
    "\n",
    "\n",
    "model = RegressionModel(embedding_size=64, max_user_id=all_ratings['user_id'].max(), max_item_id=all_ratings['item_id'].max())\n",
    "model.compile(optimizer=\"Nadam\", loss='mae')\n",
    "\n",
    "# Dropout did not help, changing value did not help much, if I understood how to use that properly"
   ]
  },
  {
   "cell_type": "code",
   "execution_count": 154,
   "metadata": {
    "collapsed": false
   },
   "outputs": [
    {
     "name": "stdout",
     "output_type": "stream",
     "text": [
      "Epoch 1/10\n",
      "1125/1125 [==============================] - 4s 2ms/step - loss: 1.0879 - val_loss: 0.7752\n",
      "Epoch 2/10\n",
      "1125/1125 [==============================] - 3s 2ms/step - loss: 0.7576 - val_loss: 0.7629\n",
      "Epoch 3/10\n",
      "1125/1125 [==============================] - 3s 2ms/step - loss: 0.7454 - val_loss: 0.7591\n",
      "Epoch 4/10\n",
      "1125/1125 [==============================] - 3s 2ms/step - loss: 0.7393 - val_loss: 0.7543\n",
      "Epoch 5/10\n",
      "1125/1125 [==============================] - 3s 2ms/step - loss: 0.7347 - val_loss: 0.7550\n",
      "Epoch 6/10\n",
      "1125/1125 [==============================] - 3s 2ms/step - loss: 0.7320 - val_loss: 0.7517\n",
      "Epoch 7/10\n",
      "1125/1125 [==============================] - 3s 3ms/step - loss: 0.7297 - val_loss: 0.7533\n",
      "Epoch 8/10\n",
      "1125/1125 [==============================] - 3s 3ms/step - loss: 0.7284 - val_loss: 0.7510\n",
      "Epoch 9/10\n",
      "1125/1125 [==============================] - 3s 3ms/step - loss: 0.7270 - val_loss: 0.7516\n",
      "Epoch 10/10\n",
      "1125/1125 [==============================] - 3s 3ms/step - loss: 0.7259 - val_loss: 0.7500\n"
     ]
    }
   ],
   "source": [
    "# Training the model\n",
    "history = model.fit([user_id_train, item_id_train], rating_train,\n",
    "                    batch_size=64, epochs=10, validation_split=0.1,\n",
    "                    shuffle=True)"
   ]
  }
 ],
 "metadata": {
  "kernelspec": {
   "display_name": "dsi_participant",
   "language": "python",
   "name": "python3"
  },
  "language_info": {
   "codemirror_mode": {
    "name": "ipython",
    "version": 3
   },
   "file_extension": ".py",
   "mimetype": "text/x-python",
   "name": "python",
   "nbconvert_exporter": "python",
   "pygments_lexer": "ipython3",
   "version": "3.9.15"
  }
 },
 "nbformat": 4,
 "nbformat_minor": 4
}
